{
 "cells": [
  {
   "cell_type": "markdown",
   "metadata": {},
   "source": [
    "# DISTILBERT Multilanguage"
   ]
  },
  {
   "cell_type": "markdown",
   "metadata": {},
   "source": [
    "#### Configure NVIDIA GPU as Default"
   ]
  },
  {
   "cell_type": "code",
   "execution_count": 1,
   "metadata": {},
   "outputs": [
    {
     "name": "stdout",
     "output_type": "stream",
     "text": [
      "Number of GPU:  1\n",
      "GPU Name:  NVIDIA GeForce GTX 1650\n",
      "GPU: NVIDIA GeForce GTX 1650 is available.\n"
     ]
    }
   ],
   "source": [
    "import torch\n",
    "\n",
    "print(\"Number of GPU: \", torch.cuda.device_count())\n",
    "print(\"GPU Name: \", torch.cuda.get_device_name())\n",
    "\n",
    "if torch.cuda.is_available():\n",
    "    print(f\"GPU: {torch.cuda.get_device_name(0)} is available.\")\n",
    "else:\n",
    "    print(\"No GPU available. Training will run on CPU.\")"
   ]
  },
  {
   "cell_type": "code",
   "execution_count": 2,
   "metadata": {},
   "outputs": [
    {
     "name": "stdout",
     "output_type": "stream",
     "text": [
      "Selected Device: cuda\n"
     ]
    }
   ],
   "source": [
    "#Configure device: Set the device configuration to GPU using the torch.device class in PyTorch:\n",
    "\n",
    "device = torch.device(\"cuda\" if torch.cuda.is_available() else \"cpu\")\n",
    "print(\"Selected Device:\", device)"
   ]
  },
  {
   "cell_type": "markdown",
   "metadata": {},
   "source": [
    "### Importing Library"
   ]
  },
  {
   "cell_type": "code",
   "execution_count": 3,
   "metadata": {},
   "outputs": [],
   "source": [
    "import pandas as pd\n",
    "import numpy as np"
   ]
  },
  {
   "cell_type": "markdown",
   "metadata": {},
   "source": [
    "### Load Data"
   ]
  },
  {
   "cell_type": "code",
   "execution_count": 4,
   "metadata": {},
   "outputs": [
    {
     "data": {
      "text/html": [
       "<div>\n",
       "<style scoped>\n",
       "    .dataframe tbody tr th:only-of-type {\n",
       "        vertical-align: middle;\n",
       "    }\n",
       "\n",
       "    .dataframe tbody tr th {\n",
       "        vertical-align: top;\n",
       "    }\n",
       "\n",
       "    .dataframe thead th {\n",
       "        text-align: right;\n",
       "    }\n",
       "</style>\n",
       "<table border=\"1\" class=\"dataframe\">\n",
       "  <thead>\n",
       "    <tr style=\"text-align: right;\">\n",
       "      <th></th>\n",
       "      <th>content</th>\n",
       "      <th>score</th>\n",
       "      <th>sentiment</th>\n",
       "    </tr>\n",
       "  </thead>\n",
       "  <tbody>\n",
       "    <tr>\n",
       "      <th>0</th>\n",
       "      <td>pelayanan buruk trouble tidak ada info era dig...</td>\n",
       "      <td>1</td>\n",
       "      <td>0</td>\n",
       "    </tr>\n",
       "    <tr>\n",
       "      <th>1</th>\n",
       "      <td>kenapa sih ini verif aplikasinya susah banget ...</td>\n",
       "      <td>1</td>\n",
       "      <td>0</td>\n",
       "    </tr>\n",
       "    <tr>\n",
       "      <th>2</th>\n",
       "      <td>notifikasi transaksi tidak bisa di edit hapus ...</td>\n",
       "      <td>1</td>\n",
       "      <td>0</td>\n",
       "    </tr>\n",
       "    <tr>\n",
       "      <th>3</th>\n",
       "      <td>tidak bisa dibuka selalu force close talkback ...</td>\n",
       "      <td>1</td>\n",
       "      <td>0</td>\n",
       "    </tr>\n",
       "    <tr>\n",
       "      <th>4</th>\n",
       "      <td>ok bagus dan membantun</td>\n",
       "      <td>5</td>\n",
       "      <td>2</td>\n",
       "    </tr>\n",
       "  </tbody>\n",
       "</table>\n",
       "</div>"
      ],
      "text/plain": [
       "                                             content  score  sentiment\n",
       "0  pelayanan buruk trouble tidak ada info era dig...      1          0\n",
       "1  kenapa sih ini verif aplikasinya susah banget ...      1          0\n",
       "2  notifikasi transaksi tidak bisa di edit hapus ...      1          0\n",
       "3  tidak bisa dibuka selalu force close talkback ...      1          0\n",
       "4                             ok bagus dan membantun      5          2"
      ]
     },
     "execution_count": 4,
     "metadata": {},
     "output_type": "execute_result"
    }
   ],
   "source": [
    "df = pd.read_csv('bca_preprocessed_half.csv', delimiter=',')\n",
    "df.head(5)"
   ]
  },
  {
   "cell_type": "code",
   "execution_count": 5,
   "metadata": {},
   "outputs": [
    {
     "data": {
      "text/plain": [
       "(7000, 3)"
      ]
     },
     "execution_count": 5,
     "metadata": {},
     "output_type": "execute_result"
    }
   ],
   "source": [
    "df.shape"
   ]
  },
  {
   "cell_type": "markdown",
   "metadata": {},
   "source": [
    "### Find and clean missing data pt2"
   ]
  },
  {
   "cell_type": "code",
   "execution_count": 6,
   "metadata": {},
   "outputs": [
    {
     "data": {
      "text/plain": [
       "content      0\n",
       "score        0\n",
       "sentiment    0\n",
       "dtype: int64"
      ]
     },
     "execution_count": 6,
     "metadata": {},
     "output_type": "execute_result"
    }
   ],
   "source": [
    "df.isnull().sum()"
   ]
  },
  {
   "cell_type": "code",
   "execution_count": 7,
   "metadata": {},
   "outputs": [],
   "source": [
    "bca_clean_again = df.dropna()"
   ]
  },
  {
   "cell_type": "code",
   "execution_count": 8,
   "metadata": {},
   "outputs": [
    {
     "data": {
      "text/plain": [
       "content      0\n",
       "score        0\n",
       "sentiment    0\n",
       "dtype: int64"
      ]
     },
     "execution_count": 8,
     "metadata": {},
     "output_type": "execute_result"
    }
   ],
   "source": [
    "bca_clean_again.isnull().sum()"
   ]
  },
  {
   "cell_type": "code",
   "execution_count": 9,
   "metadata": {},
   "outputs": [
    {
     "data": {
      "text/plain": [
       "(7000, 3)"
      ]
     },
     "execution_count": 9,
     "metadata": {},
     "output_type": "execute_result"
    }
   ],
   "source": [
    "bca_clean_again.shape"
   ]
  },
  {
   "cell_type": "markdown",
   "metadata": {},
   "source": [
    "### Check Data Balance when Splitting🪓"
   ]
  },
  {
   "cell_type": "code",
   "execution_count": 10,
   "metadata": {},
   "outputs": [],
   "source": [
    "#Split features (content) and labels (sentiment)\n",
    "\n",
    "X = bca_clean_again['content']\n",
    "y = bca_clean_again['sentiment']"
   ]
  },
  {
   "cell_type": "code",
   "execution_count": 11,
   "metadata": {},
   "outputs": [
    {
     "name": "stdout",
     "output_type": "stream",
     "text": [
      "Before balancing:\n",
      "sentiment\n",
      "0    4181\n",
      "2    2188\n",
      "1     631\n",
      "Name: count, dtype: int64\n"
     ]
    }
   ],
   "source": [
    "# Check dataset balance and apply oversampling for \"Neutral\" class if needed\n",
    "print(\"Before balancing:\")\n",
    "print(y.value_counts())"
   ]
  },
  {
   "cell_type": "markdown",
   "metadata": {},
   "source": [
    "##### Melakukan balancing data karena kelas 0 mempunyai values yang sedikit dan dapat berpengaruh kepada performa yang tidak baik menggunakan Oversampling: duplikasi class minoritas untuk menyeimbangkan dataset."
   ]
  },
  {
   "cell_type": "code",
   "execution_count": 12,
   "metadata": {},
   "outputs": [],
   "source": [
    "# Oversampling technique\n",
    "from sklearn.utils import resample\n",
    "\n",
    "\n",
    "bca_clean_again = pd.concat([X, y], axis=1)\n",
    "\n",
    "#separating each class\n",
    "\n",
    "class_0 = bca_clean_again[bca_clean_again['sentiment'] == 0]\n",
    "class_1 = bca_clean_again[bca_clean_again['sentiment'] == 1]\n",
    "class_2 = bca_clean_again[bca_clean_again['sentiment'] == 2]\n",
    "\n",
    "#oversampling neutral class 1 with majority class 2\n",
    "\n",
    "class_1_oversampled = resample(class_1, replace=True, n_samples=len(class_0), random_state=42)\n",
    "class_2_oversampled = resample(class_2, replace=True, n_samples=len(class_0), random_state=42)\n",
    "\n",
    "#combine all class\n",
    "bca_clean_again = pd.concat([class_0, class_1_oversampled, class_2_oversampled])\n",
    "\n",
    "#shuffling the data\n",
    "bca_clean_again = bca_clean_again.sample(frac=1, random_state=42)\n",
    "\n",
    "X = bca_clean_again['content']\n",
    "y = bca_clean_again['sentiment']"
   ]
  },
  {
   "cell_type": "code",
   "execution_count": 13,
   "metadata": {},
   "outputs": [
    {
     "name": "stdout",
     "output_type": "stream",
     "text": [
      "After balancing:\n",
      "sentiment\n",
      "0    4181\n",
      "2    4181\n",
      "1    4181\n",
      "Name: count, dtype: int64\n"
     ]
    }
   ],
   "source": [
    "# Check dataset balance and apply oversampling for \"Neutral\" class if needed\n",
    "print(\"After balancing:\")\n",
    "print(y.value_counts())"
   ]
  },
  {
   "cell_type": "markdown",
   "metadata": {},
   "source": [
    "### Splitting Data🪓🪓🪓 , 80:20 "
   ]
  },
  {
   "cell_type": "code",
   "execution_count": 14,
   "metadata": {},
   "outputs": [],
   "source": [
    "# from sklearn.model_selection import train_test_split\n",
    "\n",
    "# X_train, X_test, y_train, y_test = train_test_split(X, y, test_size=0.2, \n",
    "#                                                     random_state=42, stratify=y)\n",
    "\n",
    "# #split 20% test+validation into 10%test dan 10%validation\n",
    "# X_train, X_val, y_train, y_val = train_test_split(X_train, y_train, \n",
    "#                                                test_size=0.2, random_state=42)"
   ]
  },
  {
   "cell_type": "code",
   "execution_count": 14,
   "metadata": {},
   "outputs": [],
   "source": [
    "from sklearn.model_selection import train_test_split\n",
    "\n",
    "X_train, X_temp, y_train, y_temp = train_test_split(X, y, test_size=0.2, \n",
    "                                                    random_state=42, stratify=y)\n",
    "\n",
    "#split 20% test+validation into 10%test dan 10%validation\n",
    "X_val, X_test, y_val, y_test = train_test_split(X_temp, y_temp, \n",
    "                                               test_size=0.5, random_state=42,stratify=y_temp)"
   ]
  },
  {
   "cell_type": "code",
   "execution_count": 15,
   "metadata": {},
   "outputs": [
    {
     "name": "stdout",
     "output_type": "stream",
     "text": [
      "Training set size: 10034\n",
      "Validation set size: 1254\n",
      "Test set size: 1255\n"
     ]
    }
   ],
   "source": [
    "print(f\"Training set size: {len(X_train)}\")\n",
    "print(f\"Validation set size: {len(X_val)}\")\n",
    "print(f\"Test set size: {len(X_test)}\")"
   ]
  },
  {
   "cell_type": "markdown",
   "metadata": {},
   "source": [
    "#### Build Tokenizer with DistilBert-base-Multilingual-uncased"
   ]
  },
  {
   "cell_type": "code",
   "execution_count": 16,
   "metadata": {},
   "outputs": [],
   "source": [
    "# import transformer library\n",
    "from transformers import AutoTokenizer, DistilBertModel, DistilBertForSequenceClassification, DistilBertTokenizer, AutoModelForSequenceClassification"
   ]
  },
  {
   "cell_type": "code",
   "execution_count": 17,
   "metadata": {},
   "outputs": [],
   "source": [
    "tokenizer = AutoTokenizer.from_pretrained(\"distilbert/distilbert-base-multilingual-cased\")"
   ]
  },
  {
   "cell_type": "markdown",
   "metadata": {},
   "source": [
    "#### Convert Dataset to Hugging Face Format"
   ]
  },
  {
   "cell_type": "code",
   "execution_count": 18,
   "metadata": {},
   "outputs": [
    {
     "name": "stdout",
     "output_type": "stream",
     "text": [
      "{'text': 'kecewa sekali kenapa sekarang selalu verivikasi data terusmenyusahkan saja', 'label': 0, '__index_level_0__': 6277}\n"
     ]
    }
   ],
   "source": [
    "from datasets import Dataset\n",
    "\n",
    "def convert_dataset(X, y):\n",
    "    return Dataset.from_pandas(pd.DataFrame({\"text\": X, \"label\": y}))\n",
    "\n",
    "train_dataset = convert_dataset(X_train, y_train)\n",
    "validation_dataset = convert_dataset(X_val, y_val)\n",
    "test_dataset = convert_dataset(X_test, y_test)\n",
    "\n",
    "label_map = {0: \"NEGATIVE\", 1: \"NEUTRAL\", 2: \"POSITIVE\"}\n",
    "\n",
    "print(train_dataset[0])"
   ]
  },
  {
   "cell_type": "markdown",
   "metadata": {},
   "source": [
    "#### Create tokenizer function"
   ]
  },
  {
   "cell_type": "code",
   "execution_count": 19,
   "metadata": {},
   "outputs": [
    {
     "name": "stdout",
     "output_type": "stream",
     "text": [
      "Dataset({\n",
      "    features: ['text', 'label', '__index_level_0__'],\n",
      "    num_rows: 10034\n",
      "})\n"
     ]
    }
   ],
   "source": [
    "print(train_dataset)"
   ]
  },
  {
   "cell_type": "code",
   "execution_count": 20,
   "metadata": {},
   "outputs": [
    {
     "data": {
      "application/vnd.jupyter.widget-view+json": {
       "model_id": "f30f10a486a34fdd8ec29608f36f6bd1",
       "version_major": 2,
       "version_minor": 0
      },
      "text/plain": [
       "Map:   0%|          | 0/10034 [00:00<?, ? examples/s]"
      ]
     },
     "metadata": {},
     "output_type": "display_data"
    },
    {
     "data": {
      "application/vnd.jupyter.widget-view+json": {
       "model_id": "8ca6f48585774393a5b4d5502f00ca60",
       "version_major": 2,
       "version_minor": 0
      },
      "text/plain": [
       "Map:   0%|          | 0/1254 [00:00<?, ? examples/s]"
      ]
     },
     "metadata": {},
     "output_type": "display_data"
    },
    {
     "data": {
      "application/vnd.jupyter.widget-view+json": {
       "model_id": "28db42c5a16e49f7b0b7bb8b3d1954cb",
       "version_major": 2,
       "version_minor": 0
      },
      "text/plain": [
       "Map:   0%|          | 0/1255 [00:00<?, ? examples/s]"
      ]
     },
     "metadata": {},
     "output_type": "display_data"
    }
   ],
   "source": [
    "def tokenize_function(examples):\n",
    "    return tokenizer(examples[\"text\"], padding=\"max_length\", truncation=True, max_length=128)\n",
    "\n",
    "#apply tokenizer to datasets\n",
    "train_dataset = train_dataset.map(tokenize_function, batched=True)\n",
    "validation_dataset = validation_dataset.map(tokenize_function, batched=True)\n",
    "test_dataset= test_dataset.map(tokenize_function, batched=True)\n",
    "\n",
    "# Remove text column as it's no longer needed\n",
    "train_dataset = train_dataset.remove_columns([\"text\"])\n",
    "validation_dataset = validation_dataset.remove_columns([\"text\"])\n",
    "test_dataset= test_dataset.remove_columns([\"text\"])\n",
    "\n",
    "# Convert labels to int format\n",
    "train_dataset = train_dataset.with_format(\"torch\")\n",
    "validation_dataset  = validation_dataset.with_format(\"torch\")\n",
    "test_dataset = test_dataset.with_format(\"torch\")"
   ]
  },
  {
   "cell_type": "code",
   "execution_count": 21,
   "metadata": {},
   "outputs": [],
   "source": [
    "import evaluate\n",
    "\n",
    "metric = evaluate.load(\"accuracy\")\n",
    "\n",
    "def compute_metrics(eval_pred):\n",
    "    logits, labels = eval_pred\n",
    "    predictions = np.argmax(logits, axis=-1)\n",
    "    accuracy = metric.compute(predictions=predictions, references=labels)\n",
    "    return {\"accuracy\": accuracy[\"accuracy\"]}"
   ]
  },
  {
   "cell_type": "markdown",
   "metadata": {},
   "source": [
    "#### Define Trainer and looping"
   ]
  },
  {
   "cell_type": "code",
   "execution_count": 22,
   "metadata": {},
   "outputs": [
    {
     "name": "stderr",
     "output_type": "stream",
     "text": [
      "Some weights of DistilBertForSequenceClassification were not initialized from the model checkpoint at distilbert/distilbert-base-multilingual-cased and are newly initialized: ['classifier.bias', 'classifier.weight', 'pre_classifier.bias', 'pre_classifier.weight']\n",
      "You should probably TRAIN this model on a down-stream task to be able to use it for predictions and inference.\n",
      "C:\\Users\\Darren\\AppData\\Local\\Temp\\ipykernel_33664\\3774145117.py:34: FutureWarning: `tokenizer` is deprecated and will be removed in version 5.0.0 for `Trainer.__init__`. Use `processing_class` instead.\n",
      "  trainer = Trainer(\n"
     ]
    },
    {
     "data": {
      "application/vnd.jupyter.widget-view+json": {
       "model_id": "4ff826320d6f4149840db60482a00493",
       "version_major": 2,
       "version_minor": 0
      },
      "text/plain": [
       "  0%|          | 0/6270 [00:00<?, ?it/s]"
      ]
     },
     "metadata": {},
     "output_type": "display_data"
    },
    {
     "name": "stdout",
     "output_type": "stream",
     "text": [
      "{'loss': 1.0787, 'grad_norm': 5.042455673217773, 'learning_rate': 3e-05, 'epoch': 0.08}\n",
      "{'loss': 1.0094, 'grad_norm': 7.606345176696777, 'learning_rate': 2.9513776337115074e-05, 'epoch': 0.16}\n",
      "{'loss': 0.946, 'grad_norm': 7.4939656257629395, 'learning_rate': 2.9027552674230147e-05, 'epoch': 0.24}\n",
      "{'loss': 0.9085, 'grad_norm': 35.27448654174805, 'learning_rate': 2.854132901134522e-05, 'epoch': 0.32}\n",
      "{'loss': 0.8716, 'grad_norm': 21.06980323791504, 'learning_rate': 2.8055105348460293e-05, 'epoch': 0.4}\n",
      "{'loss': 0.8017, 'grad_norm': 9.231054306030273, 'learning_rate': 2.7568881685575363e-05, 'epoch': 0.48}\n",
      "{'loss': 0.8154, 'grad_norm': 12.304648399353027, 'learning_rate': 2.708265802269044e-05, 'epoch': 0.56}\n",
      "{'loss': 0.7642, 'grad_norm': 13.698321342468262, 'learning_rate': 2.6596434359805513e-05, 'epoch': 0.64}\n",
      "{'loss': 0.7285, 'grad_norm': 19.8933048248291, 'learning_rate': 2.6110210696920583e-05, 'epoch': 0.72}\n",
      "{'loss': 0.6993, 'grad_norm': 15.795405387878418, 'learning_rate': 2.5623987034035656e-05, 'epoch': 0.8}\n",
      "{'loss': 0.658, 'grad_norm': 30.030622482299805, 'learning_rate': 2.5137763371150732e-05, 'epoch': 0.88}\n",
      "{'loss': 0.5873, 'grad_norm': 20.880640029907227, 'learning_rate': 2.4651539708265802e-05, 'epoch': 0.96}\n"
     ]
    },
    {
     "data": {
      "application/vnd.jupyter.widget-view+json": {
       "model_id": "870ed59d0c034e43a7ba468ce2e71263",
       "version_major": 2,
       "version_minor": 0
      },
      "text/plain": [
       "  0%|          | 0/314 [00:00<?, ?it/s]"
      ]
     },
     "metadata": {},
     "output_type": "display_data"
    },
    {
     "name": "stdout",
     "output_type": "stream",
     "text": [
      "{'eval_loss': 0.5541616082191467, 'eval_accuracy': 0.7783094098883573, 'eval_runtime': 10.8054, 'eval_samples_per_second': 116.053, 'eval_steps_per_second': 29.06, 'epoch': 1.0}\n",
      "{'loss': 0.5596, 'grad_norm': 36.78740310668945, 'learning_rate': 2.4165316045380875e-05, 'epoch': 1.04}\n",
      "{'loss': 0.4634, 'grad_norm': 22.5073184967041, 'learning_rate': 2.367909238249595e-05, 'epoch': 1.12}\n",
      "{'loss': 0.4399, 'grad_norm': 2.0771987438201904, 'learning_rate': 2.319286871961102e-05, 'epoch': 1.2}\n",
      "{'loss': 0.4678, 'grad_norm': 13.953669548034668, 'learning_rate': 2.2706645056726095e-05, 'epoch': 1.28}\n",
      "{'loss': 0.384, 'grad_norm': 23.79184913635254, 'learning_rate': 2.2220421393841165e-05, 'epoch': 1.35}\n",
      "{'loss': 0.409, 'grad_norm': 17.989072799682617, 'learning_rate': 2.173419773095624e-05, 'epoch': 1.43}\n",
      "{'loss': 0.4284, 'grad_norm': 20.19340705871582, 'learning_rate': 2.1247974068071314e-05, 'epoch': 1.51}\n",
      "{'loss': 0.3496, 'grad_norm': 24.251359939575195, 'learning_rate': 2.0761750405186384e-05, 'epoch': 1.59}\n",
      "{'loss': 0.3582, 'grad_norm': 17.746614456176758, 'learning_rate': 2.027552674230146e-05, 'epoch': 1.67}\n",
      "{'loss': 0.3535, 'grad_norm': 43.19690704345703, 'learning_rate': 1.9789303079416534e-05, 'epoch': 1.75}\n",
      "{'loss': 0.4237, 'grad_norm': 57.95256423950195, 'learning_rate': 1.9303079416531604e-05, 'epoch': 1.83}\n",
      "{'loss': 0.3689, 'grad_norm': 16.329233169555664, 'learning_rate': 1.8816855753646677e-05, 'epoch': 1.91}\n",
      "{'loss': 0.3634, 'grad_norm': 24.189884185791016, 'learning_rate': 1.8330632090761753e-05, 'epoch': 1.99}\n"
     ]
    },
    {
     "data": {
      "application/vnd.jupyter.widget-view+json": {
       "model_id": "a62f2227dec0464587ea4524255b0357",
       "version_major": 2,
       "version_minor": 0
      },
      "text/plain": [
       "  0%|          | 0/314 [00:00<?, ?it/s]"
      ]
     },
     "metadata": {},
     "output_type": "display_data"
    },
    {
     "name": "stdout",
     "output_type": "stream",
     "text": [
      "{'eval_loss': 0.3986365795135498, 'eval_accuracy': 0.8732057416267942, 'eval_runtime': 10.9264, 'eval_samples_per_second': 114.767, 'eval_steps_per_second': 28.738, 'epoch': 2.0}\n",
      "{'loss': 0.227, 'grad_norm': 32.547237396240234, 'learning_rate': 1.7844408427876823e-05, 'epoch': 2.07}\n",
      "{'loss': 0.2702, 'grad_norm': 263.1761169433594, 'learning_rate': 1.7358184764991896e-05, 'epoch': 2.15}\n",
      "{'loss': 0.2249, 'grad_norm': 0.5042179226875305, 'learning_rate': 1.687196110210697e-05, 'epoch': 2.23}\n",
      "{'loss': 0.2619, 'grad_norm': 131.53367614746094, 'learning_rate': 1.6385737439222043e-05, 'epoch': 2.31}\n",
      "{'loss': 0.2492, 'grad_norm': 0.21270166337490082, 'learning_rate': 1.5899513776337116e-05, 'epoch': 2.39}\n",
      "{'loss': 0.2115, 'grad_norm': 0.1252165138721466, 'learning_rate': 1.541329011345219e-05, 'epoch': 2.47}\n",
      "{'loss': 0.2459, 'grad_norm': 0.10374912619590759, 'learning_rate': 1.492706645056726e-05, 'epoch': 2.55}\n",
      "{'loss': 0.2193, 'grad_norm': 109.40351104736328, 'learning_rate': 1.4440842787682335e-05, 'epoch': 2.63}\n",
      "{'loss': 0.244, 'grad_norm': 106.63814544677734, 'learning_rate': 1.3954619124797407e-05, 'epoch': 2.71}\n",
      "{'loss': 0.2396, 'grad_norm': 7.661800384521484, 'learning_rate': 1.346839546191248e-05, 'epoch': 2.79}\n",
      "{'loss': 0.2799, 'grad_norm': 131.18711853027344, 'learning_rate': 1.2982171799027553e-05, 'epoch': 2.87}\n",
      "{'loss': 0.2754, 'grad_norm': 0.13980932533740997, 'learning_rate': 1.2495948136142626e-05, 'epoch': 2.95}\n"
     ]
    },
    {
     "data": {
      "application/vnd.jupyter.widget-view+json": {
       "model_id": "768b59d970ad4ba594de5b6513379949",
       "version_major": 2,
       "version_minor": 0
      },
      "text/plain": [
       "  0%|          | 0/314 [00:00<?, ?it/s]"
      ]
     },
     "metadata": {},
     "output_type": "display_data"
    },
    {
     "name": "stdout",
     "output_type": "stream",
     "text": [
      "{'eval_loss': 0.5688123106956482, 'eval_accuracy': 0.8899521531100478, 'eval_runtime': 10.8224, 'eval_samples_per_second': 115.87, 'eval_steps_per_second': 29.014, 'epoch': 3.0}\n",
      "{'loss': 0.1943, 'grad_norm': 5.178722381591797, 'learning_rate': 1.2009724473257698e-05, 'epoch': 3.03}\n",
      "{'loss': 0.1399, 'grad_norm': 130.3580780029297, 'learning_rate': 1.1523500810372772e-05, 'epoch': 3.11}\n",
      "{'loss': 0.1307, 'grad_norm': 15.403181076049805, 'learning_rate': 1.1037277147487844e-05, 'epoch': 3.19}\n",
      "{'loss': 0.1264, 'grad_norm': 0.04053153097629547, 'learning_rate': 1.0551053484602917e-05, 'epoch': 3.27}\n",
      "{'loss': 0.0894, 'grad_norm': 138.39405822753906, 'learning_rate': 1.0064829821717992e-05, 'epoch': 3.35}\n",
      "{'loss': 0.2, 'grad_norm': 0.10175640136003494, 'learning_rate': 9.578606158833063e-06, 'epoch': 3.43}\n",
      "{'loss': 0.1194, 'grad_norm': 0.3524123430252075, 'learning_rate': 9.092382495948137e-06, 'epoch': 3.51}\n",
      "{'loss': 0.0861, 'grad_norm': 0.036267634481191635, 'learning_rate': 8.606158833063208e-06, 'epoch': 3.59}\n",
      "{'loss': 0.1599, 'grad_norm': 0.12136833369731903, 'learning_rate': 8.119935170178283e-06, 'epoch': 3.67}\n",
      "{'loss': 0.1672, 'grad_norm': 8.474507331848145, 'learning_rate': 7.633711507293354e-06, 'epoch': 3.75}\n",
      "{'loss': 0.1182, 'grad_norm': 0.03213956207036972, 'learning_rate': 7.147487844408428e-06, 'epoch': 3.83}\n",
      "{'loss': 0.1659, 'grad_norm': 0.2765338718891144, 'learning_rate': 6.661264181523501e-06, 'epoch': 3.9}\n",
      "{'loss': 0.156, 'grad_norm': 0.04975631460547447, 'learning_rate': 6.175040518638574e-06, 'epoch': 3.98}\n"
     ]
    },
    {
     "data": {
      "application/vnd.jupyter.widget-view+json": {
       "model_id": "61cd0caea16d4bae9cc660fdf09c2f39",
       "version_major": 2,
       "version_minor": 0
      },
      "text/plain": [
       "  0%|          | 0/314 [00:00<?, ?it/s]"
      ]
     },
     "metadata": {},
     "output_type": "display_data"
    },
    {
     "name": "stdout",
     "output_type": "stream",
     "text": [
      "{'eval_loss': 0.5393123626708984, 'eval_accuracy': 0.9114832535885168, 'eval_runtime': 11.0455, 'eval_samples_per_second': 113.531, 'eval_steps_per_second': 28.428, 'epoch': 4.0}\n",
      "{'loss': 0.0849, 'grad_norm': 0.007900407537817955, 'learning_rate': 5.688816855753647e-06, 'epoch': 4.06}\n",
      "{'loss': 0.1199, 'grad_norm': 103.0291519165039, 'learning_rate': 5.202593192868719e-06, 'epoch': 4.14}\n",
      "{'loss': 0.1186, 'grad_norm': 230.8055877685547, 'learning_rate': 4.7163695299837925e-06, 'epoch': 4.22}\n",
      "{'loss': 0.0684, 'grad_norm': 0.036827027797698975, 'learning_rate': 4.230145867098865e-06, 'epoch': 4.3}\n",
      "{'loss': 0.0743, 'grad_norm': 0.014728770591318607, 'learning_rate': 3.7439222042139384e-06, 'epoch': 4.38}\n",
      "{'loss': 0.0997, 'grad_norm': 0.2046666294336319, 'learning_rate': 3.257698541329011e-06, 'epoch': 4.46}\n",
      "{'loss': 0.0681, 'grad_norm': 278.9290466308594, 'learning_rate': 2.7714748784440843e-06, 'epoch': 4.54}\n",
      "{'loss': 0.0807, 'grad_norm': 12.752696990966797, 'learning_rate': 2.2852512155591575e-06, 'epoch': 4.62}\n",
      "{'loss': 0.0502, 'grad_norm': 1.412851333618164, 'learning_rate': 1.7990275526742302e-06, 'epoch': 4.7}\n",
      "{'loss': 0.0412, 'grad_norm': 0.07888849079608917, 'learning_rate': 1.3128038897893032e-06, 'epoch': 4.78}\n",
      "{'loss': 0.0569, 'grad_norm': 108.59291076660156, 'learning_rate': 8.26580226904376e-07, 'epoch': 4.86}\n",
      "{'loss': 0.0652, 'grad_norm': 0.01012608502060175, 'learning_rate': 3.40356564019449e-07, 'epoch': 4.94}\n"
     ]
    },
    {
     "data": {
      "application/vnd.jupyter.widget-view+json": {
       "model_id": "4142adcd22d548f38360369eeedb43c6",
       "version_major": 2,
       "version_minor": 0
      },
      "text/plain": [
       "  0%|          | 0/314 [00:00<?, ?it/s]"
      ]
     },
     "metadata": {},
     "output_type": "display_data"
    },
    {
     "name": "stdout",
     "output_type": "stream",
     "text": [
      "{'eval_loss': 0.5998344421386719, 'eval_accuracy': 0.9098883572567783, 'eval_runtime': 10.9235, 'eval_samples_per_second': 114.799, 'eval_steps_per_second': 28.745, 'epoch': 5.0}\n",
      "{'train_runtime': 2071.5267, 'train_samples_per_second': 24.219, 'train_steps_per_second': 3.027, 'train_loss': 0.3350617194289796, 'epoch': 5.0}\n"
     ]
    },
    {
     "data": {
      "text/plain": [
       "TrainOutput(global_step=6270, training_loss=0.3350617194289796, metrics={'train_runtime': 2071.5267, 'train_samples_per_second': 24.219, 'train_steps_per_second': 3.027, 'total_flos': 1660375984674816.0, 'train_loss': 0.3350617194289796, 'epoch': 4.996412913511359})"
      ]
     },
     "execution_count": 22,
     "metadata": {},
     "output_type": "execute_result"
    }
   ],
   "source": [
    "from transformers import TrainingArguments, Trainer, AutoModelForSequenceClassification, EarlyStoppingCallback, AdamW, get_scheduler\n",
    "# load model\n",
    "model = AutoModelForSequenceClassification.from_pretrained(\"distilbert/distilbert-base-multilingual-cased\",\n",
    "                                                           num_labels=3).to(device)\n",
    "\n",
    "# enable gpu optimizations\n",
    "torch.backends.cudnn.benchmark = True\n",
    "\n",
    "model.gradient_checkpointing_enable()  # Reduces memory usage during training\n",
    "\n",
    "training_args = TrainingArguments(\n",
    "    output_dir='./distilbert_trainer_result',\n",
    "    learning_rate=3e-5,\n",
    "    num_train_epochs=5, #increase epochs\n",
    "    per_device_train_batch_size=4, #train batch size\n",
    "    per_device_eval_batch_size=4,  #eval batch size\n",
    "    eval_strategy=\"epoch\", # Evaluate model at the end of each epoch\n",
    "    save_strategy=\"epoch\",  # Set save_strategy to \"epoch\"\n",
    "    eval_steps=500,\n",
    "    warmup_steps=100,# increase learning rate every 100 steps\n",
    "    weight_decay=0.01,\n",
    "    logging_dir='./logs',\n",
    "    logging_steps=100,\n",
    "    lr_scheduler_type=\"linear\",\n",
    "    fp16=False, #Gpu Optimization if capable yes, if not FALSE\n",
    "    push_to_hub=False,\n",
    "    load_best_model_at_end=True,\n",
    "    metric_for_best_model=\"accuracy\",\n",
    "    gradient_accumulation_steps=2, #simulates larger batch size\n",
    "    report_to=\"none\", \n",
    "    max_grad_norm=1  # clips gradient to prevent explosions\n",
    ")\n",
    "\n",
    "trainer = Trainer(\n",
    "    model=model,\n",
    "    args=training_args,\n",
    "    train_dataset=train_dataset,\n",
    "    eval_dataset=validation_dataset,\n",
    "    tokenizer=tokenizer,\n",
    "    compute_metrics=compute_metrics,\n",
    "\n",
    ")\n",
    "trainer.train()"
   ]
  },
  {
   "cell_type": "markdown",
   "metadata": {},
   "source": [
    "#### Evaluate Model"
   ]
  },
  {
   "cell_type": "code",
   "execution_count": 23,
   "metadata": {},
   "outputs": [],
   "source": [
    "from sklearn.metrics import classification_report, confusion_matrix\n",
    "\n",
    "import numpy as np\n",
    "import seaborn as sns\n",
    "import matplotlib.pyplot as plt"
   ]
  },
  {
   "cell_type": "code",
   "execution_count": 24,
   "metadata": {},
   "outputs": [
    {
     "data": {
      "application/vnd.jupyter.widget-view+json": {
       "model_id": "68424f2416c94540a03cf1a43e367146",
       "version_major": 2,
       "version_minor": 0
      },
      "text/plain": [
       "  0%|          | 0/314 [00:00<?, ?it/s]"
      ]
     },
     "metadata": {},
     "output_type": "display_data"
    },
    {
     "name": "stdout",
     "output_type": "stream",
     "text": [
      "5 Epochs, LR 3e-5 fp16 False, train&eval batch size = 4, max_grad_norm = 1, gradient_accumulation= 2\n",
      "Test Accuracy: 91.79%\n",
      "\n",
      "              precision    recall  f1-score   support\n",
      "\n",
      "    NEGATIVE       0.91      0.87      0.89       418\n",
      "     NEUTRAL       0.92      0.99      0.96       418\n",
      "    POSITIVE       0.92      0.90      0.91       419\n",
      "\n",
      "    accuracy                           0.92      1255\n",
      "   macro avg       0.92      0.92      0.92      1255\n",
      "weighted avg       0.92      0.92      0.92      1255\n",
      "\n"
     ]
    }
   ],
   "source": [
    "from sklearn.metrics import accuracy_score\n",
    "\n",
    "predictions = trainer.predict(test_dataset)\n",
    "preds = np.argmax(predictions.predictions, axis=1)\n",
    "\n",
    "accuracy = accuracy_score(y_test, preds) *100\n",
    "\n",
    "#print classification report\n",
    "print(\"5 Epochs, LR 3e-5 fp16 False, train&eval batch size = 4, max_grad_norm = 1, gradient_accumulation= 2\")\n",
    "print(f\"Test Accuracy: {accuracy:.2f}%\\n\")\n",
    "print(classification_report(y_test, preds, target_names=list(label_map.values())))"
   ]
  },
  {
   "cell_type": "markdown",
   "metadata": {},
   "source": [
    "##### Confusion Matrix"
   ]
  },
  {
   "cell_type": "code",
   "execution_count": 25,
   "metadata": {},
   "outputs": [
    {
     "data": {
      "image/png": "[encoded data removed]",
      "text/plain": [
       "<Figure size 640x480 with 2 Axes>"
      ]
     },
     "metadata": {},
     "output_type": "display_data"
    }
   ],
   "source": [
    "cm = confusion_matrix(y_test, preds)\n",
    "sns.heatmap(cm, annot=True, fmt='d', cmap=\"Blues\", xticklabels=list(label_map.values()), yticklabels=list(label_map.values()))\n",
    "plt.xlabel(\"Predicted\")\n",
    "plt.ylabel(\"Actual\")\n",
    "plt.title(\"5 Epochs, LR 3e-5 fp16 False, train&eval batch size = 4\\n, max_grad_norm = 1.0, gradient_accumulation= 2\")\n",
    "plt.show()"
   ]
  },
  {
   "cell_type": "markdown",
   "metadata": {},
   "source": [
    "#### Train and eval loss"
   ]
  },
  {
   "cell_type": "code",
   "execution_count": 32,
   "metadata": {},
   "outputs": [
    {
     "data": {
      "image/png": "[encoded data removed]",
      "text/plain": [
       "<Figure size 800x500 with 1 Axes>"
      ]
     },
     "metadata": {},
     "output_type": "display_data"
    }
   ],
   "source": [
    "# Train and eval loss visualization\n",
    "\n",
    "import matplotlib.pyplot as plt\n",
    "\n",
    "train_loss = [log[\"loss\"] for log in trainer.state.log_history if \"loss\" in log]\n",
    "eval_loss = [log[\"eval_loss\"] for log in trainer.state.log_history if \"eval_loss\" in log]\n",
    "\n",
    "# Generate epochs in range\n",
    "train_steps = list(range(1, len(train_loss) + 1))\n",
    "eval_epochs = list(range(1, len(eval_loss) * (len(train_loss) // len(eval_loss)) + 1, len(train_loss) // len(eval_loss)))\n",
    "\n",
    "# Plot training and validation loss\n",
    "plt.figure(figsize=(8, 5))\n",
    "plt.plot(train_steps, train_loss, label=\"Train loss\", marker=\"o\", linestyle=\"dashed\")\n",
    "plt.plot(eval_epochs, eval_loss, label=\"Validation Loss\", marker=\"s\")\n",
    "\n",
    "plt.xlabel(\"Epoch\")\n",
    "plt.ylabel(\"Loss\")\n",
    "plt.title(\"Train vs loss: 5 Epochs, LR 3e-5 fp16 False, train&eval batch size = 4\\n, max_grad_norm = 1.0, gradient_accumulation= 2\")\n",
    "plt.legend()\n",
    "plt.grid()\n",
    "plt.show()\n"
   ]
  },
  {
   "cell_type": "markdown",
   "metadata": {},
   "source": [
    "#### Improving Neutral Classification"
   ]
  },
  {
   "cell_type": "code",
   "execution_count": 40,
   "metadata": {},
   "outputs": [
    {
     "name": "stdout",
     "output_type": "stream",
     "text": [
      "['POSITIVE', 'POSITIVE', 'NEGATIVE']\n"
     ]
    }
   ],
   "source": [
    "def custom_predict(trainer, text_list):\n",
    "    tokens = tokenizer(text_list, padding=True, truncation=True, max_length=128, return_tensors='pt').to(device)\n",
    "\n",
    "    # Get model predictions (logits)\n",
    "    outputs = trainer.model(**tokens)\n",
    "    logits = outputs.logits.detach().cpu().numpy()\n",
    "\n",
    "    probs = np.exp(logits) / np.exp(logits).sum(axis=-1, keepdims=True)\n",
    "\n",
    "    preds = []\n",
    "    for prob in probs:\n",
    "        if 0.35 < prob[1] < 0.65:\n",
    "            preds.append(1) #Neutral\n",
    "        else:\n",
    "            preds.append(np.argmax(prob))\n",
    "    return [label_map[p]for p in preds]\n",
    "\n",
    "# text example\n",
    "texts = ['Aplikasinya biasa aja','A really good app for mobile banking', 'aplikasi jelek banyak virusnya']\n",
    "print(custom_predict(trainer, texts))"
   ]
  },
  {
   "cell_type": "code",
   "execution_count": 27,
   "metadata": {},
   "outputs": [],
   "source": [
    "def dynamic_neutral_threshold(logits):\n",
    "    \"\"\"\n",
    "    Automatically calculate best neutral threshold\n",
    "    \"\"\"\n",
    "    probs = torch.nn.functional.softmax(torch.tensor(logits), dim=-1).numpy()\n",
    "\n",
    "    # Get the average confidence of neutral class across all predictions\n",
    "    neutral_probs = probs[:, 1] # Extract neutral class probabilities\n",
    "\n",
    "    # Compute mean and standard deviation of neutral scores\n",
    "    mean_neutral = np.mean(neutral_probs)\n",
    "    std_neutral = np.std(neutral_probs)\n",
    "\n",
    "    neutral_low = max(0.35, mean_neutral - 0.5 * std_neutral)\n",
    "    neutral_high = min(0.65, mean_neutral + 0.5 * std_neutral)\n",
    "\n",
    "    return neutral_low, neutral_high\n",
    "\n",
    "def custom_predict(trainer,text_list):\n",
    "    tokens = tokenizer(text_list, padding=True, truncation=True, max_length=128, return_tensors='pt').to(device)\n",
    "\n",
    "    # Get model predictions (logits)\n",
    "    outputs = trainer.model(**tokens)\n",
    "    logits = outputs.logits.detach().cpu().numpy()\n",
    "\n",
    "    # Use softmax for stability\n",
    "    probs = torch.nn.functional.softmax(torch.tensor(logits), dim=-1).numpy()\n",
    "\n",
    "    # Get dynamic\n",
    "    neutral_low, neutral_high = dynamic_neutral_threshold(logits)\n",
    "\n",
    "    preds = []\n",
    "    for prob in probs:\n",
    "        if neutral_low < prob[1] < neutral_high:\n",
    "            preds.append(1) #Neutral\n",
    "        else:\n",
    "            preds.append(np.argmax(prob)) #use highest probability\n",
    "\n",
    "    return[label_map[p]for p in preds]"
   ]
  },
  {
   "cell_type": "code",
   "execution_count": 28,
   "metadata": {},
   "outputs": [
    {
     "data": {
      "text/plain": [
       "('distilbert_finetuning_result\\\\tokenizer_config.json',\n",
       " 'distilbert_finetuning_result\\\\special_tokens_map.json',\n",
       " 'distilbert_finetuning_result\\\\vocab.txt',\n",
       " 'distilbert_finetuning_result\\\\added_tokens.json',\n",
       " 'distilbert_finetuning_result\\\\tokenizer.json')"
      ]
     },
     "execution_count": 28,
     "metadata": {},
     "output_type": "execute_result"
    }
   ],
   "source": [
    "trainer.save_model(\"distilbert_finetuning_result\")\n",
    "tokenizer.save_pretrained(\"distilbert_finetuning_result\")"
   ]
  },
  {
   "cell_type": "markdown",
   "metadata": {},
   "source": [
    "#### Inference simple test using pipeline"
   ]
  },
  {
   "cell_type": "code",
   "execution_count": 32,
   "metadata": {},
   "outputs": [],
   "source": [
    "# from transformers import pipeline\n",
    "\n",
    "# classifier = pipeline(\"sentiment-analysis\", model=\"distilbert1\")\n",
    "\n",
    "# #Inference on new texts\n",
    "# texts = [\"Transfer dana berjalan lancar, tetapi menambahkan rekening baru agak rumit.\"]\n",
    "# predictions = classifier(texts)\n",
    "\n",
    "# #print results\n",
    "# for text, pred in zip(texts, predictions):\n",
    "#     print(f\"Text: {text}\\nSentiment: {pred['label']} (Confidence: {pred['score']:.2f})\")"
   ]
  },
  {
   "cell_type": "code",
   "execution_count": 8,
   "metadata": {},
   "outputs": [
    {
     "name": "stderr",
     "output_type": "stream",
     "text": [
      "Device set to use cuda:0\n"
     ]
    },
    {
     "name": "stdout",
     "output_type": "stream",
     "text": [
      "Text: aplikasi yang menurut saya bisa dipakai namun tidak spesial\n",
      "Sentiment: NEGATIVE ('Confidence': 0.9991)\n"
     ]
    }
   ],
   "source": [
    "from transformers import AutoModelForSequenceClassification, AutoTokenizer, pipeline\n",
    "import numpy as np\n",
    "\n",
    "model_name = \"distilbert_finetuning_result\"\n",
    "model = AutoModelForSequenceClassification.from_pretrained(model_name)\n",
    "tokenizer= AutoTokenizer.from_pretrained(model_name)\n",
    "\n",
    "#define classifier\n",
    "classifier = pipeline(\"sentiment-analysis\", model=model, tokenizer=tokenizer, top_k=None)\n",
    "\n",
    "#label mapping\n",
    "label_map = {\"LABEL_0\": \"NEGATIVE\", \"LABEL_1\": \"NEUTRAL\", \"LABEL_2\": \"POSITIVE\"}\n",
    "\n",
    "#inference\n",
    "texts = [\"aplikasi yang menurut saya bisa dipakai namun tidak spesial\"]\n",
    "predictions = classifier(texts)\n",
    "\n",
    "for text, scores in zip(texts, predictions):\n",
    "    # Find best label with highest confidence\n",
    "    best_pred = max(scores, key=lambda x: x['score'])\n",
    "    best_label = label_map[best_pred['label']]\n",
    "\n",
    "    print(f\"Text: {text}\\nSentiment: {best_label} ('Confidence': {best_pred['score']:.4f})\")"
   ]
  },
  {
   "cell_type": "markdown",
   "metadata": {},
   "source": [
    "### Test on Dataset "
   ]
  },
  {
   "cell_type": "code",
   "execution_count": 1,
   "metadata": {},
   "outputs": [
    {
     "name": "stderr",
     "output_type": "stream",
     "text": [
      "Device set to use cuda:0\n"
     ]
    }
   ],
   "source": [
    "from transformers import AutoModelForSequenceClassification, AutoTokenizer, pipeline\n",
    "import numpy as np\n",
    "import pandas as pd\n",
    "\n",
    "model_name = \"distilbert_finetuning_result\"\n",
    "model = AutoModelForSequenceClassification.from_pretrained(model_name)\n",
    "tokenizer= AutoTokenizer.from_pretrained(model_name)\n",
    "\n",
    "#define classifier\n",
    "classifier = pipeline(\"sentiment-analysis\", model=model, tokenizer=tokenizer, top_k=None)\n",
    "\n",
    "#label mapping\n",
    "label_map = {\"LABEL_0\": \"NEGATIVE\", \"LABEL_1\": \"NEUTRAL\", \"LABEL_2\": \"POSITIVE\"}\n",
    "\n",
    "df = pd.read_csv(\"bca_preprocessed_data.csv\")\n",
    "\n",
    "df_sample = df.sample(n=30, random_state=20) #test 30 sample from test dataset\n",
    "\n",
    "texts = df_sample[\"content\"].tolist()\n",
    "predictions = classifier(texts)\n",
    "\n",
    "sentiment_results = []\n",
    "confidence_scores = []\n",
    "\n",
    "for scores in predictions:\n",
    "    best_pred = max(scores, key=lambda x: x['score'])\n",
    "    best_label = label_map[best_pred['label']]\n",
    "    best_score = best_pred['score']\n",
    "\n",
    "    sentiment_results.append(best_label)\n",
    "    confidence_scores.append(round(best_score, 4))\n",
    "\n",
    "df_sample[\"predictions\"] = sentiment_results\n",
    "df_sample[\"confidence_score\"] = confidence_scores\n",
    "\n",
    "\n",
    "# Select columns to show later\n",
    "df_sample = df_sample[[\"content\",\"confidence_score\",\"predictions\"]]"
   ]
  },
  {
   "cell_type": "code",
   "execution_count": 33,
   "metadata": {},
   "outputs": [
    {
     "data": {
      "text/html": [
       "<div>\n",
       "<style scoped>\n",
       "    .dataframe tbody tr th:only-of-type {\n",
       "        vertical-align: middle;\n",
       "    }\n",
       "\n",
       "    .dataframe tbody tr th {\n",
       "        vertical-align: top;\n",
       "    }\n",
       "\n",
       "    .dataframe thead th {\n",
       "        text-align: right;\n",
       "    }\n",
       "</style>\n",
       "<table border=\"1\" class=\"dataframe\">\n",
       "  <thead>\n",
       "    <tr style=\"text-align: right;\">\n",
       "      <th></th>\n",
       "      <th>content</th>\n",
       "      <th>confidence_score</th>\n",
       "      <th>predictions</th>\n",
       "    </tr>\n",
       "  </thead>\n",
       "  <tbody>\n",
       "    <tr>\n",
       "      <th>8398</th>\n",
       "      <td>eror mulu gmn pakenya</td>\n",
       "      <td>0.9992</td>\n",
       "      <td>NEGATIVE</td>\n",
       "    </tr>\n",
       "    <tr>\n",
       "      <th>12483</th>\n",
       "      <td>the ui looks like something from the earliest ...</td>\n",
       "      <td>0.9992</td>\n",
       "      <td>NEGATIVE</td>\n",
       "    </tr>\n",
       "    <tr>\n",
       "      <th>6909</th>\n",
       "      <td>nutup sendiri pake cara yg di info di review j...</td>\n",
       "      <td>0.9999</td>\n",
       "      <td>POSITIVE</td>\n",
       "    </tr>\n",
       "    <tr>\n",
       "      <th>2680</th>\n",
       "      <td>ini gimna udh ke sekian kalinya verifikasi ula...</td>\n",
       "      <td>0.9994</td>\n",
       "      <td>NEGATIVE</td>\n",
       "    </tr>\n",
       "    <tr>\n",
       "      <th>12784</th>\n",
       "      <td>simple fitur lengkap ui minimalis jarang error...</td>\n",
       "      <td>0.9999</td>\n",
       "      <td>POSITIVE</td>\n",
       "    </tr>\n",
       "    <tr>\n",
       "      <th>4207</th>\n",
       "      <td>ribet</td>\n",
       "      <td>0.9990</td>\n",
       "      <td>NEGATIVE</td>\n",
       "    </tr>\n",
       "    <tr>\n",
       "      <th>2002</th>\n",
       "      <td>woy bca ini apk masih busuk aje timbang vermuk...</td>\n",
       "      <td>0.9994</td>\n",
       "      <td>NEGATIVE</td>\n",
       "    </tr>\n",
       "    <tr>\n",
       "      <th>3168</th>\n",
       "      <td>kenapa di flazz sekarang nggak ada menu top up...</td>\n",
       "      <td>0.9999</td>\n",
       "      <td>POSITIVE</td>\n",
       "    </tr>\n",
       "    <tr>\n",
       "      <th>535</th>\n",
       "      <td>saya disuruh merveritifikasi ulang lalu saya l...</td>\n",
       "      <td>0.9994</td>\n",
       "      <td>NEGATIVE</td>\n",
       "    </tr>\n",
       "    <tr>\n",
       "      <th>9820</th>\n",
       "      <td>hey im sorry i cant open the application and a...</td>\n",
       "      <td>0.9999</td>\n",
       "      <td>NEUTRAL</td>\n",
       "    </tr>\n",
       "    <tr>\n",
       "      <th>5967</th>\n",
       "      <td>force close setelah update v</td>\n",
       "      <td>0.9860</td>\n",
       "      <td>POSITIVE</td>\n",
       "    </tr>\n",
       "    <tr>\n",
       "      <th>9975</th>\n",
       "      <td>jelek tidak bisa verifikasi</td>\n",
       "      <td>0.9990</td>\n",
       "      <td>NEGATIVE</td>\n",
       "    </tr>\n",
       "    <tr>\n",
       "      <th>2638</th>\n",
       "      <td>terimakasih bca mobile banking</td>\n",
       "      <td>0.9999</td>\n",
       "      <td>POSITIVE</td>\n",
       "    </tr>\n",
       "    <tr>\n",
       "      <th>391</th>\n",
       "      <td>mantap mendukung</td>\n",
       "      <td>0.9999</td>\n",
       "      <td>POSITIVE</td>\n",
       "    </tr>\n",
       "    <tr>\n",
       "      <th>12332</th>\n",
       "      <td>pembacaan nfc flash selalu gagal  membuat pros...</td>\n",
       "      <td>0.9974</td>\n",
       "      <td>NEGATIVE</td>\n",
       "    </tr>\n",
       "    <tr>\n",
       "      <th>12162</th>\n",
       "      <td>new update nyusahin hidup orang suruh verifika...</td>\n",
       "      <td>0.9994</td>\n",
       "      <td>NEGATIVE</td>\n",
       "    </tr>\n",
       "    <tr>\n",
       "      <th>6001</th>\n",
       "      <td>bca lagi kenapa ya ko mau masuk mental lagi</td>\n",
       "      <td>0.9999</td>\n",
       "      <td>POSITIVE</td>\n",
       "    </tr>\n",
       "    <tr>\n",
       "      <th>3722</th>\n",
       "      <td>wr</td>\n",
       "      <td>0.9997</td>\n",
       "      <td>POSITIVE</td>\n",
       "    </tr>\n",
       "    <tr>\n",
       "      <th>6330</th>\n",
       "      <td>selama ini tidak ada kendala tapi sudah bebera...</td>\n",
       "      <td>0.9988</td>\n",
       "      <td>NEGATIVE</td>\n",
       "    </tr>\n",
       "    <tr>\n",
       "      <th>6174</th>\n",
       "      <td>nggak bisa jalan crash melulu update terima ka...</td>\n",
       "      <td>0.9986</td>\n",
       "      <td>NEGATIVE</td>\n",
       "    </tr>\n",
       "  </tbody>\n",
       "</table>\n",
       "</div>"
      ],
      "text/plain": [
       "                                                 content  confidence_score  \\\n",
       "8398                               eror mulu gmn pakenya            0.9992   \n",
       "12483  the ui looks like something from the earliest ...            0.9992   \n",
       "6909   nutup sendiri pake cara yg di info di review j...            0.9999   \n",
       "2680   ini gimna udh ke sekian kalinya verifikasi ula...            0.9994   \n",
       "12784  simple fitur lengkap ui minimalis jarang error...            0.9999   \n",
       "4207                                               ribet            0.9990   \n",
       "2002   woy bca ini apk masih busuk aje timbang vermuk...            0.9994   \n",
       "3168   kenapa di flazz sekarang nggak ada menu top up...            0.9999   \n",
       "535    saya disuruh merveritifikasi ulang lalu saya l...            0.9994   \n",
       "9820   hey im sorry i cant open the application and a...            0.9999   \n",
       "5967                        force close setelah update v            0.9860   \n",
       "9975                         jelek tidak bisa verifikasi            0.9990   \n",
       "2638                      terimakasih bca mobile banking            0.9999   \n",
       "391                                     mantap mendukung            0.9999   \n",
       "12332  pembacaan nfc flash selalu gagal  membuat pros...            0.9974   \n",
       "12162  new update nyusahin hidup orang suruh verifika...            0.9994   \n",
       "6001         bca lagi kenapa ya ko mau masuk mental lagi            0.9999   \n",
       "3722                                                  wr            0.9997   \n",
       "6330   selama ini tidak ada kendala tapi sudah bebera...            0.9988   \n",
       "6174   nggak bisa jalan crash melulu update terima ka...            0.9986   \n",
       "\n",
       "      predictions  \n",
       "8398     NEGATIVE  \n",
       "12483    NEGATIVE  \n",
       "6909     POSITIVE  \n",
       "2680     NEGATIVE  \n",
       "12784    POSITIVE  \n",
       "4207     NEGATIVE  \n",
       "2002     NEGATIVE  \n",
       "3168     POSITIVE  \n",
       "535      NEGATIVE  \n",
       "9820      NEUTRAL  \n",
       "5967     POSITIVE  \n",
       "9975     NEGATIVE  \n",
       "2638     POSITIVE  \n",
       "391      POSITIVE  \n",
       "12332    NEGATIVE  \n",
       "12162    NEGATIVE  \n",
       "6001     POSITIVE  \n",
       "3722     POSITIVE  \n",
       "6330     NEGATIVE  \n",
       "6174     NEGATIVE  "
      ]
     },
     "execution_count": 33,
     "metadata": {},
     "output_type": "execute_result"
    }
   ],
   "source": [
    "df_sample.head(20)"
   ]
  },
  {
   "cell_type": "markdown",
   "metadata": {},
   "source": [
    "#### Save to Pickle for Deployment"
   ]
  },
  {
   "cell_type": "code",
   "execution_count": 5,
   "metadata": {},
   "outputs": [
    {
     "name": "stdout",
     "output_type": "stream",
     "text": [
      "saved successfully✅\n"
     ]
    }
   ],
   "source": [
    "import pickle\n",
    "import torch\n",
    "\n",
    "from transformers import AutoModelForSequenceClassification, AutoTokenizer\n",
    "\n",
    "#load trained model\n",
    "model_name = \"distilbert1\"\n",
    "model = AutoModelForSequenceClassification.from_pretrained(model_name)\n",
    "tokenizer = AutoTokenizer.from_pretrained(model_name)\n",
    "\n",
    "#save model\n",
    "model_save_path = \"model/distilbert_1_model3epoch.pkl\"\n",
    "tokenizer_save_path = \"model/tokenizer_3epoch.pkl\"\n",
    "\n",
    "with open(model_save_path, \"wb\")as f:\n",
    "    pickle.dump(model, f)\n",
    "\n",
    "with open(tokenizer_save_path, \"wb\") as f:\n",
    "    pickle.dump(tokenizer, f)\n",
    "\n",
    "print(\"saved successfully✅\")\n",
    "\n"
   ]
  },
  {
   "cell_type": "code",
   "execution_count": 6,
   "metadata": {},
   "outputs": [
    {
     "name": "stdout",
     "output_type": "stream",
     "text": [
      "<class 'transformers.models.distilbert.tokenization_distilbert_fast.DistilBertTokenizerFast'>\n"
     ]
    }
   ],
   "source": [
    "print(type(tokenizer))  # It should be <class 'transformers.PreTrainedTokenizerFast'> or similar\n"
   ]
  }
 ],
 "metadata": {
  "kernelspec": {
   "display_name": "pytorch_nvidia",
   "language": "python",
   "name": "python3"
  },
  "language_info": {
   "codemirror_mode": {
    "name": "ipython",
    "version": 3
   },
   "file_extension": ".py",
   "mimetype": "text/x-python",
   "name": "python",
   "nbconvert_exporter": "python",
   "pygments_lexer": "ipython3",
   "version": "3.10.0"
  }
 },
 "nbformat": 4,
 "nbformat_minor": 2
}
