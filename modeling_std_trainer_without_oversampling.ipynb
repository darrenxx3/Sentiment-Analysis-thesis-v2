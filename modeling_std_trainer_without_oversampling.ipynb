{
 "cells": [
  {
   "cell_type": "markdown",
   "metadata": {},
   "source": [
    "# DISTILBERT Multilanguage Without Oversampling"
   ]
  },
  {
   "cell_type": "markdown",
   "metadata": {},
   "source": [
    "#### Configure NVIDIA GPU as Default"
   ]
  },
  {
   "cell_type": "code",
   "execution_count": 1,
   "metadata": {},
   "outputs": [
    {
     "name": "stdout",
     "output_type": "stream",
     "text": [
      "Number of GPU:  1\n",
      "GPU Name:  NVIDIA GeForce GTX 1650\n",
      "GPU: NVIDIA GeForce GTX 1650 is available.\n"
     ]
    }
   ],
   "source": [
    "import torch\n",
    "\n",
    "print(\"Number of GPU: \", torch.cuda.device_count())\n",
    "print(\"GPU Name: \", torch.cuda.get_device_name())\n",
    "\n",
    "if torch.cuda.is_available():\n",
    "    print(f\"GPU: {torch.cuda.get_device_name(0)} is available.\")\n",
    "else:\n",
    "    print(\"No GPU available. Training will run on CPU.\")"
   ]
  },
  {
   "cell_type": "code",
   "execution_count": 2,
   "metadata": {},
   "outputs": [
    {
     "name": "stdout",
     "output_type": "stream",
     "text": [
      "Selected Device: cuda\n"
     ]
    }
   ],
   "source": [
    "#Configure device: Set the device configuration to GPU using the torch.device class in PyTorch:\n",
    "\n",
    "device = torch.device(\"cuda\" if torch.cuda.is_available() else \"cpu\")\n",
    "print(\"Selected Device:\", device)"
   ]
  },
  {
   "cell_type": "markdown",
   "metadata": {},
   "source": [
    "### Importing Library"
   ]
  },
  {
   "cell_type": "code",
   "execution_count": 3,
   "metadata": {},
   "outputs": [],
   "source": [
    "import pandas as pd\n",
    "import numpy as np"
   ]
  },
  {
   "cell_type": "markdown",
   "metadata": {},
   "source": [
    "### Load Data"
   ]
  },
  {
   "cell_type": "code",
   "execution_count": 4,
   "metadata": {},
   "outputs": [
    {
     "data": {
      "text/html": [
       "<div>\n",
       "<style scoped>\n",
       "    .dataframe tbody tr th:only-of-type {\n",
       "        vertical-align: middle;\n",
       "    }\n",
       "\n",
       "    .dataframe tbody tr th {\n",
       "        vertical-align: top;\n",
       "    }\n",
       "\n",
       "    .dataframe thead th {\n",
       "        text-align: right;\n",
       "    }\n",
       "</style>\n",
       "<table border=\"1\" class=\"dataframe\">\n",
       "  <thead>\n",
       "    <tr style=\"text-align: right;\">\n",
       "      <th></th>\n",
       "      <th>content</th>\n",
       "      <th>score</th>\n",
       "      <th>sentiment</th>\n",
       "    </tr>\n",
       "  </thead>\n",
       "  <tbody>\n",
       "    <tr>\n",
       "      <th>0</th>\n",
       "      <td>pelayanan buruk trouble tidak ada info era dig...</td>\n",
       "      <td>1</td>\n",
       "      <td>0</td>\n",
       "    </tr>\n",
       "    <tr>\n",
       "      <th>1</th>\n",
       "      <td>kenapa sih ini verif aplikasinya susah banget ...</td>\n",
       "      <td>1</td>\n",
       "      <td>0</td>\n",
       "    </tr>\n",
       "    <tr>\n",
       "      <th>2</th>\n",
       "      <td>notifikasi transaksi tidak bisa di edit hapus ...</td>\n",
       "      <td>1</td>\n",
       "      <td>0</td>\n",
       "    </tr>\n",
       "    <tr>\n",
       "      <th>3</th>\n",
       "      <td>tidak bisa dibuka selalu force close talkback ...</td>\n",
       "      <td>1</td>\n",
       "      <td>0</td>\n",
       "    </tr>\n",
       "    <tr>\n",
       "      <th>4</th>\n",
       "      <td>ok bagus dan membantun</td>\n",
       "      <td>5</td>\n",
       "      <td>2</td>\n",
       "    </tr>\n",
       "  </tbody>\n",
       "</table>\n",
       "</div>"
      ],
      "text/plain": [
       "                                             content  score  sentiment\n",
       "0  pelayanan buruk trouble tidak ada info era dig...      1          0\n",
       "1  kenapa sih ini verif aplikasinya susah banget ...      1          0\n",
       "2  notifikasi transaksi tidak bisa di edit hapus ...      1          0\n",
       "3  tidak bisa dibuka selalu force close talkback ...      1          0\n",
       "4                             ok bagus dan membantun      5          2"
      ]
     },
     "execution_count": 4,
     "metadata": {},
     "output_type": "execute_result"
    }
   ],
   "source": [
    "df = pd.read_csv('bca_preprocessed_half.csv', delimiter=',')\n",
    "df.head(5)"
   ]
  },
  {
   "cell_type": "code",
   "execution_count": 5,
   "metadata": {},
   "outputs": [
    {
     "data": {
      "text/plain": [
       "(7000, 3)"
      ]
     },
     "execution_count": 5,
     "metadata": {},
     "output_type": "execute_result"
    }
   ],
   "source": [
    "df.shape"
   ]
  },
  {
   "cell_type": "markdown",
   "metadata": {},
   "source": [
    "### Find and clean missing data pt2"
   ]
  },
  {
   "cell_type": "code",
   "execution_count": 6,
   "metadata": {},
   "outputs": [
    {
     "data": {
      "text/plain": [
       "content      0\n",
       "score        0\n",
       "sentiment    0\n",
       "dtype: int64"
      ]
     },
     "execution_count": 6,
     "metadata": {},
     "output_type": "execute_result"
    }
   ],
   "source": [
    "df.isnull().sum()"
   ]
  },
  {
   "cell_type": "code",
   "execution_count": 7,
   "metadata": {},
   "outputs": [],
   "source": [
    "bca_clean_again = df.dropna()"
   ]
  },
  {
   "cell_type": "code",
   "execution_count": 8,
   "metadata": {},
   "outputs": [
    {
     "data": {
      "text/plain": [
       "content      0\n",
       "score        0\n",
       "sentiment    0\n",
       "dtype: int64"
      ]
     },
     "execution_count": 8,
     "metadata": {},
     "output_type": "execute_result"
    }
   ],
   "source": [
    "bca_clean_again.isnull().sum()"
   ]
  },
  {
   "cell_type": "code",
   "execution_count": 9,
   "metadata": {},
   "outputs": [
    {
     "data": {
      "text/plain": [
       "(7000, 3)"
      ]
     },
     "execution_count": 9,
     "metadata": {},
     "output_type": "execute_result"
    }
   ],
   "source": [
    "bca_clean_again.shape"
   ]
  },
  {
   "cell_type": "markdown",
   "metadata": {},
   "source": [
    "### Check Data Balance when Splitting🪓"
   ]
  },
  {
   "cell_type": "code",
   "execution_count": 10,
   "metadata": {},
   "outputs": [],
   "source": [
    "#Split features (content) and labels (sentiment)\n",
    "\n",
    "X = bca_clean_again['content']\n",
    "y = bca_clean_again['sentiment']"
   ]
  },
  {
   "cell_type": "code",
   "execution_count": 11,
   "metadata": {},
   "outputs": [
    {
     "name": "stdout",
     "output_type": "stream",
     "text": [
      "Before balancing:\n",
      "sentiment\n",
      "0    4181\n",
      "2    2188\n",
      "1     631\n",
      "Name: count, dtype: int64\n"
     ]
    }
   ],
   "source": [
    "# Check dataset balance and apply oversampling for \"Neutral\" class if needed\n",
    "print(\"Before balancing:\")\n",
    "print(y.value_counts())"
   ]
  },
  {
   "cell_type": "markdown",
   "metadata": {},
   "source": [
    "### Splitting Data🪓🪓🪓 , 80:20 "
   ]
  },
  {
   "cell_type": "code",
   "execution_count": 14,
   "metadata": {},
   "outputs": [],
   "source": [
    "# from sklearn.model_selection import train_test_split\n",
    "\n",
    "# X_train, X_test, y_train, y_test = train_test_split(X, y, test_size=0.2, \n",
    "#                                                     random_state=42, stratify=y)\n",
    "\n",
    "# #split 20% test+validation into 10%test dan 10%validation\n",
    "# X_train, X_val, y_train, y_val = train_test_split(X_train, y_train, \n",
    "#                                                test_size=0.2, random_state=42)"
   ]
  },
  {
   "cell_type": "code",
   "execution_count": 12,
   "metadata": {},
   "outputs": [],
   "source": [
    "from sklearn.model_selection import train_test_split\n",
    "\n",
    "X_train, X_temp, y_train, y_temp = train_test_split(X, y, test_size=0.2, \n",
    "                                                    random_state=42, stratify=y)\n",
    "\n",
    "#split 20% test+validation into 10%test dan 10%validation\n",
    "X_val, X_test, y_val, y_test = train_test_split(X_temp, y_temp, \n",
    "                                               test_size=0.5, random_state=42,stratify=y_temp)"
   ]
  },
  {
   "cell_type": "code",
   "execution_count": 13,
   "metadata": {},
   "outputs": [
    {
     "name": "stdout",
     "output_type": "stream",
     "text": [
      "Training set size: 5600\n",
      "Validation set size: 700\n",
      "Test set size: 700\n"
     ]
    }
   ],
   "source": [
    "print(f\"Training set size: {len(X_train)}\")\n",
    "print(f\"Validation set size: {len(X_val)}\")\n",
    "print(f\"Test set size: {len(X_test)}\")"
   ]
  },
  {
   "cell_type": "markdown",
   "metadata": {},
   "source": [
    "#### Build Tokenizer with DistilBert-base-Multilingual-uncased"
   ]
  },
  {
   "cell_type": "code",
   "execution_count": 14,
   "metadata": {},
   "outputs": [],
   "source": [
    "# import transformer library\n",
    "from transformers import AutoTokenizer, DistilBertModel, DistilBertForSequenceClassification, DistilBertTokenizer, AutoModelForSequenceClassification"
   ]
  },
  {
   "cell_type": "code",
   "execution_count": 15,
   "metadata": {},
   "outputs": [],
   "source": [
    "tokenizer = AutoTokenizer.from_pretrained(\"distilbert/distilbert-base-multilingual-cased\")"
   ]
  },
  {
   "cell_type": "markdown",
   "metadata": {},
   "source": [
    "#### Convert Dataset to Hugging Face Format"
   ]
  },
  {
   "cell_type": "code",
   "execution_count": 16,
   "metadata": {},
   "outputs": [
    {
     "name": "stdout",
     "output_type": "stream",
     "text": [
      "{'text': 'setelah update versi di atas  langsung force close di hp saya itel rs akhirnya saya uninstall  install kembali ke versi  buangbuang pulsa saja untuk login kembali seharusnya sebelum di rilis di cek kembali ke stabilannya', 'label': 1, '__index_level_0__': 382}\n"
     ]
    }
   ],
   "source": [
    "from datasets import Dataset\n",
    "\n",
    "def convert_dataset(X, y):\n",
    "    return Dataset.from_pandas(pd.DataFrame({\"text\": X, \"label\": y}))\n",
    "\n",
    "train_dataset = convert_dataset(X_train, y_train)\n",
    "validation_dataset = convert_dataset(X_val, y_val)\n",
    "test_dataset = convert_dataset(X_test, y_test)\n",
    "\n",
    "label_map = {0: \"NEGATIVE\", 1: \"NEUTRAL\", 2: \"POSITIVE\"}\n",
    "\n",
    "print(train_dataset[0])"
   ]
  },
  {
   "cell_type": "markdown",
   "metadata": {},
   "source": [
    "#### Create tokenizer function"
   ]
  },
  {
   "cell_type": "code",
   "execution_count": 17,
   "metadata": {},
   "outputs": [
    {
     "name": "stdout",
     "output_type": "stream",
     "text": [
      "['text', 'label', '__index_level_0__']\n",
      "{'text': 'setelah update versi di atas  langsung force close di hp saya itel rs akhirnya saya uninstall  install kembali ke versi  buangbuang pulsa saja untuk login kembali seharusnya sebelum di rilis di cek kembali ke stabilannya', 'label': 1, '__index_level_0__': 382}\n"
     ]
    }
   ],
   "source": [
    "print(train_dataset.column_names)  # Cek nama kolom\n",
    "print(train_dataset[0])  # Cek contoh data pertama\n"
   ]
  },
  {
   "cell_type": "code",
   "execution_count": 18,
   "metadata": {},
   "outputs": [
    {
     "name": "stdout",
     "output_type": "stream",
     "text": [
      "Dataset({\n",
      "    features: ['text', 'label', '__index_level_0__'],\n",
      "    num_rows: 5600\n",
      "})\n"
     ]
    }
   ],
   "source": [
    "print(train_dataset)"
   ]
  },
  {
   "cell_type": "code",
   "execution_count": 19,
   "metadata": {},
   "outputs": [
    {
     "data": {
      "application/vnd.jupyter.widget-view+json": {
       "model_id": "7d49ab83d308477a8e3beb97e125300e",
       "version_major": 2,
       "version_minor": 0
      },
      "text/plain": [
       "Map:   0%|          | 0/5600 [00:00<?, ? examples/s]"
      ]
     },
     "metadata": {},
     "output_type": "display_data"
    },
    {
     "data": {
      "application/vnd.jupyter.widget-view+json": {
       "model_id": "0f33456c75e344ffbadcc07c34fd7dc8",
       "version_major": 2,
       "version_minor": 0
      },
      "text/plain": [
       "Map:   0%|          | 0/700 [00:00<?, ? examples/s]"
      ]
     },
     "metadata": {},
     "output_type": "display_data"
    },
    {
     "data": {
      "application/vnd.jupyter.widget-view+json": {
       "model_id": "54c95279eb804fc3a080848802e6b2e4",
       "version_major": 2,
       "version_minor": 0
      },
      "text/plain": [
       "Map:   0%|          | 0/700 [00:00<?, ? examples/s]"
      ]
     },
     "metadata": {},
     "output_type": "display_data"
    }
   ],
   "source": [
    "def tokenize_function(examples):\n",
    "    return tokenizer(examples[\"text\"], padding=\"max_length\", truncation=True, max_length=128)\n",
    "\n",
    "#apply tokenizer to datasets\n",
    "train_dataset = train_dataset.map(tokenize_function, batched=True)\n",
    "validation_dataset = validation_dataset.map(tokenize_function, batched=True)\n",
    "test_dataset= test_dataset.map(tokenize_function, batched=True)\n",
    "\n",
    "# Remove text column as it's no longer needed\n",
    "train_dataset = train_dataset.remove_columns([\"text\"])\n",
    "validation_dataset = validation_dataset.remove_columns([\"text\"])\n",
    "test_dataset= test_dataset.remove_columns([\"text\"])\n",
    "\n",
    "# Convert labels to int format\n",
    "train_dataset = train_dataset.with_format(\"torch\")\n",
    "validation_dataset  = validation_dataset.with_format(\"torch\")\n",
    "test_dataset = test_dataset.with_format(\"torch\")"
   ]
  },
  {
   "cell_type": "code",
   "execution_count": 20,
   "metadata": {},
   "outputs": [],
   "source": [
    "import evaluate\n",
    "\n",
    "metric = evaluate.load(\"accuracy\")\n",
    "\n",
    "def compute_metrics(eval_pred):\n",
    "    logits, labels = eval_pred\n",
    "    predictions = np.argmax(logits, axis=-1)\n",
    "    accuracy = metric.compute(predictions=predictions, references=labels)\n",
    "    return {\"accuracy:\": accuracy[\"accuracy\"]}"
   ]
  },
  {
   "cell_type": "markdown",
   "metadata": {},
   "source": [
    "#### Define Trainer and looping"
   ]
  },
  {
   "cell_type": "code",
   "execution_count": 21,
   "metadata": {},
   "outputs": [
    {
     "name": "stderr",
     "output_type": "stream",
     "text": [
      "Some weights of DistilBertForSequenceClassification were not initialized from the model checkpoint at distilbert/distilbert-base-multilingual-cased and are newly initialized: ['classifier.bias', 'classifier.weight', 'pre_classifier.bias', 'pre_classifier.weight']\n",
      "You should probably TRAIN this model on a down-stream task to be able to use it for predictions and inference.\n",
      "C:\\Users\\Darren\\AppData\\Local\\Temp\\ipykernel_27660\\1912823039.py:32: FutureWarning: `tokenizer` is deprecated and will be removed in version 5.0.0 for `Trainer.__init__`. Use `processing_class` instead.\n",
      "  trainer = Trainer(\n"
     ]
    },
    {
     "data": {
      "application/vnd.jupyter.widget-view+json": {
       "model_id": "67ccab8d33644bceaa42882812d5cedf",
       "version_major": 2,
       "version_minor": 0
      },
      "text/plain": [
       "  0%|          | 0/1750 [00:00<?, ?it/s]"
      ]
     },
     "metadata": {},
     "output_type": "display_data"
    },
    {
     "data": {
      "application/vnd.jupyter.widget-view+json": {
       "model_id": "a76ea1e1f9fb4f35b649fe7e55070b49",
       "version_major": 2,
       "version_minor": 0
      },
      "text/plain": [
       "  0%|          | 0/88 [00:00<?, ?it/s]"
      ]
     },
     "metadata": {},
     "output_type": "display_data"
    },
    {
     "name": "stdout",
     "output_type": "stream",
     "text": [
      "{'eval_loss': 0.6716353893280029, 'eval_accuracy:': 0.7357142857142858, 'eval_runtime': 6.4589, 'eval_samples_per_second': 108.378, 'eval_steps_per_second': 13.625, 'epoch': 1.0}\n"
     ]
    },
    {
     "data": {
      "application/vnd.jupyter.widget-view+json": {
       "model_id": "e76a208a654543d69d17e2019ff1ae73",
       "version_major": 2,
       "version_minor": 0
      },
      "text/plain": [
       "  0%|          | 0/88 [00:00<?, ?it/s]"
      ]
     },
     "metadata": {},
     "output_type": "display_data"
    },
    {
     "name": "stdout",
     "output_type": "stream",
     "text": [
      "{'eval_loss': 0.6566532850265503, 'eval_accuracy:': 0.7571428571428571, 'eval_runtime': 6.4761, 'eval_samples_per_second': 108.09, 'eval_steps_per_second': 13.588, 'epoch': 2.0}\n",
      "{'loss': 0.6333, 'grad_norm': 16.302778244018555, 'learning_rate': 1.3636363636363637e-05, 'epoch': 2.86}\n"
     ]
    },
    {
     "data": {
      "application/vnd.jupyter.widget-view+json": {
       "model_id": "5df9e2a797314a5c8532a77851985d8c",
       "version_major": 2,
       "version_minor": 0
      },
      "text/plain": [
       "  0%|          | 0/88 [00:00<?, ?it/s]"
      ]
     },
     "metadata": {},
     "output_type": "display_data"
    },
    {
     "name": "stdout",
     "output_type": "stream",
     "text": [
      "{'eval_loss': 0.7089771628379822, 'eval_accuracy:': 0.7428571428571429, 'eval_runtime': 6.4403, 'eval_samples_per_second': 108.69, 'eval_steps_per_second': 13.664, 'epoch': 3.0}\n"
     ]
    },
    {
     "data": {
      "application/vnd.jupyter.widget-view+json": {
       "model_id": "36eda8f421d5462da71e7ce10c6a692d",
       "version_major": 2,
       "version_minor": 0
      },
      "text/plain": [
       "  0%|          | 0/88 [00:00<?, ?it/s]"
      ]
     },
     "metadata": {},
     "output_type": "display_data"
    },
    {
     "name": "stdout",
     "output_type": "stream",
     "text": [
      "{'eval_loss': 0.8412379622459412, 'eval_accuracy:': 0.7514285714285714, 'eval_runtime': 6.2878, 'eval_samples_per_second': 111.328, 'eval_steps_per_second': 13.995, 'epoch': 4.0}\n"
     ]
    },
    {
     "data": {
      "application/vnd.jupyter.widget-view+json": {
       "model_id": "1c4042959c704de78ef6bf8d5edd3bbf",
       "version_major": 2,
       "version_minor": 0
      },
      "text/plain": [
       "  0%|          | 0/88 [00:00<?, ?it/s]"
      ]
     },
     "metadata": {},
     "output_type": "display_data"
    },
    {
     "name": "stdout",
     "output_type": "stream",
     "text": [
      "{'eval_loss': 0.8870173692703247, 'eval_accuracy:': 0.7342857142857143, 'eval_runtime': 6.4296, 'eval_samples_per_second': 108.872, 'eval_steps_per_second': 13.687, 'epoch': 5.0}\n",
      "{'train_runtime': 908.9197, 'train_samples_per_second': 30.806, 'train_steps_per_second': 1.925, 'train_loss': 0.512610089983259, 'epoch': 5.0}\n"
     ]
    },
    {
     "data": {
      "text/plain": [
       "TrainOutput(global_step=1750, training_loss=0.512610089983259, metrics={'train_runtime': 908.9197, 'train_samples_per_second': 30.806, 'train_steps_per_second': 1.925, 'total_flos': 927288327168000.0, 'train_loss': 0.512610089983259, 'epoch': 5.0})"
      ]
     },
     "execution_count": 21,
     "metadata": {},
     "output_type": "execute_result"
    }
   ],
   "source": [
    "from transformers import TrainingArguments, Trainer, AutoModelForSequenceClassification, EarlyStoppingCallback\n",
    "\n",
    "# load model\n",
    "model = AutoModelForSequenceClassification.from_pretrained(\"distilbert/distilbert-base-multilingual-cased\",\n",
    "                                                           num_labels=3).to(device)\n",
    "\n",
    "# enable gpu optimizations\n",
    "torch.backends.cudnn.benchmark = True\n",
    "\n",
    "\n",
    "training_args = TrainingArguments(\n",
    "    output_dir='./distilbert_withoutoversampling_5epoch_7000data',\n",
    "    learning_rate=3e-5,\n",
    "    num_train_epochs=5, #increase epochs\n",
    "    per_device_train_batch_size=8, #train batch size\n",
    "    per_device_eval_batch_size=8,  #eval batch size\n",
    "    eval_strategy=\"epoch\",\n",
    "    save_strategy=\"epoch\",  # Set save_strategy to \"epoch\"\n",
    "    eval_steps=500,\n",
    "    warmup_steps=100,\n",
    "    weight_decay=0.02,\n",
    "    logging_dir='./logs',\n",
    "    logging_steps=1000,\n",
    "    fp16=False,\n",
    "    push_to_hub=False,\n",
    "    load_best_model_at_end=True,\n",
    "    gradient_accumulation_steps=2, #simulates larger batch size\n",
    "    report_to=\"none\", \n",
    "    max_grad_norm=1.0 # clips gradient to prevent explosions\n",
    ")\n",
    "\n",
    "trainer = Trainer(\n",
    "    model=model,\n",
    "    args=training_args,\n",
    "    train_dataset=train_dataset,\n",
    "    eval_dataset=validation_dataset,\n",
    "    tokenizer=tokenizer,\n",
    "    compute_metrics=compute_metrics,\n",
    ")\n",
    "\n",
    "trainer.train()"
   ]
  },
  {
   "cell_type": "markdown",
   "metadata": {},
   "source": [
    "#### Evaluate Model"
   ]
  },
  {
   "cell_type": "code",
   "execution_count": 22,
   "metadata": {},
   "outputs": [],
   "source": [
    "from sklearn.metrics import classification_report, confusion_matrix\n",
    "\n",
    "import numpy as np\n",
    "import seaborn as sns\n",
    "import matplotlib.pyplot as plt"
   ]
  },
  {
   "cell_type": "code",
   "execution_count": 23,
   "metadata": {},
   "outputs": [
    {
     "data": {
      "application/vnd.jupyter.widget-view+json": {
       "model_id": "08a7e6527797436e9a681439a32284bd",
       "version_major": 2,
       "version_minor": 0
      },
      "text/plain": [
       "  0%|          | 0/88 [00:00<?, ?it/s]"
      ]
     },
     "metadata": {},
     "output_type": "display_data"
    },
    {
     "name": "stdout",
     "output_type": "stream",
     "text": [
      "5 Epoch with LR 3e-5 fp16 False, batch size = 8, 7000 dataset\n",
      ", withoutsample, rerun 3, max_grad norm = 1.0, grad acc= 2\n",
      "              precision    recall  f1-score   support\n",
      "\n",
      "    NEGATIVE       0.73      0.94      0.82       418\n",
      "     NEUTRAL       0.00      0.00      0.00        63\n",
      "    POSITIVE       0.81      0.59      0.68       219\n",
      "\n",
      "    accuracy                           0.75       700\n",
      "   macro avg       0.51      0.51      0.50       700\n",
      "weighted avg       0.69      0.75      0.71       700\n",
      "\n"
     ]
    },
    {
     "name": "stderr",
     "output_type": "stream",
     "text": [
      "c:\\Users\\Darren\\anaconda3\\envs\\pytorch_nvidia\\lib\\site-packages\\sklearn\\metrics\\_classification.py:1531: UndefinedMetricWarning: Precision is ill-defined and being set to 0.0 in labels with no predicted samples. Use `zero_division` parameter to control this behavior.\n",
      "  _warn_prf(average, modifier, f\"{metric.capitalize()} is\", len(result))\n",
      "c:\\Users\\Darren\\anaconda3\\envs\\pytorch_nvidia\\lib\\site-packages\\sklearn\\metrics\\_classification.py:1531: UndefinedMetricWarning: Precision is ill-defined and being set to 0.0 in labels with no predicted samples. Use `zero_division` parameter to control this behavior.\n",
      "  _warn_prf(average, modifier, f\"{metric.capitalize()} is\", len(result))\n",
      "c:\\Users\\Darren\\anaconda3\\envs\\pytorch_nvidia\\lib\\site-packages\\sklearn\\metrics\\_classification.py:1531: UndefinedMetricWarning: Precision is ill-defined and being set to 0.0 in labels with no predicted samples. Use `zero_division` parameter to control this behavior.\n",
      "  _warn_prf(average, modifier, f\"{metric.capitalize()} is\", len(result))\n"
     ]
    }
   ],
   "source": [
    "predictions = trainer.predict(test_dataset)\n",
    "preds = np.argmax(predictions.predictions, axis=1)\n",
    "\n",
    "#print classification report\n",
    "print(\"5 Epoch with LR 3e-5 fp16 False, batch size = 8, 7000 dataset\\n, withoutsample, rerun 3, max_grad norm = 1.0, grad acc= 2\")\n",
    "print(classification_report(y_test, preds, target_names=list(label_map.values())))"
   ]
  },
  {
   "cell_type": "code",
   "execution_count": null,
   "metadata": {},
   "outputs": [],
   "source": [
    "\n",
    "predictions = trainer.predict(test_dataset)\n",
    "preds = np.argmax(predictions.predictions, axis=1)\n",
    "\n",
    "#print classification report\n",
    "print(\"5 Epoch with LR 3e-5 fp16 False, batch size = 4, grad acc = 1 14000 dataset, oversampled\")\n",
    "print(classification_report(y_test, preds, target_names=list(label_map.values())))"
   ]
  },
  {
   "cell_type": "markdown",
   "metadata": {},
   "source": [
    "##### Confusion Matrix"
   ]
  },
  {
   "cell_type": "code",
   "execution_count": 24,
   "metadata": {},
   "outputs": [
    {
     "data": {
      "image/png": "[encoded data removed]",
      "text/plain": [
       "<Figure size 640x480 with 2 Axes>"
      ]
     },
     "metadata": {},
     "output_type": "display_data"
    }
   ],
   "source": [
    "cm = confusion_matrix(y_test, preds)\n",
    "sns.heatmap(cm, annot=True, fmt='d', cmap=\"Blues\", xticklabels=list(label_map.values()), yticklabels=list(label_map.values()))\n",
    "plt.xlabel(\"Predicted\")\n",
    "plt.ylabel(\"Actual\")\n",
    "plt.title(\"Confusion Matrix Result 5 Epoch with LR 3e-5 fp16 False, batch size = 8, 7000 dataset\\n, without oversampling, rerun 3, max_grad norm = 1.0, grad acc= 2\")\n",
    "plt.show()"
   ]
  },
  {
   "cell_type": "code",
   "execution_count": 25,
   "metadata": {},
   "outputs": [
    {
     "data": {
      "image/png": "[encoded data removed]",
      "text/plain": [
       "<Figure size 800x500 with 1 Axes>"
      ]
     },
     "metadata": {},
     "output_type": "display_data"
    }
   ],
   "source": [
    "#Train and eval loss visualization\n",
    "\n",
    "import matplotlib.pyplot as plt\n",
    "\n",
    "train_loss = [log[\"loss\"]for log in trainer.state.log_history if \"loss\" in log]\n",
    "eval_loss = [log[\"eval_loss\"]for log in trainer.state.log_history if \"eval_loss\" in log]\n",
    "\n",
    "#generate epochs in range\n",
    "epochs = list(range(1, len(eval_loss) + 1))\n",
    "\n",
    "# plot training dan validation loss\n",
    "plt.figure(figsize=(8,5))\n",
    "plt.plot(range(1, len(train_loss)+ 1), train_loss, label=\"Train loss\", marker=\"o\", linestyle=\"dashed\")\n",
    "plt.plot(epochs, eval_loss, label=\"Validation Loss\", marker=\"s\")\n",
    "\n",
    "plt.xlabel(\"Epoch\")\n",
    "plt.ylabel(\"Loss\")\n",
    "plt.title(\"5 Epoch with LR 3e-5 fp16 False, batch size = 8, 7000 dataset\\n, oversampled, rerun 3, max_grad norm = 1.0, grad acc= 2\\n Train vs Loss\")\n",
    "plt.legend()\n",
    "plt.grid()\n",
    "plt.show()\n"
   ]
  },
  {
   "cell_type": "markdown",
   "metadata": {},
   "source": [
    "#### Improving Neutral Classification"
   ]
  },
  {
   "cell_type": "code",
   "execution_count": 26,
   "metadata": {},
   "outputs": [
    {
     "name": "stdout",
     "output_type": "stream",
     "text": [
      "['POSITIVE', 'POSITIVE', 'NEGATIVE']\n"
     ]
    }
   ],
   "source": [
    "def custom_predict(trainer, text_list):\n",
    "    tokens = tokenizer(text_list, padding=True, truncation=True, max_length=128, return_tensors='pt').to(device)\n",
    "\n",
    "    # Get model predictions (logits)\n",
    "    outputs = trainer.model(**tokens)\n",
    "    logits = outputs.logits.detach().cpu().numpy()\n",
    "\n",
    "    probs = np.exp(logits) / np.exp(logits).sum(axis=-1, keepdims=True)\n",
    "\n",
    "    preds = []\n",
    "    for prob in probs:\n",
    "        if 0.35 < prob[1] < 0.65:\n",
    "            preds.append(1)\n",
    "        else:\n",
    "            preds.append(np.argmax(prob))\n",
    "    return [label_map[p]for p in preds]\n",
    "\n",
    "# text example\n",
    "texts = ['Aplikasinya biasa aja','A really good app for mobile banking', 'aplikasi jelek banyak virusnya']\n",
    "print(custom_predict(trainer, texts))"
   ]
  },
  {
   "cell_type": "code",
   "execution_count": 55,
   "metadata": {},
   "outputs": [
    {
     "data": {
      "text/plain": [
       "('distilbert6_bestcurrentaccuracy_7000\\\\tokenizer_config.json',\n",
       " 'distilbert6_bestcurrentaccuracy_7000\\\\special_tokens_map.json',\n",
       " 'distilbert6_bestcurrentaccuracy_7000\\\\vocab.txt',\n",
       " 'distilbert6_bestcurrentaccuracy_7000\\\\added_tokens.json',\n",
       " 'distilbert6_bestcurrentaccuracy_7000\\\\tokenizer.json')"
      ]
     },
     "execution_count": 55,
     "metadata": {},
     "output_type": "execute_result"
    }
   ],
   "source": [
    "trainer.save_model(\"distilbert6_bestcurrentaccuracy_7000\")\n",
    "tokenizer.save_pretrained(\"distilbert6_bestcurrentaccuracy_7000\")"
   ]
  },
  {
   "cell_type": "markdown",
   "metadata": {},
   "source": [
    "#### Inference simple test using pipeline"
   ]
  },
  {
   "cell_type": "code",
   "execution_count": 32,
   "metadata": {},
   "outputs": [],
   "source": [
    "# from transformers import pipeline\n",
    "\n",
    "# classifier = pipeline(\"sentiment-analysis\", model=\"distilbert1\")\n",
    "\n",
    "# #Inference on new texts\n",
    "# texts = [\"Transfer dana berjalan lancar, tetapi menambahkan rekening baru agak rumit.\"]\n",
    "# predictions = classifier(texts)\n",
    "\n",
    "# #print results\n",
    "# for text, pred in zip(texts, predictions):\n",
    "#     print(f\"Text: {text}\\nSentiment: {pred['label']} (Confidence: {pred['score']:.2f})\")"
   ]
  },
  {
   "cell_type": "code",
   "execution_count": 46,
   "metadata": {},
   "outputs": [],
   "source": [
    "# text = \"Transfer dana berjalan lancar, tetapi menambahkan rekening baru agak rumit.\""
   ]
  },
  {
   "cell_type": "code",
   "execution_count": 80,
   "metadata": {},
   "outputs": [
    {
     "name": "stderr",
     "output_type": "stream",
     "text": [
      "Device set to use cuda:0\n"
     ]
    },
    {
     "name": "stdout",
     "output_type": "stream",
     "text": [
      "Text: Menu dan navigasi terorganisir dengan rapi, tapi mungkin perlu waktu untuk membiasakan diri bagi pengguna baru\n",
      "Sentiment: NEGATIVE ('Confidence': 0.9606)\n"
     ]
    }
   ],
   "source": [
    "from transformers import AutoModelForSequenceClassification, AutoTokenizer, pipeline\n",
    "import numpy as np\n",
    "\n",
    "model_name = \"distilbert6_bestcurrentaccuracy_7000\"\n",
    "model = AutoModelForSequenceClassification.from_pretrained(model_name)\n",
    "tokenizer= AutoTokenizer.from_pretrained(model_name)\n",
    "\n",
    "#define classifier\n",
    "classifier = pipeline(\"sentiment-analysis\", model=model, tokenizer=tokenizer, top_k=None)\n",
    "\n",
    "#label mapping\n",
    "label_map = {\"LABEL_0\": \"NEGATIVE\", \"LABEL_1\": \"NEUTRAL\", \"LABEL_2\": \"POSITIVE\"}\n",
    "\n",
    "#inference\n",
    "texts = [\"Menu dan navigasi terorganisir dengan rapi, tapi mungkin perlu waktu untuk membiasakan diri bagi pengguna baru.\"]\n",
    "predictions = classifier(texts)\n",
    "\n",
    "for text, scores in zip(texts, predictions):\n",
    "    # Find best label with highest confidence\n",
    "    best_pred = max(scores, key=lambda x: x['score'])\n",
    "    best_label = label_map[best_pred['label']]\n",
    "\n",
    "    print(f\"Text: {text}\\nSentiment: {best_label} ('Confidence': {best_pred['score']:.4f})\")"
   ]
  },
  {
   "cell_type": "markdown",
   "metadata": {},
   "source": [
    "### Test on Dataset "
   ]
  },
  {
   "cell_type": "code",
   "execution_count": 30,
   "metadata": {},
   "outputs": [
    {
     "name": "stderr",
     "output_type": "stream",
     "text": [
      "Device set to use cuda:0\n"
     ]
    }
   ],
   "source": [
    "from transformers import AutoModelForSequenceClassification, AutoTokenizer, pipeline\n",
    "import numpy as np\n",
    "import pandas as pd\n",
    "\n",
    "model_name = \"distilbert4_sampled_7000\"\n",
    "model = AutoModelForSequenceClassification.from_pretrained(model_name)\n",
    "tokenizer= AutoTokenizer.from_pretrained(model_name)\n",
    "\n",
    "#define classifier\n",
    "classifier = pipeline(\"sentiment-analysis\", model=model, tokenizer=tokenizer, top_k=None)\n",
    "\n",
    "#label mapping\n",
    "label_map = {\"LABEL_0\": \"NEGATIVE\", \"LABEL_1\": \"NEUTRAL\", \"LABEL_2\": \"POSITIVE\"}\n",
    "\n",
    "df = pd.read_csv(\"bca_preprocessed_data.csv\")\n",
    "\n",
    "df_sample = df.sample(n=30, random_state=20) #test 30 sample from test dataset\n",
    "\n",
    "texts = df_sample[\"content\"].tolist()\n",
    "predictions = classifier(texts)\n",
    "\n",
    "sentiment_results = []\n",
    "confidence_scores = []\n",
    "\n",
    "for scores in predictions:\n",
    "    best_pred = max(scores, key=lambda x: x['score'])\n",
    "    best_label = label_map[best_pred['label']]\n",
    "    best_score = best_pred['score']\n",
    "\n",
    "    sentiment_results.append(best_label)\n",
    "    confidence_scores.append(round(best_score, 4))\n",
    "\n",
    "df_sample[\"predictions\"] = sentiment_results\n",
    "df_sample[\"confidence_score\"] = confidence_scores\n",
    "\n",
    "\n",
    "# Select columns to show later\n",
    "df_sample = df_sample[[\"content\",\"confidence_score\",\"predictions\"]]"
   ]
  },
  {
   "cell_type": "code",
   "execution_count": 31,
   "metadata": {},
   "outputs": [
    {
     "data": {
      "text/html": [
       "<div>\n",
       "<style scoped>\n",
       "    .dataframe tbody tr th:only-of-type {\n",
       "        vertical-align: middle;\n",
       "    }\n",
       "\n",
       "    .dataframe tbody tr th {\n",
       "        vertical-align: top;\n",
       "    }\n",
       "\n",
       "    .dataframe thead th {\n",
       "        text-align: right;\n",
       "    }\n",
       "</style>\n",
       "<table border=\"1\" class=\"dataframe\">\n",
       "  <thead>\n",
       "    <tr style=\"text-align: right;\">\n",
       "      <th></th>\n",
       "      <th>content</th>\n",
       "      <th>confidence_score</th>\n",
       "      <th>predictions</th>\n",
       "    </tr>\n",
       "  </thead>\n",
       "  <tbody>\n",
       "    <tr>\n",
       "      <th>8398</th>\n",
       "      <td>eror mulu gmn pakenya</td>\n",
       "      <td>0.9741</td>\n",
       "      <td>NEGATIVE</td>\n",
       "    </tr>\n",
       "    <tr>\n",
       "      <th>12483</th>\n",
       "      <td>the ui looks like something from the earliest ...</td>\n",
       "      <td>0.9849</td>\n",
       "      <td>NEGATIVE</td>\n",
       "    </tr>\n",
       "    <tr>\n",
       "      <th>6909</th>\n",
       "      <td>nutup sendiri pake cara yg di info di review j...</td>\n",
       "      <td>0.9775</td>\n",
       "      <td>NEGATIVE</td>\n",
       "    </tr>\n",
       "    <tr>\n",
       "      <th>2680</th>\n",
       "      <td>ini gimna udh ke sekian kalinya verifikasi ula...</td>\n",
       "      <td>0.9742</td>\n",
       "      <td>NEGATIVE</td>\n",
       "    </tr>\n",
       "    <tr>\n",
       "      <th>12784</th>\n",
       "      <td>simple fitur lengkap ui minimalis jarang error...</td>\n",
       "      <td>0.9994</td>\n",
       "      <td>POSITIVE</td>\n",
       "    </tr>\n",
       "    <tr>\n",
       "      <th>4207</th>\n",
       "      <td>ribet</td>\n",
       "      <td>0.5306</td>\n",
       "      <td>POSITIVE</td>\n",
       "    </tr>\n",
       "    <tr>\n",
       "      <th>2002</th>\n",
       "      <td>woy bca ini apk masih busuk aje timbang vermuk...</td>\n",
       "      <td>0.9802</td>\n",
       "      <td>NEGATIVE</td>\n",
       "    </tr>\n",
       "    <tr>\n",
       "      <th>3168</th>\n",
       "      <td>kenapa di flazz sekarang nggak ada menu top up...</td>\n",
       "      <td>0.8886</td>\n",
       "      <td>NEGATIVE</td>\n",
       "    </tr>\n",
       "    <tr>\n",
       "      <th>535</th>\n",
       "      <td>saya disuruh merveritifikasi ulang lalu saya l...</td>\n",
       "      <td>0.9752</td>\n",
       "      <td>NEGATIVE</td>\n",
       "    </tr>\n",
       "    <tr>\n",
       "      <th>9820</th>\n",
       "      <td>hey im sorry i cant open the application and a...</td>\n",
       "      <td>0.9987</td>\n",
       "      <td>NEUTRAL</td>\n",
       "    </tr>\n",
       "    <tr>\n",
       "      <th>5967</th>\n",
       "      <td>force close setelah update v</td>\n",
       "      <td>0.6538</td>\n",
       "      <td>NEGATIVE</td>\n",
       "    </tr>\n",
       "    <tr>\n",
       "      <th>9975</th>\n",
       "      <td>jelek tidak bisa verifikasi</td>\n",
       "      <td>0.9767</td>\n",
       "      <td>NEGATIVE</td>\n",
       "    </tr>\n",
       "    <tr>\n",
       "      <th>2638</th>\n",
       "      <td>terimakasih bca mobile banking</td>\n",
       "      <td>0.9994</td>\n",
       "      <td>POSITIVE</td>\n",
       "    </tr>\n",
       "    <tr>\n",
       "      <th>391</th>\n",
       "      <td>mantap mendukung</td>\n",
       "      <td>0.9994</td>\n",
       "      <td>POSITIVE</td>\n",
       "    </tr>\n",
       "    <tr>\n",
       "      <th>12332</th>\n",
       "      <td>pembacaan nfc flash selalu gagal  membuat pros...</td>\n",
       "      <td>0.9792</td>\n",
       "      <td>NEGATIVE</td>\n",
       "    </tr>\n",
       "    <tr>\n",
       "      <th>12162</th>\n",
       "      <td>new update nyusahin hidup orang suruh verifika...</td>\n",
       "      <td>0.9806</td>\n",
       "      <td>NEGATIVE</td>\n",
       "    </tr>\n",
       "    <tr>\n",
       "      <th>6001</th>\n",
       "      <td>bca lagi kenapa ya ko mau masuk mental lagi</td>\n",
       "      <td>0.9986</td>\n",
       "      <td>POSITIVE</td>\n",
       "    </tr>\n",
       "    <tr>\n",
       "      <th>3722</th>\n",
       "      <td>wr</td>\n",
       "      <td>0.9985</td>\n",
       "      <td>POSITIVE</td>\n",
       "    </tr>\n",
       "    <tr>\n",
       "      <th>6330</th>\n",
       "      <td>selama ini tidak ada kendala tapi sudah bebera...</td>\n",
       "      <td>0.8745</td>\n",
       "      <td>NEGATIVE</td>\n",
       "    </tr>\n",
       "    <tr>\n",
       "      <th>6174</th>\n",
       "      <td>nggak bisa jalan crash melulu update terima ka...</td>\n",
       "      <td>0.9667</td>\n",
       "      <td>NEGATIVE</td>\n",
       "    </tr>\n",
       "  </tbody>\n",
       "</table>\n",
       "</div>"
      ],
      "text/plain": [
       "                                                 content  confidence_score  \\\n",
       "8398                               eror mulu gmn pakenya            0.9741   \n",
       "12483  the ui looks like something from the earliest ...            0.9849   \n",
       "6909   nutup sendiri pake cara yg di info di review j...            0.9775   \n",
       "2680   ini gimna udh ke sekian kalinya verifikasi ula...            0.9742   \n",
       "12784  simple fitur lengkap ui minimalis jarang error...            0.9994   \n",
       "4207                                               ribet            0.5306   \n",
       "2002   woy bca ini apk masih busuk aje timbang vermuk...            0.9802   \n",
       "3168   kenapa di flazz sekarang nggak ada menu top up...            0.8886   \n",
       "535    saya disuruh merveritifikasi ulang lalu saya l...            0.9752   \n",
       "9820   hey im sorry i cant open the application and a...            0.9987   \n",
       "5967                        force close setelah update v            0.6538   \n",
       "9975                         jelek tidak bisa verifikasi            0.9767   \n",
       "2638                      terimakasih bca mobile banking            0.9994   \n",
       "391                                     mantap mendukung            0.9994   \n",
       "12332  pembacaan nfc flash selalu gagal  membuat pros...            0.9792   \n",
       "12162  new update nyusahin hidup orang suruh verifika...            0.9806   \n",
       "6001         bca lagi kenapa ya ko mau masuk mental lagi            0.9986   \n",
       "3722                                                  wr            0.9985   \n",
       "6330   selama ini tidak ada kendala tapi sudah bebera...            0.8745   \n",
       "6174   nggak bisa jalan crash melulu update terima ka...            0.9667   \n",
       "\n",
       "      predictions  \n",
       "8398     NEGATIVE  \n",
       "12483    NEGATIVE  \n",
       "6909     NEGATIVE  \n",
       "2680     NEGATIVE  \n",
       "12784    POSITIVE  \n",
       "4207     POSITIVE  \n",
       "2002     NEGATIVE  \n",
       "3168     NEGATIVE  \n",
       "535      NEGATIVE  \n",
       "9820      NEUTRAL  \n",
       "5967     NEGATIVE  \n",
       "9975     NEGATIVE  \n",
       "2638     POSITIVE  \n",
       "391      POSITIVE  \n",
       "12332    NEGATIVE  \n",
       "12162    NEGATIVE  \n",
       "6001     POSITIVE  \n",
       "3722     POSITIVE  \n",
       "6330     NEGATIVE  \n",
       "6174     NEGATIVE  "
      ]
     },
     "execution_count": 31,
     "metadata": {},
     "output_type": "execute_result"
    }
   ],
   "source": [
    "df_sample.head(20)"
   ]
  },
  {
   "cell_type": "markdown",
   "metadata": {},
   "source": [
    "#### Save to Pickle for Deployment"
   ]
  },
  {
   "cell_type": "code",
   "execution_count": 5,
   "metadata": {},
   "outputs": [
    {
     "name": "stdout",
     "output_type": "stream",
     "text": [
      "saved successfully✅\n"
     ]
    }
   ],
   "source": [
    "import pickle\n",
    "import torch\n",
    "\n",
    "from transformers import AutoModelForSequenceClassification, AutoTokenizer\n",
    "\n",
    "#load trained model\n",
    "model_name = \"distilbert1\"\n",
    "model = AutoModelForSequenceClassification.from_pretrained(model_name)\n",
    "tokenizer = AutoTokenizer.from_pretrained(model_name)\n",
    "\n",
    "#save model\n",
    "model_save_path = \"model/distilbert_1_model3epoch.pkl\"\n",
    "tokenizer_save_path = \"model/tokenizer_3epoch.pkl\"\n",
    "\n",
    "with open(model_save_path, \"wb\")as f:\n",
    "    pickle.dump(model, f)\n",
    "\n",
    "with open(tokenizer_save_path, \"wb\") as f:\n",
    "    pickle.dump(tokenizer, f)\n",
    "\n",
    "print(\"saved successfully✅\")\n",
    "\n"
   ]
  },
  {
   "cell_type": "code",
   "execution_count": 6,
   "metadata": {},
   "outputs": [
    {
     "name": "stdout",
     "output_type": "stream",
     "text": [
      "<class 'transformers.models.distilbert.tokenization_distilbert_fast.DistilBertTokenizerFast'>\n"
     ]
    }
   ],
   "source": [
    "print(type(tokenizer))  # It should be <class 'transformers.PreTrainedTokenizerFast'> or similar\n"
   ]
  }
 ],
 "metadata": {
  "kernelspec": {
   "display_name": "pytorch_nvidia",
   "language": "python",
   "name": "python3"
  },
  "language_info": {
   "codemirror_mode": {
    "name": "ipython",
    "version": 3
   },
   "file_extension": ".py",
   "mimetype": "text/x-python",
   "name": "python",
   "nbconvert_exporter": "python",
   "pygments_lexer": "ipython3",
   "version": "3.10.0"
  }
 },
 "nbformat": 4,
 "nbformat_minor": 2
}
