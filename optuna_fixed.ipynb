{
 "cells": [
  {
   "cell_type": "markdown",
   "metadata": {},
   "source": [
    "# DISTILBERT Multilanguage"
   ]
  },
  {
   "cell_type": "markdown",
   "metadata": {},
   "source": [
    "#### Configure NVIDIA GPU as Default"
   ]
  },
  {
   "cell_type": "code",
   "execution_count": 2,
   "metadata": {},
   "outputs": [
    {
     "name": "stdout",
     "output_type": "stream",
     "text": [
      "Number of GPU:  1\n",
      "GPU Name:  NVIDIA GeForce GTX 1650\n",
      "GPU: NVIDIA GeForce GTX 1650 is available.\n"
     ]
    }
   ],
   "source": [
    "import torch\n",
    "\n",
    "print(\"Number of GPU: \", torch.cuda.device_count())\n",
    "print(\"GPU Name: \", torch.cuda.get_device_name())\n",
    "\n",
    "if torch.cuda.is_available():\n",
    "    print(f\"GPU: {torch.cuda.get_device_name(0)} is available.\")\n",
    "else:\n",
    "    print(\"No GPU available. Training will run on CPU.\")"
   ]
  },
  {
   "cell_type": "code",
   "execution_count": 3,
   "metadata": {},
   "outputs": [
    {
     "name": "stdout",
     "output_type": "stream",
     "text": [
      "Selected Device: cuda\n"
     ]
    }
   ],
   "source": [
    "#Configure device: Set the device configuration to GPU using the torch.device class in PyTorch:\n",
    "\n",
    "device = torch.device(\"cuda\" if torch.cuda.is_available() else \"cpu\")\n",
    "print(\"Selected Device:\", device)"
   ]
  },
  {
   "cell_type": "markdown",
   "metadata": {},
   "source": [
    "### Importing Library"
   ]
  },
  {
   "cell_type": "code",
   "execution_count": 4,
   "metadata": {},
   "outputs": [],
   "source": [
    "import pandas as pd\n",
    "import numpy as np"
   ]
  },
  {
   "cell_type": "markdown",
   "metadata": {},
   "source": [
    "### Load Data"
   ]
  },
  {
   "cell_type": "code",
   "execution_count": 5,
   "metadata": {},
   "outputs": [
    {
     "data": {
      "text/html": [
       "<div>\n",
       "<style scoped>\n",
       "    .dataframe tbody tr th:only-of-type {\n",
       "        vertical-align: middle;\n",
       "    }\n",
       "\n",
       "    .dataframe tbody tr th {\n",
       "        vertical-align: top;\n",
       "    }\n",
       "\n",
       "    .dataframe thead th {\n",
       "        text-align: right;\n",
       "    }\n",
       "</style>\n",
       "<table border=\"1\" class=\"dataframe\">\n",
       "  <thead>\n",
       "    <tr style=\"text-align: right;\">\n",
       "      <th></th>\n",
       "      <th>content</th>\n",
       "      <th>score</th>\n",
       "      <th>sentiment</th>\n",
       "    </tr>\n",
       "  </thead>\n",
       "  <tbody>\n",
       "    <tr>\n",
       "      <th>0</th>\n",
       "      <td>pelayanan buruk trouble tidak ada info era dig...</td>\n",
       "      <td>1</td>\n",
       "      <td>0</td>\n",
       "    </tr>\n",
       "    <tr>\n",
       "      <th>1</th>\n",
       "      <td>kenapa sih ini verif aplikasinya susah banget ...</td>\n",
       "      <td>1</td>\n",
       "      <td>0</td>\n",
       "    </tr>\n",
       "    <tr>\n",
       "      <th>2</th>\n",
       "      <td>notifikasi transaksi tidak bisa di edit hapus ...</td>\n",
       "      <td>1</td>\n",
       "      <td>0</td>\n",
       "    </tr>\n",
       "    <tr>\n",
       "      <th>3</th>\n",
       "      <td>tidak bisa dibuka selalu force close talkback ...</td>\n",
       "      <td>1</td>\n",
       "      <td>0</td>\n",
       "    </tr>\n",
       "    <tr>\n",
       "      <th>4</th>\n",
       "      <td>ok bagus dan membantun</td>\n",
       "      <td>5</td>\n",
       "      <td>2</td>\n",
       "    </tr>\n",
       "  </tbody>\n",
       "</table>\n",
       "</div>"
      ],
      "text/plain": [
       "                                             content  score  sentiment\n",
       "0  pelayanan buruk trouble tidak ada info era dig...      1          0\n",
       "1  kenapa sih ini verif aplikasinya susah banget ...      1          0\n",
       "2  notifikasi transaksi tidak bisa di edit hapus ...      1          0\n",
       "3  tidak bisa dibuka selalu force close talkback ...      1          0\n",
       "4                             ok bagus dan membantun      5          2"
      ]
     },
     "execution_count": 5,
     "metadata": {},
     "output_type": "execute_result"
    }
   ],
   "source": [
    "df = pd.read_csv('bca_preprocessed_half.csv', delimiter=',')\n",
    "df.head(5)"
   ]
  },
  {
   "cell_type": "code",
   "execution_count": 6,
   "metadata": {},
   "outputs": [
    {
     "data": {
      "text/plain": [
       "(7000, 3)"
      ]
     },
     "execution_count": 6,
     "metadata": {},
     "output_type": "execute_result"
    }
   ],
   "source": [
    "df.shape"
   ]
  },
  {
   "cell_type": "markdown",
   "metadata": {},
   "source": [
    "### Find and clean missing data pt2"
   ]
  },
  {
   "cell_type": "code",
   "execution_count": 7,
   "metadata": {},
   "outputs": [
    {
     "data": {
      "text/plain": [
       "content      0\n",
       "score        0\n",
       "sentiment    0\n",
       "dtype: int64"
      ]
     },
     "execution_count": 7,
     "metadata": {},
     "output_type": "execute_result"
    }
   ],
   "source": [
    "df.isnull().sum()"
   ]
  },
  {
   "cell_type": "code",
   "execution_count": 8,
   "metadata": {},
   "outputs": [],
   "source": [
    "bca_clean_again = df.dropna()"
   ]
  },
  {
   "cell_type": "code",
   "execution_count": 9,
   "metadata": {},
   "outputs": [
    {
     "data": {
      "text/plain": [
       "content      0\n",
       "score        0\n",
       "sentiment    0\n",
       "dtype: int64"
      ]
     },
     "execution_count": 9,
     "metadata": {},
     "output_type": "execute_result"
    }
   ],
   "source": [
    "bca_clean_again.isnull().sum()"
   ]
  },
  {
   "cell_type": "code",
   "execution_count": 10,
   "metadata": {},
   "outputs": [
    {
     "data": {
      "text/plain": [
       "(7000, 3)"
      ]
     },
     "execution_count": 10,
     "metadata": {},
     "output_type": "execute_result"
    }
   ],
   "source": [
    "bca_clean_again.shape"
   ]
  },
  {
   "cell_type": "markdown",
   "metadata": {},
   "source": [
    "### Check Data Balance when Splitting🪓"
   ]
  },
  {
   "cell_type": "code",
   "execution_count": 11,
   "metadata": {},
   "outputs": [],
   "source": [
    "#Split features (content) and labels (sentiment)\n",
    "\n",
    "X = bca_clean_again['content']\n",
    "y = bca_clean_again['sentiment']"
   ]
  },
  {
   "cell_type": "code",
   "execution_count": 12,
   "metadata": {},
   "outputs": [
    {
     "name": "stdout",
     "output_type": "stream",
     "text": [
      "Before balancing:\n",
      "sentiment\n",
      "0    4181\n",
      "2    2188\n",
      "1     631\n",
      "Name: count, dtype: int64\n"
     ]
    }
   ],
   "source": [
    "# Check dataset balance and apply oversampling for \"Neutral\" class if needed\n",
    "print(\"Before balancing:\")\n",
    "print(y.value_counts())"
   ]
  },
  {
   "cell_type": "markdown",
   "metadata": {},
   "source": [
    "##### Melakukan balancing data karena kelas 0 mempunyai values yang sedikit dan dapat berpengaruh kepada performa yang tidak baik menggunakan Oversampling: duplikasi class minoritas untuk menyeimbangkan dataset."
   ]
  },
  {
   "cell_type": "code",
   "execution_count": 13,
   "metadata": {},
   "outputs": [],
   "source": [
    "# Oversampling technique\n",
    "from sklearn.utils import resample\n",
    "\n",
    "\n",
    "bca_clean_again = pd.concat([X, y], axis=1)\n",
    "\n",
    "#separating each class\n",
    "\n",
    "class_0 = bca_clean_again[bca_clean_again['sentiment'] == 0]\n",
    "class_1 = bca_clean_again[bca_clean_again['sentiment'] == 1]\n",
    "class_2 = bca_clean_again[bca_clean_again['sentiment'] == 2]\n",
    "\n",
    "#oversampling neutral class 1 with majority class 2\n",
    "\n",
    "class_1_oversampled = resample(class_1, replace=True, n_samples=len(class_0), random_state=42)\n",
    "class_2_oversampled = resample(class_2, replace=True, n_samples=len(class_0), random_state=42)\n",
    "\n",
    "#combine all class\n",
    "bca_clean_again = pd.concat([class_0, class_1_oversampled, class_2_oversampled])\n",
    "\n",
    "#shuffling the data\n",
    "bca_clean_again = bca_clean_again.sample(frac=1, random_state=42)\n",
    "\n",
    "X = bca_clean_again['content']\n",
    "y = bca_clean_again['sentiment']"
   ]
  },
  {
   "cell_type": "code",
   "execution_count": 14,
   "metadata": {},
   "outputs": [
    {
     "name": "stdout",
     "output_type": "stream",
     "text": [
      "After balancing:\n",
      "sentiment\n",
      "0    4181\n",
      "2    4181\n",
      "1    4181\n",
      "Name: count, dtype: int64\n"
     ]
    }
   ],
   "source": [
    "# Check dataset balance and apply oversampling for \"Neutral\" class if needed\n",
    "print(\"After balancing:\")\n",
    "print(y.value_counts())"
   ]
  },
  {
   "cell_type": "markdown",
   "metadata": {},
   "source": [
    "### Splitting Data🪓🪓🪓 , 80:20 "
   ]
  },
  {
   "cell_type": "code",
   "execution_count": 15,
   "metadata": {},
   "outputs": [],
   "source": [
    "from sklearn.model_selection import train_test_split\n",
    "\n",
    "X_train, X_temp, y_train, y_temp = train_test_split(X, y, test_size=0.2, \n",
    "                                                    random_state=42, stratify=y)\n",
    "\n",
    "#split 20% test+validation into 10%test dan 10%validation test\n",
    "X_val, X_test, y_val, y_test = train_test_split(X_temp, y_temp, \n",
    "                                               test_size=0.5, random_state=42,stratify=y_temp)"
   ]
  },
  {
   "cell_type": "code",
   "execution_count": 16,
   "metadata": {},
   "outputs": [
    {
     "name": "stdout",
     "output_type": "stream",
     "text": [
      "Training set size: 10034\n",
      "Validation set size: 1254\n",
      "Test set size: 1255\n"
     ]
    }
   ],
   "source": [
    "print(f\"Training set size: {len(X_train)}\")\n",
    "print(f\"Validation set size: {len(X_val)}\")\n",
    "print(f\"Test set size: {len(X_test)}\")"
   ]
  },
  {
   "cell_type": "markdown",
   "metadata": {},
   "source": [
    "#### Build Tokenizer with custom tune DistilBERT"
   ]
  },
  {
   "cell_type": "code",
   "execution_count": 17,
   "metadata": {},
   "outputs": [],
   "source": [
    "# import transformer library\n",
    "from transformers import AutoTokenizer, DistilBertModel, DistilBertForSequenceClassification, DistilBertTokenizer, AutoModelForSequenceClassification\n",
    "\n",
    "\n",
    "tokenizer = AutoTokenizer.from_pretrained(\"distilbert/distilbert-base-multilingual-cased\")"
   ]
  },
  {
   "cell_type": "markdown",
   "metadata": {},
   "source": [
    "#### Convert Dataset to Hugging Face Format"
   ]
  },
  {
   "cell_type": "code",
   "execution_count": 18,
   "metadata": {},
   "outputs": [
    {
     "name": "stdout",
     "output_type": "stream",
     "text": [
      "{'text': 'kecewa sekali kenapa sekarang selalu verivikasi data terusmenyusahkan saja', 'label': 0, '__index_level_0__': 6277}\n"
     ]
    }
   ],
   "source": [
    "from datasets import Dataset\n",
    "\n",
    "def convert_dataset(X, y):\n",
    "    return Dataset.from_pandas(pd.DataFrame({\"text\": X, \"label\": y}))\n",
    "\n",
    "train_dataset = convert_dataset(X_train, y_train)\n",
    "validation_dataset = convert_dataset(X_val, y_val)\n",
    "test_dataset = convert_dataset(X_test, y_test)\n",
    "\n",
    "label_map = {0: \"NEGATIVE\", 1: \"NEUTRAL\", 2: \"POSITIVE\"}\n",
    "\n",
    "print(train_dataset[0])"
   ]
  },
  {
   "cell_type": "markdown",
   "metadata": {},
   "source": [
    "#### Create tokenizer function"
   ]
  },
  {
   "cell_type": "code",
   "execution_count": 19,
   "metadata": {},
   "outputs": [
    {
     "data": {
      "application/vnd.jupyter.widget-view+json": {
       "model_id": "9a44c71a372d4a32bb1052d78911feae",
       "version_major": 2,
       "version_minor": 0
      },
      "text/plain": [
       "Map:   0%|          | 0/10034 [00:00<?, ? examples/s]"
      ]
     },
     "metadata": {},
     "output_type": "display_data"
    },
    {
     "data": {
      "application/vnd.jupyter.widget-view+json": {
       "model_id": "ab8c769d477848aba2b1a0c9aa7173f3",
       "version_major": 2,
       "version_minor": 0
      },
      "text/plain": [
       "Map:   0%|          | 0/1254 [00:00<?, ? examples/s]"
      ]
     },
     "metadata": {},
     "output_type": "display_data"
    },
    {
     "data": {
      "application/vnd.jupyter.widget-view+json": {
       "model_id": "6d66709d842e49c1b3cd4157518e92e2",
       "version_major": 2,
       "version_minor": 0
      },
      "text/plain": [
       "Map:   0%|          | 0/1255 [00:00<?, ? examples/s]"
      ]
     },
     "metadata": {},
     "output_type": "display_data"
    }
   ],
   "source": [
    "def tokenize_function(examples):\n",
    "    return tokenizer(examples[\"text\"], padding=\"max_length\", truncation=True, max_length=128)\n",
    "\n",
    "#apply tokenizer to datasets\n",
    "train_dataset = train_dataset.map(tokenize_function, batched=True)\n",
    "validation_dataset = validation_dataset.map(tokenize_function, batched=True)\n",
    "test_dataset= test_dataset.map(tokenize_function, batched=True)\n",
    "\n",
    "# Remove text column as it's no longer needed\n",
    "train_dataset = train_dataset.remove_columns([\"text\"])\n",
    "validation_dataset = validation_dataset.remove_columns([\"text\"])\n",
    "test_dataset= test_dataset.remove_columns([\"text\"])\n",
    "\n",
    "# Convert labels to int format\n",
    "train_dataset = train_dataset.with_format(\"torch\")\n",
    "validation_dataset  = validation_dataset.with_format(\"torch\")\n",
    "test_dataset = test_dataset.with_format(\"torch\")"
   ]
  },
  {
   "cell_type": "code",
   "execution_count": 20,
   "metadata": {},
   "outputs": [],
   "source": [
    "import evaluate\n",
    "\n",
    "metric = evaluate.load(\"accuracy\")\n",
    "\n",
    "def compute_metrics(eval_pred):\n",
    "    logits, labels = eval_pred\n",
    "    predictions = np.argmax(logits, axis=-1)\n",
    "    accuracy = metric.compute(predictions=predictions, references=labels)\n",
    "    return {\"accuracy\": accuracy[\"accuracy\"]}"
   ]
  },
  {
   "cell_type": "markdown",
   "metadata": {},
   "source": [
    "#### Define Trainer and looping"
   ]
  },
  {
   "cell_type": "code",
   "execution_count": 21,
   "metadata": {},
   "outputs": [
    {
     "name": "stderr",
     "output_type": "stream",
     "text": [
      "[I 2025-03-08 12:07:28,410] A new study created in memory with name: no-name-283415e2-f274-4084-b234-41eea21ee73b\n",
      "C:\\Users\\Darren\\AppData\\Local\\Temp\\ipykernel_20792\\1782534341.py:10: FutureWarning: suggest_loguniform has been deprecated in v3.0.0. This feature will be removed in v6.0.0. See https://github.com/optuna/optuna/releases/tag/v3.0.0. Use suggest_float(..., log=True) instead.\n",
      "  learning_rate = trial.suggest_loguniform(\"learning_rate\", 1e-5, 3e-5)\n",
      "C:\\Users\\Darren\\AppData\\Local\\Temp\\ipykernel_20792\\1782534341.py:13: FutureWarning: suggest_loguniform has been deprecated in v3.0.0. This feature will be removed in v6.0.0. See https://github.com/optuna/optuna/releases/tag/v3.0.0. Use suggest_float(..., log=True) instead.\n",
      "  weight_decay = trial.suggest_loguniform(\"weight_decay\", 1e-4, 1e-3)\n",
      "C:\\Users\\Darren\\AppData\\Local\\Temp\\ipykernel_20792\\1782534341.py:14: FutureWarning: suggest_loguniform has been deprecated in v3.0.0. This feature will be removed in v6.0.0. See https://github.com/optuna/optuna/releases/tag/v3.0.0. Use suggest_float(..., log=True) instead.\n",
      "  max_grad_norm = trial.suggest_loguniform(\"max_grad_norm\", 0.5, 1.0)\n",
      "Some weights of DistilBertForSequenceClassification were not initialized from the model checkpoint at distilbert/distilbert-base-multilingual-cased and are newly initialized: ['classifier.bias', 'classifier.weight', 'pre_classifier.bias', 'pre_classifier.weight']\n",
      "You should probably TRAIN this model on a down-stream task to be able to use it for predictions and inference.\n",
      "C:\\Users\\Darren\\AppData\\Local\\Temp\\ipykernel_20792\\1782534341.py:50: FutureWarning: `tokenizer` is deprecated and will be removed in version 5.0.0 for `Trainer.__init__`. Use `processing_class` instead.\n",
      "  optuna_trainer = Trainer(\n"
     ]
    },
    {
     "data": {
      "application/vnd.jupyter.widget-view+json": {
       "model_id": "9a210116aff14ab0a820e489dba9dd6b",
       "version_major": 2,
       "version_minor": 0
      },
      "text/plain": [
       "  0%|          | 0/1565 [00:00<?, ?it/s]"
      ]
     },
     "metadata": {},
     "output_type": "display_data"
    },
    {
     "data": {
      "application/vnd.jupyter.widget-view+json": {
       "model_id": "e7b609f1eef845898d2eae958405a9f8",
       "version_major": 2,
       "version_minor": 0
      },
      "text/plain": [
       "  0%|          | 0/157 [00:00<?, ?it/s]"
      ]
     },
     "metadata": {},
     "output_type": "display_data"
    },
    {
     "name": "stdout",
     "output_type": "stream",
     "text": [
      "{'eval_loss': 0.707910418510437, 'eval_accuracy': 0.7001594896331739, 'eval_runtime': 11.7276, 'eval_samples_per_second': 106.927, 'eval_steps_per_second': 13.387, 'epoch': 1.0}\n",
      "{'loss': 0.7909, 'grad_norm': 42.31207275390625, 'learning_rate': 1.4556989503617741e-05, 'epoch': 1.6}\n"
     ]
    },
    {
     "data": {
      "application/vnd.jupyter.widget-view+json": {
       "model_id": "1c03622fc6b34aae95f8923d2284b522",
       "version_major": 2,
       "version_minor": 0
      },
      "text/plain": [
       "  0%|          | 0/157 [00:00<?, ?it/s]"
      ]
     },
     "metadata": {},
     "output_type": "display_data"
    },
    {
     "name": "stdout",
     "output_type": "stream",
     "text": [
      "{'eval_loss': 0.4619300365447998, 'eval_accuracy': 0.8229665071770335, 'eval_runtime': 11.5046, 'eval_samples_per_second': 109.0, 'eval_steps_per_second': 13.647, 'epoch': 2.0}\n"
     ]
    },
    {
     "data": {
      "application/vnd.jupyter.widget-view+json": {
       "model_id": "a776d7092a48460fbc6e07917552ac34",
       "version_major": 2,
       "version_minor": 0
      },
      "text/plain": [
       "  0%|          | 0/157 [00:00<?, ?it/s]"
      ]
     },
     "metadata": {},
     "output_type": "display_data"
    },
    {
     "name": "stdout",
     "output_type": "stream",
     "text": [
      "{'eval_loss': 0.3662399649620056, 'eval_accuracy': 0.8676236044657097, 'eval_runtime': 11.5456, 'eval_samples_per_second': 108.613, 'eval_steps_per_second': 13.598, 'epoch': 3.0}\n",
      "{'loss': 0.3586, 'grad_norm': 29.48398780822754, 'learning_rate': 7.722722131027254e-06, 'epoch': 3.19}\n"
     ]
    },
    {
     "data": {
      "application/vnd.jupyter.widget-view+json": {
       "model_id": "6937765487b44e2ab17a12359877d75c",
       "version_major": 2,
       "version_minor": 0
      },
      "text/plain": [
       "  0%|          | 0/157 [00:00<?, ?it/s]"
      ]
     },
     "metadata": {},
     "output_type": "display_data"
    },
    {
     "name": "stdout",
     "output_type": "stream",
     "text": [
      "{'eval_loss': 0.36514535546302795, 'eval_accuracy': 0.879585326953748, 'eval_runtime': 11.4502, 'eval_samples_per_second': 109.517, 'eval_steps_per_second': 13.712, 'epoch': 4.0}\n",
      "{'loss': 0.1796, 'grad_norm': 52.81742477416992, 'learning_rate': 8.884547584367636e-07, 'epoch': 4.79}\n"
     ]
    },
    {
     "data": {
      "application/vnd.jupyter.widget-view+json": {
       "model_id": "bc969f5cd12349e182e1ce7a6caa6f84",
       "version_major": 2,
       "version_minor": 0
      },
      "text/plain": [
       "  0%|          | 0/157 [00:00<?, ?it/s]"
      ]
     },
     "metadata": {},
     "output_type": "display_data"
    },
    {
     "name": "stdout",
     "output_type": "stream",
     "text": [
      "{'eval_loss': 0.3410923182964325, 'eval_accuracy': 0.8923444976076556, 'eval_runtime': 11.4111, 'eval_samples_per_second': 109.893, 'eval_steps_per_second': 13.759, 'epoch': 5.0}\n",
      "{'train_runtime': 1813.632, 'train_samples_per_second': 27.663, 'train_steps_per_second': 0.863, 'train_loss': 0.4308215400281425, 'epoch': 5.0}\n"
     ]
    },
    {
     "data": {
      "application/vnd.jupyter.widget-view+json": {
       "model_id": "30ac8f503d394a289ba3c2611fea44d3",
       "version_major": 2,
       "version_minor": 0
      },
      "text/plain": [
       "  0%|          | 0/157 [00:00<?, ?it/s]"
      ]
     },
     "metadata": {},
     "output_type": "display_data"
    },
    {
     "name": "stderr",
     "output_type": "stream",
     "text": [
      "[I 2025-03-08 12:37:55,484] Trial 0 finished with value: 0.8923444976076556 and parameters: {'learning_rate': 2.0707830138949183e-05, 'num_train_epochs': 5, 'batch_size': 8, 'weight_decay': 0.00023405375271964805, 'max_grad_norm': 0.6733374360239508, 'gradient_accumulation_steps': 4}. Best is trial 0 with value: 0.8923444976076556.\n",
      "C:\\Users\\Darren\\AppData\\Local\\Temp\\ipykernel_20792\\1782534341.py:10: FutureWarning: suggest_loguniform has been deprecated in v3.0.0. This feature will be removed in v6.0.0. See https://github.com/optuna/optuna/releases/tag/v3.0.0. Use suggest_float(..., log=True) instead.\n",
      "  learning_rate = trial.suggest_loguniform(\"learning_rate\", 1e-5, 3e-5)\n",
      "C:\\Users\\Darren\\AppData\\Local\\Temp\\ipykernel_20792\\1782534341.py:13: FutureWarning: suggest_loguniform has been deprecated in v3.0.0. This feature will be removed in v6.0.0. See https://github.com/optuna/optuna/releases/tag/v3.0.0. Use suggest_float(..., log=True) instead.\n",
      "  weight_decay = trial.suggest_loguniform(\"weight_decay\", 1e-4, 1e-3)\n",
      "C:\\Users\\Darren\\AppData\\Local\\Temp\\ipykernel_20792\\1782534341.py:14: FutureWarning: suggest_loguniform has been deprecated in v3.0.0. This feature will be removed in v6.0.0. See https://github.com/optuna/optuna/releases/tag/v3.0.0. Use suggest_float(..., log=True) instead.\n",
      "  max_grad_norm = trial.suggest_loguniform(\"max_grad_norm\", 0.5, 1.0)\n",
      "Some weights of DistilBertForSequenceClassification were not initialized from the model checkpoint at distilbert/distilbert-base-multilingual-cased and are newly initialized: ['classifier.bias', 'classifier.weight', 'pre_classifier.bias', 'pre_classifier.weight']\n",
      "You should probably TRAIN this model on a down-stream task to be able to use it for predictions and inference.\n",
      "C:\\Users\\Darren\\AppData\\Local\\Temp\\ipykernel_20792\\1782534341.py:50: FutureWarning: `tokenizer` is deprecated and will be removed in version 5.0.0 for `Trainer.__init__`. Use `processing_class` instead.\n",
      "  optuna_trainer = Trainer(\n"
     ]
    },
    {
     "data": {
      "application/vnd.jupyter.widget-view+json": {
       "model_id": "1461d07b7eea448d9f262d16f25d7965",
       "version_major": 2,
       "version_minor": 0
      },
      "text/plain": [
       "  0%|          | 0/3344 [00:00<?, ?it/s]"
      ]
     },
     "metadata": {},
     "output_type": "display_data"
    },
    {
     "name": "stdout",
     "output_type": "stream",
     "text": [
      "{'loss': 0.9425, 'grad_norm': 37.09247589111328, 'learning_rate': 1.3864406879224733e-05, 'epoch': 0.6}\n"
     ]
    },
    {
     "data": {
      "application/vnd.jupyter.widget-view+json": {
       "model_id": "478d7ee0f38a48f480fe17d2eaaff401",
       "version_major": 2,
       "version_minor": 0
      },
      "text/plain": [
       "  0%|          | 0/314 [00:00<?, ?it/s]"
      ]
     },
     "metadata": {},
     "output_type": "display_data"
    },
    {
     "name": "stdout",
     "output_type": "stream",
     "text": [
      "{'eval_loss': 0.653180718421936, 'eval_accuracy': 0.74481658692185, 'eval_runtime': 10.6197, 'eval_samples_per_second': 118.082, 'eval_steps_per_second': 29.568, 'epoch': 1.0}\n",
      "{'loss': 0.7181, 'grad_norm': 44.53214645385742, 'learning_rate': 1.1426923250669049e-05, 'epoch': 1.19}\n",
      "{'loss': 0.4941, 'grad_norm': 26.401294708251953, 'learning_rate': 8.989439622113366e-06, 'epoch': 1.79}\n"
     ]
    },
    {
     "data": {
      "application/vnd.jupyter.widget-view+json": {
       "model_id": "50340bf12cce45b6850c8df06f4cdcb2",
       "version_major": 2,
       "version_minor": 0
      },
      "text/plain": [
       "  0%|          | 0/314 [00:00<?, ?it/s]"
      ]
     },
     "metadata": {},
     "output_type": "display_data"
    },
    {
     "name": "stdout",
     "output_type": "stream",
     "text": [
      "{'eval_loss': 0.46868905425071716, 'eval_accuracy': 0.8141945773524721, 'eval_runtime': 10.6399, 'eval_samples_per_second': 117.859, 'eval_steps_per_second': 29.512, 'epoch': 2.0}\n",
      "{'loss': 0.3613, 'grad_norm': 99.07708740234375, 'learning_rate': 6.551955993557681e-06, 'epoch': 2.39}\n",
      "{'loss': 0.2866, 'grad_norm': 24.31690788269043, 'learning_rate': 4.114472365001995e-06, 'epoch': 2.99}\n"
     ]
    },
    {
     "data": {
      "application/vnd.jupyter.widget-view+json": {
       "model_id": "75ba58950d5742a399d799a033291792",
       "version_major": 2,
       "version_minor": 0
      },
      "text/plain": [
       "  0%|          | 0/314 [00:00<?, ?it/s]"
      ]
     },
     "metadata": {},
     "output_type": "display_data"
    },
    {
     "name": "stdout",
     "output_type": "stream",
     "text": [
      "{'eval_loss': 0.3780194818973541, 'eval_accuracy': 0.8716108452950558, 'eval_runtime': 10.7634, 'eval_samples_per_second': 116.506, 'eval_steps_per_second': 29.173, 'epoch': 3.0}\n",
      "{'loss': 0.2176, 'grad_norm': 16.408700942993164, 'learning_rate': 1.676988736446311e-06, 'epoch': 3.58}\n"
     ]
    },
    {
     "data": {
      "application/vnd.jupyter.widget-view+json": {
       "model_id": "a8912c7804034426bf8a42163c9f5113",
       "version_major": 2,
       "version_minor": 0
      },
      "text/plain": [
       "  0%|          | 0/314 [00:00<?, ?it/s]"
      ]
     },
     "metadata": {},
     "output_type": "display_data"
    },
    {
     "name": "stdout",
     "output_type": "stream",
     "text": [
      "{'eval_loss': 0.4070495367050171, 'eval_accuracy': 0.8748006379585327, 'eval_runtime': 10.5473, 'eval_samples_per_second': 118.893, 'eval_steps_per_second': 29.771, 'epoch': 4.0}\n",
      "{'train_runtime': 1584.3026, 'train_samples_per_second': 25.334, 'train_steps_per_second': 2.111, 'train_loss': 0.47228697042145795, 'epoch': 4.0}\n"
     ]
    },
    {
     "data": {
      "application/vnd.jupyter.widget-view+json": {
       "model_id": "1b22d6571dd142f894d7194c123a983d",
       "version_major": 2,
       "version_minor": 0
      },
      "text/plain": [
       "  0%|          | 0/314 [00:00<?, ?it/s]"
      ]
     },
     "metadata": {},
     "output_type": "display_data"
    },
    {
     "name": "stderr",
     "output_type": "stream",
     "text": [
      "[I 2025-03-08 13:04:32,312] Trial 1 finished with value: 0.8748006379585327 and parameters: {'learning_rate': 1.605814214492485e-05, 'num_train_epochs': 4, 'batch_size': 4, 'weight_decay': 0.0003319151715914076, 'max_grad_norm': 0.6181978735981282, 'gradient_accumulation_steps': 3}. Best is trial 0 with value: 0.8923444976076556.\n",
      "C:\\Users\\Darren\\AppData\\Local\\Temp\\ipykernel_20792\\1782534341.py:10: FutureWarning: suggest_loguniform has been deprecated in v3.0.0. This feature will be removed in v6.0.0. See https://github.com/optuna/optuna/releases/tag/v3.0.0. Use suggest_float(..., log=True) instead.\n",
      "  learning_rate = trial.suggest_loguniform(\"learning_rate\", 1e-5, 3e-5)\n",
      "C:\\Users\\Darren\\AppData\\Local\\Temp\\ipykernel_20792\\1782534341.py:13: FutureWarning: suggest_loguniform has been deprecated in v3.0.0. This feature will be removed in v6.0.0. See https://github.com/optuna/optuna/releases/tag/v3.0.0. Use suggest_float(..., log=True) instead.\n",
      "  weight_decay = trial.suggest_loguniform(\"weight_decay\", 1e-4, 1e-3)\n",
      "C:\\Users\\Darren\\AppData\\Local\\Temp\\ipykernel_20792\\1782534341.py:14: FutureWarning: suggest_loguniform has been deprecated in v3.0.0. This feature will be removed in v6.0.0. See https://github.com/optuna/optuna/releases/tag/v3.0.0. Use suggest_float(..., log=True) instead.\n",
      "  max_grad_norm = trial.suggest_loguniform(\"max_grad_norm\", 0.5, 1.0)\n",
      "Some weights of DistilBertForSequenceClassification were not initialized from the model checkpoint at distilbert/distilbert-base-multilingual-cased and are newly initialized: ['classifier.bias', 'classifier.weight', 'pre_classifier.bias', 'pre_classifier.weight']\n",
      "You should probably TRAIN this model on a down-stream task to be able to use it for predictions and inference.\n",
      "C:\\Users\\Darren\\AppData\\Local\\Temp\\ipykernel_20792\\1782534341.py:50: FutureWarning: `tokenizer` is deprecated and will be removed in version 5.0.0 for `Trainer.__init__`. Use `processing_class` instead.\n",
      "  optuna_trainer = Trainer(\n"
     ]
    },
    {
     "data": {
      "application/vnd.jupyter.widget-view+json": {
       "model_id": "83a5c00032b046f8bebc0623d3dfd956",
       "version_major": 2,
       "version_minor": 0
      },
      "text/plain": [
       "  0%|          | 0/6270 [00:00<?, ?it/s]"
      ]
     },
     "metadata": {},
     "output_type": "display_data"
    },
    {
     "name": "stdout",
     "output_type": "stream",
     "text": [
      "{'loss': 0.9371, 'grad_norm': 12.506147384643555, 'learning_rate': 2.3216214833029058e-05, 'epoch': 0.4}\n",
      "{'loss': 0.7487, 'grad_norm': 15.757850646972656, 'learning_rate': 2.12044111213281e-05, 'epoch': 0.8}\n"
     ]
    },
    {
     "data": {
      "application/vnd.jupyter.widget-view+json": {
       "model_id": "6257381a46ad419ca4ea553679a17529",
       "version_major": 2,
       "version_minor": 0
      },
      "text/plain": [
       "  0%|          | 0/314 [00:00<?, ?it/s]"
      ]
     },
     "metadata": {},
     "output_type": "display_data"
    },
    {
     "name": "stdout",
     "output_type": "stream",
     "text": [
      "{'eval_loss': 0.5324914455413818, 'eval_accuracy': 0.7799043062200957, 'eval_runtime': 11.0046, 'eval_samples_per_second': 113.953, 'eval_steps_per_second': 28.534, 'epoch': 1.0}\n",
      "{'loss': 0.5456, 'grad_norm': 4.932614803314209, 'learning_rate': 1.9192607409627145e-05, 'epoch': 1.2}\n",
      "{'loss': 0.4104, 'grad_norm': 2.837205410003662, 'learning_rate': 1.7180803697926185e-05, 'epoch': 1.59}\n",
      "{'loss': 0.3692, 'grad_norm': 24.916194915771484, 'learning_rate': 1.5168999986225228e-05, 'epoch': 1.99}\n"
     ]
    },
    {
     "data": {
      "application/vnd.jupyter.widget-view+json": {
       "model_id": "4b0c75097deb4b6ca775399d0fa25a16",
       "version_major": 2,
       "version_minor": 0
      },
      "text/plain": [
       "  0%|          | 0/314 [00:00<?, ?it/s]"
      ]
     },
     "metadata": {},
     "output_type": "display_data"
    },
    {
     "name": "stdout",
     "output_type": "stream",
     "text": [
      "{'eval_loss': 0.3983236849308014, 'eval_accuracy': 0.8700159489633174, 'eval_runtime': 11.0752, 'eval_samples_per_second': 113.226, 'eval_steps_per_second': 28.352, 'epoch': 2.0}\n",
      "{'loss': 0.2637, 'grad_norm': 1.097480297088623, 'learning_rate': 1.3157196274524268e-05, 'epoch': 2.39}\n",
      "{'loss': 0.2526, 'grad_norm': 0.041768878698349, 'learning_rate': 1.114539256282331e-05, 'epoch': 2.79}\n"
     ]
    },
    {
     "data": {
      "application/vnd.jupyter.widget-view+json": {
       "model_id": "ffd292049ded4e639346c0c26aa0a3fb",
       "version_major": 2,
       "version_minor": 0
      },
      "text/plain": [
       "  0%|          | 0/314 [00:00<?, ?it/s]"
      ]
     },
     "metadata": {},
     "output_type": "display_data"
    },
    {
     "name": "stdout",
     "output_type": "stream",
     "text": [
      "{'eval_loss': 0.5464336276054382, 'eval_accuracy': 0.8883572567783095, 'eval_runtime': 11.0738, 'eval_samples_per_second': 113.241, 'eval_steps_per_second': 28.355, 'epoch': 3.0}\n",
      "{'loss': 0.2254, 'grad_norm': 39.54426956176758, 'learning_rate': 9.133588851122352e-06, 'epoch': 3.19}\n",
      "{'loss': 0.1721, 'grad_norm': 133.8640594482422, 'learning_rate': 7.121785139421393e-06, 'epoch': 3.59}\n",
      "{'loss': 0.1591, 'grad_norm': 0.07623884081840515, 'learning_rate': 5.109981427720435e-06, 'epoch': 3.98}\n"
     ]
    },
    {
     "data": {
      "application/vnd.jupyter.widget-view+json": {
       "model_id": "4dac7cf5605b402ca55f115754c9334f",
       "version_major": 2,
       "version_minor": 0
      },
      "text/plain": [
       "  0%|          | 0/314 [00:00<?, ?it/s]"
      ]
     },
     "metadata": {},
     "output_type": "display_data"
    },
    {
     "name": "stdout",
     "output_type": "stream",
     "text": [
      "{'eval_loss': 0.5134941339492798, 'eval_accuracy': 0.9138755980861244, 'eval_runtime': 11.0945, 'eval_samples_per_second': 113.029, 'eval_steps_per_second': 28.302, 'epoch': 4.0}\n",
      "{'loss': 0.0891, 'grad_norm': 0.01667432300746441, 'learning_rate': 3.098177716019476e-06, 'epoch': 4.38}\n",
      "{'loss': 0.0836, 'grad_norm': 354.06890869140625, 'learning_rate': 1.0863740043185177e-06, 'epoch': 4.78}\n"
     ]
    },
    {
     "data": {
      "application/vnd.jupyter.widget-view+json": {
       "model_id": "ba3b1ebce32945ff949d356c01c81c47",
       "version_major": 2,
       "version_minor": 0
      },
      "text/plain": [
       "  0%|          | 0/314 [00:00<?, ?it/s]"
      ]
     },
     "metadata": {},
     "output_type": "display_data"
    },
    {
     "name": "stdout",
     "output_type": "stream",
     "text": [
      "{'eval_loss': 0.5549994707107544, 'eval_accuracy': 0.9138755980861244, 'eval_runtime': 10.946, 'eval_samples_per_second': 114.562, 'eval_steps_per_second': 28.686, 'epoch': 5.0}\n",
      "{'train_runtime': 2114.6911, 'train_samples_per_second': 23.725, 'train_steps_per_second': 2.965, 'train_loss': 0.3424697039420145, 'epoch': 5.0}\n"
     ]
    },
    {
     "data": {
      "application/vnd.jupyter.widget-view+json": {
       "model_id": "1d803778f2a04626ab64b672d3ecd98d",
       "version_major": 2,
       "version_minor": 0
      },
      "text/plain": [
       "  0%|          | 0/314 [00:00<?, ?it/s]"
      ]
     },
     "metadata": {},
     "output_type": "display_data"
    },
    {
     "name": "stderr",
     "output_type": "stream",
     "text": [
      "[I 2025-03-08 13:40:00,141] Trial 2 finished with value: 0.9138755980861244 and parameters: {'learning_rate': 2.5026838173559924e-05, 'num_train_epochs': 5, 'batch_size': 4, 'weight_decay': 0.00010148240166534687, 'max_grad_norm': 0.8837484398572918, 'gradient_accumulation_steps': 2}. Best is trial 2 with value: 0.9138755980861244.\n"
     ]
    },
    {
     "name": "stdout",
     "output_type": "stream",
     "text": [
      "Best Hyperparameters: {'learning_rate': 2.5026838173559924e-05, 'num_train_epochs': 5, 'batch_size': 4, 'weight_decay': 0.00010148240166534687, 'max_grad_norm': 0.8837484398572918, 'gradient_accumulation_steps': 2}\n",
      "Best Trial: FrozenTrial(number=2, state=TrialState.COMPLETE, values=[0.9138755980861244], datetime_start=datetime.datetime(2025, 3, 8, 13, 4, 32, 313299), datetime_complete=datetime.datetime(2025, 3, 8, 13, 40, 0, 141424), params={'learning_rate': 2.5026838173559924e-05, 'num_train_epochs': 5, 'batch_size': 4, 'weight_decay': 0.00010148240166534687, 'max_grad_norm': 0.8837484398572918, 'gradient_accumulation_steps': 2}, user_attrs={}, system_attrs={}, intermediate_values={}, distributions={'learning_rate': FloatDistribution(high=3e-05, log=True, low=1e-05, step=None), 'num_train_epochs': IntDistribution(high=5, log=False, low=4, step=1), 'batch_size': CategoricalDistribution(choices=(4, 8)), 'weight_decay': FloatDistribution(high=0.001, log=True, low=0.0001, step=None), 'max_grad_norm': FloatDistribution(high=1.0, log=True, low=0.5, step=None), 'gradient_accumulation_steps': IntDistribution(high=4, log=False, low=2, step=1)}, trial_id=2, value=None)\n",
      " Trial  Train Accuracy  Batch Size  Grad Accumulation Steps  Learning Rate  Max Grad Norm  Epochs  Weight Decay   Status\n",
      "     0        0.892344           8                        4       0.000021       0.673337       5      0.000234 COMPLETE\n",
      "     1        0.874801           4                        3       0.000016       0.618198       4      0.000332 COMPLETE\n",
      "     2        0.913876           4                        2       0.000025       0.883748       5      0.000101 COMPLETE\n"
     ]
    }
   ],
   "source": [
    "from transformers import TrainingArguments, Trainer, AutoModelForSequenceClassification\n",
    "import optuna\n",
    "import torch\n",
    "import gc\n",
    "\n",
    "# make sure it sets to GPU\n",
    "device = torch.device(\"cuda\" if torch.cuda.is_available() else \"cpu\")\n",
    "\n",
    "def objective(trial):\n",
    "    learning_rate = trial.suggest_loguniform(\"learning_rate\", 1e-5, 3e-5)\n",
    "    num_train_epochs = trial.suggest_int(\"num_train_epochs\", 4, 5)\n",
    "    batch_size = trial.suggest_categorical(\"batch_size\", [4, 8])\n",
    "    weight_decay = trial.suggest_loguniform(\"weight_decay\", 1e-4, 1e-3)\n",
    "    max_grad_norm = trial.suggest_loguniform(\"max_grad_norm\", 0.5, 1.0)\n",
    "    gradient_accumulation_steps = trial.suggest_int(\"gradient_accumulation_steps\", 2, 4)\n",
    "\n",
    "    # Clear GPU memory before trial\n",
    "    gc.collect()\n",
    "    torch.cuda.empty_cache()\n",
    "    \n",
    "    # load model\n",
    "    model = AutoModelForSequenceClassification.from_pretrained(\"distilbert/distilbert-base-multilingual-cased\",\n",
    "                                                            num_labels=3).to(device)\n",
    "\n",
    "    # enable gpu optimizations\n",
    "    torch.backends.cudnn.benchmark = True\n",
    "    model.gradient_checkpointing_enable()  # Reduces memory usage during training\n",
    "\n",
    "    training_args = TrainingArguments(\n",
    "        output_dir='./distilbert_optuna_result',\n",
    "        learning_rate=learning_rate,\n",
    "        num_train_epochs=num_train_epochs, #increase epochs\n",
    "        per_device_train_batch_size=batch_size, #train batch size\n",
    "        per_device_eval_batch_size=batch_size,  #eval batch size\n",
    "        eval_strategy=\"epoch\", # Evaluate model at the end of each steps\n",
    "        save_strategy=\"epoch\",  # Set save_strategy to \"steps\"\n",
    "        warmup_steps=50,# increase learning rate every 100 steps\n",
    "        lr_scheduler_type=\"linear\",\n",
    "        weight_decay=weight_decay,\n",
    "        logging_dir='./logs',\n",
    "        logging_steps=500, # to save memory\n",
    "        fp16=False, #Gpu Optimization if capable yes, if not FALSE\n",
    "        push_to_hub=False,\n",
    "        load_best_model_at_end=True,\n",
    "        metric_for_best_model=\"accuracy\",\n",
    "        gradient_accumulation_steps=gradient_accumulation_steps, #simulates larger batch size\n",
    "        report_to=\"none\", \n",
    "        max_grad_norm=max_grad_norm  # clips gradient to prevent explosions\n",
    "    )\n",
    "    optuna_trainer = Trainer(\n",
    "        model=model,\n",
    "        args=training_args,\n",
    "        train_dataset=train_dataset,\n",
    "        eval_dataset=validation_dataset,\n",
    "        tokenizer=tokenizer,\n",
    "        compute_metrics=compute_metrics,\n",
    "    )\n",
    "\n",
    "    # train model\n",
    "    optuna_trainer.train()\n",
    "    eval_result = optuna_trainer.evaluate(validation_dataset)\n",
    "\n",
    "    # Clean up memory after each trial\n",
    "    del model\n",
    "    torch.cuda.empty_cache()\n",
    "    gc.collect()\n",
    "\n",
    "    return eval_result.get(\"eval_accuracy\", 0)\n",
    "\n",
    "# Create study\n",
    "study = optuna.create_study(direction=\"maximize\", pruner=optuna.pruners.MedianPruner(n_startup_trials=1, n_warmup_steps=1))\n",
    "study.optimize(objective, n_trials=3)\n",
    "\n",
    "best_params = study.best_params\n",
    "print(\"Best Hyperparameters:\", study.best_params)\n",
    "print(\"Best Trial:\", study.best_trial)\n",
    "\n",
    "df_result = study.trials_dataframe()\n",
    "df_result = df_result[['number', 'value','params_batch_size', 'params_gradient_accumulation_steps',\n",
    "                       'params_learning_rate', 'params_max_grad_norm',\n",
    "                       'params_num_train_epochs', 'params_weight_decay', 'state']]\n",
    "\n",
    "df_result.columns = ['Trial','Train Accuracy','Batch Size','Grad Accumulation Steps','Learning Rate', 'Max Grad Norm',\n",
    "                     'Epochs','Weight Decay','Status']\n",
    "\n",
    "# print as tables\n",
    "print(df_result.to_string(index=False))"
   ]
  },
  {
   "cell_type": "code",
   "execution_count": 22,
   "metadata": {},
   "outputs": [
    {
     "data": {
      "application/vnd.plotly.v1+json": {
       "config": {
        "plotlyServerURL": "https://plot.ly"
       },
       "data": [
        {
         "cliponaxis": false,
         "hovertemplate": [
          "num_train_epochs (IntDistribution): 0.06165180727147705<extra></extra>",
          "max_grad_norm (FloatDistribution): 0.1122624354931347<extra></extra>",
          "batch_size (CategoricalDistribution): 0.15840823482104774<extra></extra>",
          "gradient_accumulation_steps (IntDistribution): 0.15954870439663532<extra></extra>",
          "weight_decay (FloatDistribution): 0.24602242050452564<extra></extra>",
          "learning_rate (FloatDistribution): 0.2621063975131795<extra></extra>"
         ],
         "name": "Objective Value",
         "orientation": "h",
         "text": [
          "0.06",
          "0.11",
          "0.16",
          "0.16",
          "0.25",
          "0.26"
         ],
         "textposition": "outside",
         "type": "bar",
         "x": [
          0.06165180727147705,
          0.1122624354931347,
          0.15840823482104774,
          0.15954870439663532,
          0.24602242050452564,
          0.2621063975131795
         ],
         "y": [
          "num_train_epochs",
          "max_grad_norm",
          "batch_size",
          "gradient_accumulation_steps",
          "weight_decay",
          "learning_rate"
         ]
        }
       ],
       "layout": {
        "template": {
         "data": {
          "bar": [
           {
            "error_x": {
             "color": "#2a3f5f"
            },
            "error_y": {
             "color": "#2a3f5f"
            },
            "marker": {
             "line": {
              "color": "#E5ECF6",
              "width": 0.5
             },
             "pattern": {
              "fillmode": "overlay",
              "size": 10,
              "solidity": 0.2
             }
            },
            "type": "bar"
           }
          ],
          "barpolar": [
           {
            "marker": {
             "line": {
              "color": "#E5ECF6",
              "width": 0.5
             },
             "pattern": {
              "fillmode": "overlay",
              "size": 10,
              "solidity": 0.2
             }
            },
            "type": "barpolar"
           }
          ],
          "carpet": [
           {
            "aaxis": {
             "endlinecolor": "#2a3f5f",
             "gridcolor": "white",
             "linecolor": "white",
             "minorgridcolor": "white",
             "startlinecolor": "#2a3f5f"
            },
            "baxis": {
             "endlinecolor": "#2a3f5f",
             "gridcolor": "white",
             "linecolor": "white",
             "minorgridcolor": "white",
             "startlinecolor": "#2a3f5f"
            },
            "type": "carpet"
           }
          ],
          "choropleth": [
           {
            "colorbar": {
             "outlinewidth": 0,
             "ticks": ""
            },
            "type": "choropleth"
           }
          ],
          "contour": [
           {
            "colorbar": {
             "outlinewidth": 0,
             "ticks": ""
            },
            "colorscale": [
             [
              0,
              "#0d0887"
             ],
             [
              0.1111111111111111,
              "#46039f"
             ],
             [
              0.2222222222222222,
              "#7201a8"
             ],
             [
              0.3333333333333333,
              "#9c179e"
             ],
             [
              0.4444444444444444,
              "#bd3786"
             ],
             [
              0.5555555555555556,
              "#d8576b"
             ],
             [
              0.6666666666666666,
              "#ed7953"
             ],
             [
              0.7777777777777778,
              "#fb9f3a"
             ],
             [
              0.8888888888888888,
              "#fdca26"
             ],
             [
              1,
              "#f0f921"
             ]
            ],
            "type": "contour"
           }
          ],
          "contourcarpet": [
           {
            "colorbar": {
             "outlinewidth": 0,
             "ticks": ""
            },
            "type": "contourcarpet"
           }
          ],
          "heatmap": [
           {
            "colorbar": {
             "outlinewidth": 0,
             "ticks": ""
            },
            "colorscale": [
             [
              0,
              "#0d0887"
             ],
             [
              0.1111111111111111,
              "#46039f"
             ],
             [
              0.2222222222222222,
              "#7201a8"
             ],
             [
              0.3333333333333333,
              "#9c179e"
             ],
             [
              0.4444444444444444,
              "#bd3786"
             ],
             [
              0.5555555555555556,
              "#d8576b"
             ],
             [
              0.6666666666666666,
              "#ed7953"
             ],
             [
              0.7777777777777778,
              "#fb9f3a"
             ],
             [
              0.8888888888888888,
              "#fdca26"
             ],
             [
              1,
              "#f0f921"
             ]
            ],
            "type": "heatmap"
           }
          ],
          "heatmapgl": [
           {
            "colorbar": {
             "outlinewidth": 0,
             "ticks": ""
            },
            "colorscale": [
             [
              0,
              "#0d0887"
             ],
             [
              0.1111111111111111,
              "#46039f"
             ],
             [
              0.2222222222222222,
              "#7201a8"
             ],
             [
              0.3333333333333333,
              "#9c179e"
             ],
             [
              0.4444444444444444,
              "#bd3786"
             ],
             [
              0.5555555555555556,
              "#d8576b"
             ],
             [
              0.6666666666666666,
              "#ed7953"
             ],
             [
              0.7777777777777778,
              "#fb9f3a"
             ],
             [
              0.8888888888888888,
              "#fdca26"
             ],
             [
              1,
              "#f0f921"
             ]
            ],
            "type": "heatmapgl"
           }
          ],
          "histogram": [
           {
            "marker": {
             "pattern": {
              "fillmode": "overlay",
              "size": 10,
              "solidity": 0.2
             }
            },
            "type": "histogram"
           }
          ],
          "histogram2d": [
           {
            "colorbar": {
             "outlinewidth": 0,
             "ticks": ""
            },
            "colorscale": [
             [
              0,
              "#0d0887"
             ],
             [
              0.1111111111111111,
              "#46039f"
             ],
             [
              0.2222222222222222,
              "#7201a8"
             ],
             [
              0.3333333333333333,
              "#9c179e"
             ],
             [
              0.4444444444444444,
              "#bd3786"
             ],
             [
              0.5555555555555556,
              "#d8576b"
             ],
             [
              0.6666666666666666,
              "#ed7953"
             ],
             [
              0.7777777777777778,
              "#fb9f3a"
             ],
             [
              0.8888888888888888,
              "#fdca26"
             ],
             [
              1,
              "#f0f921"
             ]
            ],
            "type": "histogram2d"
           }
          ],
          "histogram2dcontour": [
           {
            "colorbar": {
             "outlinewidth": 0,
             "ticks": ""
            },
            "colorscale": [
             [
              0,
              "#0d0887"
             ],
             [
              0.1111111111111111,
              "#46039f"
             ],
             [
              0.2222222222222222,
              "#7201a8"
             ],
             [
              0.3333333333333333,
              "#9c179e"
             ],
             [
              0.4444444444444444,
              "#bd3786"
             ],
             [
              0.5555555555555556,
              "#d8576b"
             ],
             [
              0.6666666666666666,
              "#ed7953"
             ],
             [
              0.7777777777777778,
              "#fb9f3a"
             ],
             [
              0.8888888888888888,
              "#fdca26"
             ],
             [
              1,
              "#f0f921"
             ]
            ],
            "type": "histogram2dcontour"
           }
          ],
          "mesh3d": [
           {
            "colorbar": {
             "outlinewidth": 0,
             "ticks": ""
            },
            "type": "mesh3d"
           }
          ],
          "parcoords": [
           {
            "line": {
             "colorbar": {
              "outlinewidth": 0,
              "ticks": ""
             }
            },
            "type": "parcoords"
           }
          ],
          "pie": [
           {
            "automargin": true,
            "type": "pie"
           }
          ],
          "scatter": [
           {
            "fillpattern": {
             "fillmode": "overlay",
             "size": 10,
             "solidity": 0.2
            },
            "type": "scatter"
           }
          ],
          "scatter3d": [
           {
            "line": {
             "colorbar": {
              "outlinewidth": 0,
              "ticks": ""
             }
            },
            "marker": {
             "colorbar": {
              "outlinewidth": 0,
              "ticks": ""
             }
            },
            "type": "scatter3d"
           }
          ],
          "scattercarpet": [
           {
            "marker": {
             "colorbar": {
              "outlinewidth": 0,
              "ticks": ""
             }
            },
            "type": "scattercarpet"
           }
          ],
          "scattergeo": [
           {
            "marker": {
             "colorbar": {
              "outlinewidth": 0,
              "ticks": ""
             }
            },
            "type": "scattergeo"
           }
          ],
          "scattergl": [
           {
            "marker": {
             "colorbar": {
              "outlinewidth": 0,
              "ticks": ""
             }
            },
            "type": "scattergl"
           }
          ],
          "scattermapbox": [
           {
            "marker": {
             "colorbar": {
              "outlinewidth": 0,
              "ticks": ""
             }
            },
            "type": "scattermapbox"
           }
          ],
          "scatterpolar": [
           {
            "marker": {
             "colorbar": {
              "outlinewidth": 0,
              "ticks": ""
             }
            },
            "type": "scatterpolar"
           }
          ],
          "scatterpolargl": [
           {
            "marker": {
             "colorbar": {
              "outlinewidth": 0,
              "ticks": ""
             }
            },
            "type": "scatterpolargl"
           }
          ],
          "scatterternary": [
           {
            "marker": {
             "colorbar": {
              "outlinewidth": 0,
              "ticks": ""
             }
            },
            "type": "scatterternary"
           }
          ],
          "surface": [
           {
            "colorbar": {
             "outlinewidth": 0,
             "ticks": ""
            },
            "colorscale": [
             [
              0,
              "#0d0887"
             ],
             [
              0.1111111111111111,
              "#46039f"
             ],
             [
              0.2222222222222222,
              "#7201a8"
             ],
             [
              0.3333333333333333,
              "#9c179e"
             ],
             [
              0.4444444444444444,
              "#bd3786"
             ],
             [
              0.5555555555555556,
              "#d8576b"
             ],
             [
              0.6666666666666666,
              "#ed7953"
             ],
             [
              0.7777777777777778,
              "#fb9f3a"
             ],
             [
              0.8888888888888888,
              "#fdca26"
             ],
             [
              1,
              "#f0f921"
             ]
            ],
            "type": "surface"
           }
          ],
          "table": [
           {
            "cells": {
             "fill": {
              "color": "#EBF0F8"
             },
             "line": {
              "color": "white"
             }
            },
            "header": {
             "fill": {
              "color": "#C8D4E3"
             },
             "line": {
              "color": "white"
             }
            },
            "type": "table"
           }
          ]
         },
         "layout": {
          "annotationdefaults": {
           "arrowcolor": "#2a3f5f",
           "arrowhead": 0,
           "arrowwidth": 1
          },
          "autotypenumbers": "strict",
          "coloraxis": {
           "colorbar": {
            "outlinewidth": 0,
            "ticks": ""
           }
          },
          "colorscale": {
           "diverging": [
            [
             0,
             "#8e0152"
            ],
            [
             0.1,
             "#c51b7d"
            ],
            [
             0.2,
             "#de77ae"
            ],
            [
             0.3,
             "#f1b6da"
            ],
            [
             0.4,
             "#fde0ef"
            ],
            [
             0.5,
             "#f7f7f7"
            ],
            [
             0.6,
             "#e6f5d0"
            ],
            [
             0.7,
             "#b8e186"
            ],
            [
             0.8,
             "#7fbc41"
            ],
            [
             0.9,
             "#4d9221"
            ],
            [
             1,
             "#276419"
            ]
           ],
           "sequential": [
            [
             0,
             "#0d0887"
            ],
            [
             0.1111111111111111,
             "#46039f"
            ],
            [
             0.2222222222222222,
             "#7201a8"
            ],
            [
             0.3333333333333333,
             "#9c179e"
            ],
            [
             0.4444444444444444,
             "#bd3786"
            ],
            [
             0.5555555555555556,
             "#d8576b"
            ],
            [
             0.6666666666666666,
             "#ed7953"
            ],
            [
             0.7777777777777778,
             "#fb9f3a"
            ],
            [
             0.8888888888888888,
             "#fdca26"
            ],
            [
             1,
             "#f0f921"
            ]
           ],
           "sequentialminus": [
            [
             0,
             "#0d0887"
            ],
            [
             0.1111111111111111,
             "#46039f"
            ],
            [
             0.2222222222222222,
             "#7201a8"
            ],
            [
             0.3333333333333333,
             "#9c179e"
            ],
            [
             0.4444444444444444,
             "#bd3786"
            ],
            [
             0.5555555555555556,
             "#d8576b"
            ],
            [
             0.6666666666666666,
             "#ed7953"
            ],
            [
             0.7777777777777778,
             "#fb9f3a"
            ],
            [
             0.8888888888888888,
             "#fdca26"
            ],
            [
             1,
             "#f0f921"
            ]
           ]
          },
          "colorway": [
           "#636efa",
           "#EF553B",
           "#00cc96",
           "#ab63fa",
           "#FFA15A",
           "#19d3f3",
           "#FF6692",
           "#B6E880",
           "#FF97FF",
           "#FECB52"
          ],
          "font": {
           "color": "#2a3f5f"
          },
          "geo": {
           "bgcolor": "white",
           "lakecolor": "white",
           "landcolor": "#E5ECF6",
           "showlakes": true,
           "showland": true,
           "subunitcolor": "white"
          },
          "hoverlabel": {
           "align": "left"
          },
          "hovermode": "closest",
          "mapbox": {
           "style": "light"
          },
          "paper_bgcolor": "white",
          "plot_bgcolor": "#E5ECF6",
          "polar": {
           "angularaxis": {
            "gridcolor": "white",
            "linecolor": "white",
            "ticks": ""
           },
           "bgcolor": "#E5ECF6",
           "radialaxis": {
            "gridcolor": "white",
            "linecolor": "white",
            "ticks": ""
           }
          },
          "scene": {
           "xaxis": {
            "backgroundcolor": "#E5ECF6",
            "gridcolor": "white",
            "gridwidth": 2,
            "linecolor": "white",
            "showbackground": true,
            "ticks": "",
            "zerolinecolor": "white"
           },
           "yaxis": {
            "backgroundcolor": "#E5ECF6",
            "gridcolor": "white",
            "gridwidth": 2,
            "linecolor": "white",
            "showbackground": true,
            "ticks": "",
            "zerolinecolor": "white"
           },
           "zaxis": {
            "backgroundcolor": "#E5ECF6",
            "gridcolor": "white",
            "gridwidth": 2,
            "linecolor": "white",
            "showbackground": true,
            "ticks": "",
            "zerolinecolor": "white"
           }
          },
          "shapedefaults": {
           "line": {
            "color": "#2a3f5f"
           }
          },
          "ternary": {
           "aaxis": {
            "gridcolor": "white",
            "linecolor": "white",
            "ticks": ""
           },
           "baxis": {
            "gridcolor": "white",
            "linecolor": "white",
            "ticks": ""
           },
           "bgcolor": "#E5ECF6",
           "caxis": {
            "gridcolor": "white",
            "linecolor": "white",
            "ticks": ""
           }
          },
          "title": {
           "x": 0.05
          },
          "xaxis": {
           "automargin": true,
           "gridcolor": "white",
           "linecolor": "white",
           "ticks": "",
           "title": {
            "standoff": 15
           },
           "zerolinecolor": "white",
           "zerolinewidth": 2
          },
          "yaxis": {
           "automargin": true,
           "gridcolor": "white",
           "linecolor": "white",
           "ticks": "",
           "title": {
            "standoff": 15
           },
           "zerolinecolor": "white",
           "zerolinewidth": 2
          }
         }
        },
        "title": {
         "text": "Hyperparameter Importances"
        },
        "xaxis": {
         "title": {
          "text": "Hyperparameter Importance"
         }
        },
        "yaxis": {
         "title": {
          "text": "Hyperparameter"
         }
        }
       }
      }
     },
     "metadata": {},
     "output_type": "display_data"
    },
    {
     "data": {
      "application/vnd.plotly.v1+json": {
       "config": {
        "plotlyServerURL": "https://plot.ly"
       },
       "data": [
        {
         "dimensions": [
          {
           "label": "Objective Value",
           "range": [
            0.8748006379585327,
            0.9138755980861244
           ],
           "values": [
            0.8748006379585327,
            0.9138755980861244,
            0.8923444976076556
           ]
          },
          {
           "label": "batch_size",
           "range": [
            0,
            1
           ],
           "ticktext": [
            "4",
            "8"
           ],
           "tickvals": [
            0,
            1
           ],
           "values": [
            0,
            0,
            1
           ]
          },
          {
           "label": "gradient_accumula...",
           "range": [
            2,
            4
           ],
           "values": [
            3,
            2,
            4
           ]
          },
          {
           "label": "learning_rate",
           "range": [
            -4.7943047020760385,
            -4.6015940145752765
           ],
           "ticktext": [
            "1.61e-05",
            "2.5e-05"
           ],
           "tickvals": [
            -4.7943047020760385,
            -4.6015940145752765
           ],
           "values": [
            -4.7943047020760385,
            -4.6015940145752765,
            -4.683865406082475
           ]
          },
          {
           "label": "max_grad_norm",
           "range": [
            -0.20887249310349273,
            -0.053671339884681785
           ],
           "ticktext": [
            "0.618",
            "0.884"
           ],
           "tickvals": [
            -0.20887249310349273,
            -0.053671339884681785
           ],
           "values": [
            -0.20887249310349273,
            -0.053671339884681785,
            -0.1717672390792745
           ]
          },
          {
           "label": "num_train_epochs",
           "range": [
            4,
            5
           ],
           "values": [
            4,
            5,
            5
           ]
          },
          {
           "label": "weight_decay",
           "range": [
            -3.9936092633889615,
            -3.4789728958654544
           ],
           "ticktext": [
            "0.000101",
            "0.000332"
           ],
           "tickvals": [
            -3.9936092633889615,
            -3.4789728958654544
           ],
           "values": [
            -3.4789728958654544,
            -3.9936092633889615,
            -3.6306843911852487
           ]
          }
         ],
         "labelangle": 30,
         "labelside": "bottom",
         "line": {
          "color": [
           0.8748006379585327,
           0.9138755980861244,
           0.8923444976076556
          ],
          "colorbar": {
           "title": {
            "text": "Objective Value"
           }
          },
          "colorscale": [
           [
            0,
            "rgb(247,251,255)"
           ],
           [
            0.125,
            "rgb(222,235,247)"
           ],
           [
            0.25,
            "rgb(198,219,239)"
           ],
           [
            0.375,
            "rgb(158,202,225)"
           ],
           [
            0.5,
            "rgb(107,174,214)"
           ],
           [
            0.625,
            "rgb(66,146,198)"
           ],
           [
            0.75,
            "rgb(33,113,181)"
           ],
           [
            0.875,
            "rgb(8,81,156)"
           ],
           [
            1,
            "rgb(8,48,107)"
           ]
          ],
          "reversescale": false,
          "showscale": true
         },
         "type": "parcoords"
        }
       ],
       "layout": {
        "template": {
         "data": {
          "bar": [
           {
            "error_x": {
             "color": "#2a3f5f"
            },
            "error_y": {
             "color": "#2a3f5f"
            },
            "marker": {
             "line": {
              "color": "#E5ECF6",
              "width": 0.5
             },
             "pattern": {
              "fillmode": "overlay",
              "size": 10,
              "solidity": 0.2
             }
            },
            "type": "bar"
           }
          ],
          "barpolar": [
           {
            "marker": {
             "line": {
              "color": "#E5ECF6",
              "width": 0.5
             },
             "pattern": {
              "fillmode": "overlay",
              "size": 10,
              "solidity": 0.2
             }
            },
            "type": "barpolar"
           }
          ],
          "carpet": [
           {
            "aaxis": {
             "endlinecolor": "#2a3f5f",
             "gridcolor": "white",
             "linecolor": "white",
             "minorgridcolor": "white",
             "startlinecolor": "#2a3f5f"
            },
            "baxis": {
             "endlinecolor": "#2a3f5f",
             "gridcolor": "white",
             "linecolor": "white",
             "minorgridcolor": "white",
             "startlinecolor": "#2a3f5f"
            },
            "type": "carpet"
           }
          ],
          "choropleth": [
           {
            "colorbar": {
             "outlinewidth": 0,
             "ticks": ""
            },
            "type": "choropleth"
           }
          ],
          "contour": [
           {
            "colorbar": {
             "outlinewidth": 0,
             "ticks": ""
            },
            "colorscale": [
             [
              0,
              "#0d0887"
             ],
             [
              0.1111111111111111,
              "#46039f"
             ],
             [
              0.2222222222222222,
              "#7201a8"
             ],
             [
              0.3333333333333333,
              "#9c179e"
             ],
             [
              0.4444444444444444,
              "#bd3786"
             ],
             [
              0.5555555555555556,
              "#d8576b"
             ],
             [
              0.6666666666666666,
              "#ed7953"
             ],
             [
              0.7777777777777778,
              "#fb9f3a"
             ],
             [
              0.8888888888888888,
              "#fdca26"
             ],
             [
              1,
              "#f0f921"
             ]
            ],
            "type": "contour"
           }
          ],
          "contourcarpet": [
           {
            "colorbar": {
             "outlinewidth": 0,
             "ticks": ""
            },
            "type": "contourcarpet"
           }
          ],
          "heatmap": [
           {
            "colorbar": {
             "outlinewidth": 0,
             "ticks": ""
            },
            "colorscale": [
             [
              0,
              "#0d0887"
             ],
             [
              0.1111111111111111,
              "#46039f"
             ],
             [
              0.2222222222222222,
              "#7201a8"
             ],
             [
              0.3333333333333333,
              "#9c179e"
             ],
             [
              0.4444444444444444,
              "#bd3786"
             ],
             [
              0.5555555555555556,
              "#d8576b"
             ],
             [
              0.6666666666666666,
              "#ed7953"
             ],
             [
              0.7777777777777778,
              "#fb9f3a"
             ],
             [
              0.8888888888888888,
              "#fdca26"
             ],
             [
              1,
              "#f0f921"
             ]
            ],
            "type": "heatmap"
           }
          ],
          "heatmapgl": [
           {
            "colorbar": {
             "outlinewidth": 0,
             "ticks": ""
            },
            "colorscale": [
             [
              0,
              "#0d0887"
             ],
             [
              0.1111111111111111,
              "#46039f"
             ],
             [
              0.2222222222222222,
              "#7201a8"
             ],
             [
              0.3333333333333333,
              "#9c179e"
             ],
             [
              0.4444444444444444,
              "#bd3786"
             ],
             [
              0.5555555555555556,
              "#d8576b"
             ],
             [
              0.6666666666666666,
              "#ed7953"
             ],
             [
              0.7777777777777778,
              "#fb9f3a"
             ],
             [
              0.8888888888888888,
              "#fdca26"
             ],
             [
              1,
              "#f0f921"
             ]
            ],
            "type": "heatmapgl"
           }
          ],
          "histogram": [
           {
            "marker": {
             "pattern": {
              "fillmode": "overlay",
              "size": 10,
              "solidity": 0.2
             }
            },
            "type": "histogram"
           }
          ],
          "histogram2d": [
           {
            "colorbar": {
             "outlinewidth": 0,
             "ticks": ""
            },
            "colorscale": [
             [
              0,
              "#0d0887"
             ],
             [
              0.1111111111111111,
              "#46039f"
             ],
             [
              0.2222222222222222,
              "#7201a8"
             ],
             [
              0.3333333333333333,
              "#9c179e"
             ],
             [
              0.4444444444444444,
              "#bd3786"
             ],
             [
              0.5555555555555556,
              "#d8576b"
             ],
             [
              0.6666666666666666,
              "#ed7953"
             ],
             [
              0.7777777777777778,
              "#fb9f3a"
             ],
             [
              0.8888888888888888,
              "#fdca26"
             ],
             [
              1,
              "#f0f921"
             ]
            ],
            "type": "histogram2d"
           }
          ],
          "histogram2dcontour": [
           {
            "colorbar": {
             "outlinewidth": 0,
             "ticks": ""
            },
            "colorscale": [
             [
              0,
              "#0d0887"
             ],
             [
              0.1111111111111111,
              "#46039f"
             ],
             [
              0.2222222222222222,
              "#7201a8"
             ],
             [
              0.3333333333333333,
              "#9c179e"
             ],
             [
              0.4444444444444444,
              "#bd3786"
             ],
             [
              0.5555555555555556,
              "#d8576b"
             ],
             [
              0.6666666666666666,
              "#ed7953"
             ],
             [
              0.7777777777777778,
              "#fb9f3a"
             ],
             [
              0.8888888888888888,
              "#fdca26"
             ],
             [
              1,
              "#f0f921"
             ]
            ],
            "type": "histogram2dcontour"
           }
          ],
          "mesh3d": [
           {
            "colorbar": {
             "outlinewidth": 0,
             "ticks": ""
            },
            "type": "mesh3d"
           }
          ],
          "parcoords": [
           {
            "line": {
             "colorbar": {
              "outlinewidth": 0,
              "ticks": ""
             }
            },
            "type": "parcoords"
           }
          ],
          "pie": [
           {
            "automargin": true,
            "type": "pie"
           }
          ],
          "scatter": [
           {
            "fillpattern": {
             "fillmode": "overlay",
             "size": 10,
             "solidity": 0.2
            },
            "type": "scatter"
           }
          ],
          "scatter3d": [
           {
            "line": {
             "colorbar": {
              "outlinewidth": 0,
              "ticks": ""
             }
            },
            "marker": {
             "colorbar": {
              "outlinewidth": 0,
              "ticks": ""
             }
            },
            "type": "scatter3d"
           }
          ],
          "scattercarpet": [
           {
            "marker": {
             "colorbar": {
              "outlinewidth": 0,
              "ticks": ""
             }
            },
            "type": "scattercarpet"
           }
          ],
          "scattergeo": [
           {
            "marker": {
             "colorbar": {
              "outlinewidth": 0,
              "ticks": ""
             }
            },
            "type": "scattergeo"
           }
          ],
          "scattergl": [
           {
            "marker": {
             "colorbar": {
              "outlinewidth": 0,
              "ticks": ""
             }
            },
            "type": "scattergl"
           }
          ],
          "scattermapbox": [
           {
            "marker": {
             "colorbar": {
              "outlinewidth": 0,
              "ticks": ""
             }
            },
            "type": "scattermapbox"
           }
          ],
          "scatterpolar": [
           {
            "marker": {
             "colorbar": {
              "outlinewidth": 0,
              "ticks": ""
             }
            },
            "type": "scatterpolar"
           }
          ],
          "scatterpolargl": [
           {
            "marker": {
             "colorbar": {
              "outlinewidth": 0,
              "ticks": ""
             }
            },
            "type": "scatterpolargl"
           }
          ],
          "scatterternary": [
           {
            "marker": {
             "colorbar": {
              "outlinewidth": 0,
              "ticks": ""
             }
            },
            "type": "scatterternary"
           }
          ],
          "surface": [
           {
            "colorbar": {
             "outlinewidth": 0,
             "ticks": ""
            },
            "colorscale": [
             [
              0,
              "#0d0887"
             ],
             [
              0.1111111111111111,
              "#46039f"
             ],
             [
              0.2222222222222222,
              "#7201a8"
             ],
             [
              0.3333333333333333,
              "#9c179e"
             ],
             [
              0.4444444444444444,
              "#bd3786"
             ],
             [
              0.5555555555555556,
              "#d8576b"
             ],
             [
              0.6666666666666666,
              "#ed7953"
             ],
             [
              0.7777777777777778,
              "#fb9f3a"
             ],
             [
              0.8888888888888888,
              "#fdca26"
             ],
             [
              1,
              "#f0f921"
             ]
            ],
            "type": "surface"
           }
          ],
          "table": [
           {
            "cells": {
             "fill": {
              "color": "#EBF0F8"
             },
             "line": {
              "color": "white"
             }
            },
            "header": {
             "fill": {
              "color": "#C8D4E3"
             },
             "line": {
              "color": "white"
             }
            },
            "type": "table"
           }
          ]
         },
         "layout": {
          "annotationdefaults": {
           "arrowcolor": "#2a3f5f",
           "arrowhead": 0,
           "arrowwidth": 1
          },
          "autotypenumbers": "strict",
          "coloraxis": {
           "colorbar": {
            "outlinewidth": 0,
            "ticks": ""
           }
          },
          "colorscale": {
           "diverging": [
            [
             0,
             "#8e0152"
            ],
            [
             0.1,
             "#c51b7d"
            ],
            [
             0.2,
             "#de77ae"
            ],
            [
             0.3,
             "#f1b6da"
            ],
            [
             0.4,
             "#fde0ef"
            ],
            [
             0.5,
             "#f7f7f7"
            ],
            [
             0.6,
             "#e6f5d0"
            ],
            [
             0.7,
             "#b8e186"
            ],
            [
             0.8,
             "#7fbc41"
            ],
            [
             0.9,
             "#4d9221"
            ],
            [
             1,
             "#276419"
            ]
           ],
           "sequential": [
            [
             0,
             "#0d0887"
            ],
            [
             0.1111111111111111,
             "#46039f"
            ],
            [
             0.2222222222222222,
             "#7201a8"
            ],
            [
             0.3333333333333333,
             "#9c179e"
            ],
            [
             0.4444444444444444,
             "#bd3786"
            ],
            [
             0.5555555555555556,
             "#d8576b"
            ],
            [
             0.6666666666666666,
             "#ed7953"
            ],
            [
             0.7777777777777778,
             "#fb9f3a"
            ],
            [
             0.8888888888888888,
             "#fdca26"
            ],
            [
             1,
             "#f0f921"
            ]
           ],
           "sequentialminus": [
            [
             0,
             "#0d0887"
            ],
            [
             0.1111111111111111,
             "#46039f"
            ],
            [
             0.2222222222222222,
             "#7201a8"
            ],
            [
             0.3333333333333333,
             "#9c179e"
            ],
            [
             0.4444444444444444,
             "#bd3786"
            ],
            [
             0.5555555555555556,
             "#d8576b"
            ],
            [
             0.6666666666666666,
             "#ed7953"
            ],
            [
             0.7777777777777778,
             "#fb9f3a"
            ],
            [
             0.8888888888888888,
             "#fdca26"
            ],
            [
             1,
             "#f0f921"
            ]
           ]
          },
          "colorway": [
           "#636efa",
           "#EF553B",
           "#00cc96",
           "#ab63fa",
           "#FFA15A",
           "#19d3f3",
           "#FF6692",
           "#B6E880",
           "#FF97FF",
           "#FECB52"
          ],
          "font": {
           "color": "#2a3f5f"
          },
          "geo": {
           "bgcolor": "white",
           "lakecolor": "white",
           "landcolor": "#E5ECF6",
           "showlakes": true,
           "showland": true,
           "subunitcolor": "white"
          },
          "hoverlabel": {
           "align": "left"
          },
          "hovermode": "closest",
          "mapbox": {
           "style": "light"
          },
          "paper_bgcolor": "white",
          "plot_bgcolor": "#E5ECF6",
          "polar": {
           "angularaxis": {
            "gridcolor": "white",
            "linecolor": "white",
            "ticks": ""
           },
           "bgcolor": "#E5ECF6",
           "radialaxis": {
            "gridcolor": "white",
            "linecolor": "white",
            "ticks": ""
           }
          },
          "scene": {
           "xaxis": {
            "backgroundcolor": "#E5ECF6",
            "gridcolor": "white",
            "gridwidth": 2,
            "linecolor": "white",
            "showbackground": true,
            "ticks": "",
            "zerolinecolor": "white"
           },
           "yaxis": {
            "backgroundcolor": "#E5ECF6",
            "gridcolor": "white",
            "gridwidth": 2,
            "linecolor": "white",
            "showbackground": true,
            "ticks": "",
            "zerolinecolor": "white"
           },
           "zaxis": {
            "backgroundcolor": "#E5ECF6",
            "gridcolor": "white",
            "gridwidth": 2,
            "linecolor": "white",
            "showbackground": true,
            "ticks": "",
            "zerolinecolor": "white"
           }
          },
          "shapedefaults": {
           "line": {
            "color": "#2a3f5f"
           }
          },
          "ternary": {
           "aaxis": {
            "gridcolor": "white",
            "linecolor": "white",
            "ticks": ""
           },
           "baxis": {
            "gridcolor": "white",
            "linecolor": "white",
            "ticks": ""
           },
           "bgcolor": "#E5ECF6",
           "caxis": {
            "gridcolor": "white",
            "linecolor": "white",
            "ticks": ""
           }
          },
          "title": {
           "x": 0.05
          },
          "xaxis": {
           "automargin": true,
           "gridcolor": "white",
           "linecolor": "white",
           "ticks": "",
           "title": {
            "standoff": 15
           },
           "zerolinecolor": "white",
           "zerolinewidth": 2
          },
          "yaxis": {
           "automargin": true,
           "gridcolor": "white",
           "linecolor": "white",
           "ticks": "",
           "title": {
            "standoff": 15
           },
           "zerolinecolor": "white",
           "zerolinewidth": 2
          }
         }
        },
        "title": {
         "text": "Parallel Coordinate Plot"
        }
       }
      }
     },
     "metadata": {},
     "output_type": "display_data"
    }
   ],
   "source": [
    "# visualize hyperparameter importance\n",
    "\n",
    "import optuna.visualization as vis\n",
    "\n",
    "def opt_visualize(study):\n",
    "    vis.plot_param_importances(study).show()\n",
    "    vis.plot_parallel_coordinate(study).show()\n",
    "\n",
    "opt_visualize(study)"
   ]
  },
  {
   "cell_type": "markdown",
   "metadata": {},
   "source": [
    "#### Retune using best checkpoint"
   ]
  },
  {
   "cell_type": "code",
   "execution_count": 27,
   "metadata": {},
   "outputs": [
    {
     "name": "stdout",
     "output_type": "stream",
     "text": [
      "Available Checkpoints: ['checkpoint-313', 'checkpoint-626', 'checkpoint-837', 'checkpoint-939', 'checkpoint-1252', 'checkpoint-1255', 'checkpoint-1565', 'checkpoint-1674', 'checkpoint-2510', 'checkpoint-2511', 'checkpoint-3344', 'checkpoint-3765', 'checkpoint-5020', 'checkpoint-6270']\n"
     ]
    }
   ],
   "source": [
    "import os\n",
    "\n",
    "checkpoint_dir = \"./distilbert_optuna_result/\"\n",
    "\n",
    "# List all checkpoint folders\n",
    "checkpoints = [ckpt for ckpt in os.listdir(checkpoint_dir) if ckpt.startswith(\"checkpoint-\")]\n",
    "checkpoints.sort(key=lambda x: int(x.split(\"-\")[-1]))  # Sort by step number\n",
    "\n",
    "print(\"Available Checkpoints:\", checkpoints)"
   ]
  },
  {
   "cell_type": "code",
   "execution_count": 34,
   "metadata": {},
   "outputs": [
    {
     "name": "stderr",
     "output_type": "stream",
     "text": [
      "c:\\Users\\Darren\\anaconda3\\envs\\pytorch_nvidia\\lib\\site-packages\\transformers\\training_args.py:1575: FutureWarning:\n",
      "\n",
      "`evaluation_strategy` is deprecated and will be removed in version 4.46 of 🤗 Transformers. Use `eval_strategy` instead\n",
      "\n",
      "C:\\Users\\Darren\\AppData\\Local\\Temp\\ipykernel_20792\\2609764448.py:42: FutureWarning:\n",
      "\n",
      "`tokenizer` is deprecated and will be removed in version 5.0.0 for `Trainer.__init__`. Use `processing_class` instead.\n",
      "\n"
     ]
    },
    {
     "data": {
      "application/vnd.jupyter.widget-view+json": {
       "model_id": "c54c5d8f444f4b4489ec5b9b2ad60dec",
       "version_major": 2,
       "version_minor": 0
      },
      "text/plain": [
       "  0%|          | 0/6270 [00:00<?, ?it/s]"
      ]
     },
     "metadata": {},
     "output_type": "display_data"
    },
    {
     "name": "stdout",
     "output_type": "stream",
     "text": [
      "{'loss': 0.194, 'grad_norm': 0.008460951037704945, 'learning_rate': 2.303107755365881e-05, 'epoch': 0.4}\n",
      "{'loss': 0.1797, 'grad_norm': 0.035186801105737686, 'learning_rate': 2.1035316933757702e-05, 'epoch': 0.8}\n"
     ]
    },
    {
     "data": {
      "application/vnd.jupyter.widget-view+json": {
       "model_id": "ca1511583ffd46ea93404663d68abbff",
       "version_major": 2,
       "version_minor": 0
      },
      "text/plain": [
       "  0%|          | 0/157 [00:00<?, ?it/s]"
      ]
     },
     "metadata": {},
     "output_type": "display_data"
    },
    {
     "name": "stdout",
     "output_type": "stream",
     "text": [
      "{'eval_loss': 0.6892140507698059, 'eval_accuracy': 0.8859649122807017, 'eval_runtime': 11.5954, 'eval_samples_per_second': 108.146, 'eval_steps_per_second': 13.54, 'epoch': 1.0}\n",
      "{'loss': 0.178, 'grad_norm': 0.018358007073402405, 'learning_rate': 1.9039556313856593e-05, 'epoch': 1.2}\n",
      "{'loss': 0.1131, 'grad_norm': 0.14439590275287628, 'learning_rate': 1.7043795693955483e-05, 'epoch': 1.59}\n",
      "{'loss': 0.1243, 'grad_norm': 36.065162658691406, 'learning_rate': 1.5048035074054372e-05, 'epoch': 1.99}\n"
     ]
    },
    {
     "data": {
      "application/vnd.jupyter.widget-view+json": {
       "model_id": "691c5287ee1e4fc79d41a2d283190915",
       "version_major": 2,
       "version_minor": 0
      },
      "text/plain": [
       "  0%|          | 0/157 [00:00<?, ?it/s]"
      ]
     },
     "metadata": {},
     "output_type": "display_data"
    },
    {
     "name": "stdout",
     "output_type": "stream",
     "text": [
      "{'eval_loss': 0.5822359919548035, 'eval_accuracy': 0.9138755980861244, 'eval_runtime': 11.6089, 'eval_samples_per_second': 108.02, 'eval_steps_per_second': 13.524, 'epoch': 2.0}\n",
      "{'loss': 0.0858, 'grad_norm': 97.57933807373047, 'learning_rate': 1.305227445415326e-05, 'epoch': 2.39}\n",
      "{'loss': 0.0895, 'grad_norm': 0.009438781999051571, 'learning_rate': 1.1056513834252152e-05, 'epoch': 2.79}\n"
     ]
    },
    {
     "data": {
      "application/vnd.jupyter.widget-view+json": {
       "model_id": "cc4fd97e807e4b1b861b1b6928136fc2",
       "version_major": 2,
       "version_minor": 0
      },
      "text/plain": [
       "  0%|          | 0/157 [00:00<?, ?it/s]"
      ]
     },
     "metadata": {},
     "output_type": "display_data"
    },
    {
     "name": "stdout",
     "output_type": "stream",
     "text": [
      "{'eval_loss': 0.6251575946807861, 'eval_accuracy': 0.9258373205741627, 'eval_runtime': 11.6436, 'eval_samples_per_second': 107.699, 'eval_steps_per_second': 13.484, 'epoch': 3.0}\n",
      "{'loss': 0.0566, 'grad_norm': 0.0021731038577854633, 'learning_rate': 9.060753214351041e-06, 'epoch': 3.19}\n",
      "{'loss': 0.0312, 'grad_norm': 0.0019471176201477647, 'learning_rate': 7.06499259444993e-06, 'epoch': 3.59}\n",
      "{'loss': 0.0408, 'grad_norm': 0.8173472881317139, 'learning_rate': 5.0692319745488204e-06, 'epoch': 3.98}\n"
     ]
    },
    {
     "data": {
      "application/vnd.jupyter.widget-view+json": {
       "model_id": "81eda6cb355c45d1881b3a821f84851a",
       "version_major": 2,
       "version_minor": 0
      },
      "text/plain": [
       "  0%|          | 0/157 [00:00<?, ?it/s]"
      ]
     },
     "metadata": {},
     "output_type": "display_data"
    },
    {
     "name": "stdout",
     "output_type": "stream",
     "text": [
      "{'eval_loss': 0.6843757033348083, 'eval_accuracy': 0.919457735247209, 'eval_runtime': 11.7286, 'eval_samples_per_second': 106.918, 'eval_steps_per_second': 13.386, 'epoch': 4.0}\n",
      "{'loss': 0.0278, 'grad_norm': 0.0013716109097003937, 'learning_rate': 3.07347135464771e-06, 'epoch': 4.38}\n",
      "{'loss': 0.0308, 'grad_norm': 0.002027588663622737, 'learning_rate': 1.0777107347465997e-06, 'epoch': 4.78}\n"
     ]
    },
    {
     "data": {
      "application/vnd.jupyter.widget-view+json": {
       "model_id": "5ae42d1bfa894927a3ef12247a035df9",
       "version_major": 2,
       "version_minor": 0
      },
      "text/plain": [
       "  0%|          | 0/157 [00:00<?, ?it/s]"
      ]
     },
     "metadata": {},
     "output_type": "display_data"
    },
    {
     "name": "stdout",
     "output_type": "stream",
     "text": [
      "{'eval_loss': 0.6351852416992188, 'eval_accuracy': 0.9242424242424242, 'eval_runtime': 11.6148, 'eval_samples_per_second': 107.965, 'eval_steps_per_second': 13.517, 'epoch': 5.0}\n",
      "{'train_runtime': 2031.8397, 'train_samples_per_second': 24.692, 'train_steps_per_second': 3.086, 'train_loss': 0.09331738595186809, 'epoch': 5.0}\n"
     ]
    },
    {
     "data": {
      "application/vnd.jupyter.widget-view+json": {
       "model_id": "66c47e243a764ae59f9d64cf8c1c2b71",
       "version_major": 2,
       "version_minor": 0
      },
      "text/plain": [
       "  0%|          | 0/157 [00:00<?, ?it/s]"
      ]
     },
     "metadata": {},
     "output_type": "display_data"
    },
    {
     "name": "stdout",
     "output_type": "stream",
     "text": [
      "Evaluation of Best of Optuna Hyperparamater: {'eval_loss': 0.6251575946807861, 'eval_accuracy': 0.9258373205741627, 'eval_runtime': 11.6372, 'eval_samples_per_second': 107.758, 'eval_steps_per_second': 13.491, 'epoch': 4.996412913511359}\n"
     ]
    }
   ],
   "source": [
    "from transformers import AutoModelForSequenceClassification\n",
    "\n",
    "device = torch.device(\"cuda\" if torch.cuda.is_available() else \"cpu\")\n",
    "\n",
    " # Clear GPU memory before trial\n",
    "gc.collect()\n",
    "torch.cuda.empty_cache()\n",
    "\n",
    "# Get best hyperparameters from Optuna\n",
    "best_params = study.best_params\n",
    "\n",
    "# Reinitialize the model from checkpoint\n",
    "model = AutoModelForSequenceClassification.from_pretrained(\n",
    "    \"distilbert_optuna_result/checkpoint-6270\", num_labels=3).to(device)\n",
    "\n",
    "# enable gpu optimizations\n",
    "torch.backends.cudnn.benchmark = True\n",
    "model.gradient_checkpointing_enable()  # Reduces memory usage during training\n",
    "\n",
    "# Load tokenizer again\n",
    "tokenizer = AutoTokenizer.from_pretrained(\"distilbert_optuna_result/checkpoint-6270\")\n",
    "\n",
    "# Define final training arguments\n",
    "training_args = TrainingArguments(\n",
    "    output_dir=\"./final_distilbert_model\",\n",
    "    learning_rate=best_params[\"learning_rate\"],\n",
    "    num_train_epochs=best_params[\"num_train_epochs\"],\n",
    "    per_device_train_batch_size=best_params[\"batch_size\"],\n",
    "    weight_decay=best_params[\"weight_decay\"],\n",
    "    gradient_accumulation_steps=best_params[\"gradient_accumulation_steps\"],\n",
    "    max_grad_norm=best_params[\"max_grad_norm\"],\n",
    "    evaluation_strategy=\"epoch\",\n",
    "    save_strategy=\"epoch\",\n",
    "    logging_dir=\"./logs\",\n",
    "    logging_steps=500,\n",
    "    load_best_model_at_end=True,\n",
    "    metric_for_best_model=\"accuracy\",\n",
    "    report_to=\"none\",\n",
    ")\n",
    "\n",
    "# Define trainer\n",
    "trainer = Trainer(\n",
    "    model=model,\n",
    "    args=training_args,\n",
    "    train_dataset=train_dataset,\n",
    "    eval_dataset=validation_dataset,\n",
    "    tokenizer=tokenizer, # pass tokenizer\n",
    "    compute_metrics=compute_metrics,\n",
    ")\n",
    "\n",
    "# Train the model from scratch with the best hyperparameters\n",
    "trainer.train()\n",
    "\n",
    "# Evaluate best checkpoint\n",
    "eval_results = trainer.evaluate()\n",
    "print(\"Evaluation of Best of Optuna Hyperparamater:\", eval_results)"
   ]
  },
  {
   "cell_type": "markdown",
   "metadata": {},
   "source": [
    "#### Evaluate Retuned with Optuna"
   ]
  },
  {
   "cell_type": "code",
   "execution_count": 24,
   "metadata": {},
   "outputs": [],
   "source": [
    "from sklearn.metrics import classification_report, confusion_matrix\n",
    "\n",
    "import numpy as np\n",
    "import seaborn as sns\n",
    "import matplotlib.pyplot as plt"
   ]
  },
  {
   "cell_type": "code",
   "execution_count": 35,
   "metadata": {},
   "outputs": [
    {
     "data": {
      "application/vnd.jupyter.widget-view+json": {
       "model_id": "7cef2a6b971747e0988e7183282fb541",
       "version_major": 2,
       "version_minor": 0
      },
      "text/plain": [
       "  0%|          | 0/157 [00:00<?, ?it/s]"
      ]
     },
     "metadata": {},
     "output_type": "display_data"
    },
    {
     "name": "stdout",
     "output_type": "stream",
     "text": [
      "DistilBERT with Optuna Retune classification Report\n",
      "Test Accuracy: 92.11%\n",
      "\n",
      "              precision    recall  f1-score   support\n",
      "\n",
      "    Negative       0.91      0.86      0.88       418\n",
      "     Neutral       0.96      1.00      0.98       418\n",
      "    Positive       0.89      0.91      0.90       419\n",
      "\n",
      "    accuracy                           0.92      1255\n",
      "   macro avg       0.92      0.92      0.92      1255\n",
      "weighted avg       0.92      0.92      0.92      1255\n",
      "\n"
     ]
    }
   ],
   "source": [
    "from sklearn.metrics import accuracy_score\n",
    "\n",
    "predictions = trainer.predict(test_dataset)\n",
    "preds = np.argmax(predictions.predictions, axis=1)\n",
    "\n",
    "accuracy = accuracy_score(y_test, preds) *100\n",
    "\n",
    "#print classification report\n",
    "print(\"DistilBERT with Optuna Retune classification Report\")\n",
    "print(f\"Test Accuracy: {accuracy:.2f}%\\n\")\n",
    "print(classification_report(y_test, preds, target_names=list(label_map.values())))"
   ]
  },
  {
   "cell_type": "code",
   "execution_count": 42,
   "metadata": {},
   "outputs": [
    {
     "data": {
      "image/png": "[encoded data removed]",
      "text/plain": [
       "<Figure size 640x480 with 2 Axes>"
      ]
     },
     "metadata": {},
     "output_type": "display_data"
    }
   ],
   "source": [
    "# confusion matrix\n",
    "\n",
    "cm = confusion_matrix(y_test, preds)\n",
    "sns.heatmap(cm, annot=True, fmt='d', cmap=\"Blues\", xticklabels=list(label_map.values()), yticklabels=list(label_map.values()))\n",
    "plt.xlabel(\"Predicted\")\n",
    "plt.ylabel(\"Actual\")\n",
    "plt.title(\"DistilBert Optuna Best HyperParameter Confusion Matrix\")\n",
    "plt.show()"
   ]
  },
  {
   "cell_type": "code",
   "execution_count": 108,
   "metadata": {},
   "outputs": [
    {
     "data": {
      "image/png": "[encoded data removed]",
      "text/plain": [
       "<Figure size 800x500 with 1 Axes>"
      ]
     },
     "metadata": {},
     "output_type": "display_data"
    }
   ],
   "source": [
    "# train_loss = [log[\"loss\"] for log in trainer.state.log_history if \"loss\" in log]\n",
    "# eval_loss = [log[\"eval_loss\"] for log in trainer.state.log_history if \"eval_loss\" in log]\n",
    "\n",
    "# Generate epochs in range\n",
    "train_steps = list(range(1, len(train_loss) + 1))\n",
    "eval_epochs = list(range(1, len(eval_loss) * (len(train_loss) // len(eval_loss)) + 1, len(train_loss) // len(eval_loss)))\n",
    "\n",
    "# Plot training and validation loss\n",
    "plt.figure(figsize=(8, 5))\n",
    "plt.plot(train_steps, train_loss, label=\"Train loss\", marker=\"o\", linestyle=\"dashed\")\n",
    "plt.plot(eval_epochs, eval_loss, label=\"Validation Loss\", marker=\"s\")\n",
    "\n",
    "plt.xlabel(\"Epoch\")\n",
    "plt.ylabel(\"Loss\")\n",
    "plt.title(\"Train vs loss of with DistilBert Optuna best Hyperparameters\")\n",
    "plt.legend()\n",
    "plt.grid()\n",
    "plt.show()"
   ]
  },
  {
   "cell_type": "code",
   "execution_count": 101,
   "metadata": {},
   "outputs": [
    {
     "name": "stdout",
     "output_type": "stream",
     "text": [
      "Checkpoint-3765: Last Eval Loss = 0.6251575946807861\n",
      "Checkpoint-5020: Last Eval Loss = 0.6843757033348083\n",
      "Checkpoint-6270: Last Eval Loss = 0.6351852416992188\n"
     ]
    }
   ],
   "source": [
    "import json\n",
    "\n",
    "for checkpoint in [\"3765\", \"5020\", \"6270\"]:\n",
    "    log_file = f\"final_distilbert_model/checkpoint-{checkpoint}/trainer_state.json\"\n",
    "    with open(log_file) as f:\n",
    "        logs = json.load(f)\n",
    "    eval_losses = [log[\"eval_loss\"] for log in logs[\"log_history\"] if \"eval_loss\" in log]\n",
    "    print(f\"Checkpoint-{checkpoint}: Last Eval Loss = {eval_losses[-1]}\")"
   ]
  },
  {
   "cell_type": "markdown",
   "metadata": {},
   "source": [
    "###### Saving model"
   ]
  },
  {
   "cell_type": "code",
   "execution_count": 80,
   "metadata": {},
   "outputs": [
    {
     "data": {
      "text/plain": [
       "('distilbert_optuna_final_best_model\\\\tokenizer_config.json',\n",
       " 'distilbert_optuna_final_best_model\\\\special_tokens_map.json',\n",
       " 'distilbert_optuna_final_best_model\\\\vocab.txt',\n",
       " 'distilbert_optuna_final_best_model\\\\added_tokens.json',\n",
       " 'distilbert_optuna_final_best_model\\\\tokenizer.json')"
      ]
     },
     "execution_count": 80,
     "metadata": {},
     "output_type": "execute_result"
    }
   ],
   "source": [
    "best_checkpoint_path = \"./final_distilbert_model/checkpoint-3765\"\n",
    "\n",
    "model = AutoModelForSequenceClassification.from_pretrained(best_checkpoint_path)\n",
    "trainer.save_pretrained(\"distilbert_optuna_final_best_model\")\n",
    "tokenizer.save_pretrained(\"distilbert_optuna_final_best_model\")"
   ]
  },
  {
   "cell_type": "markdown",
   "metadata": {},
   "source": [
    "#### Inference Test and using dataset"
   ]
  },
  {
   "cell_type": "code",
   "execution_count": 102,
   "metadata": {},
   "outputs": [
    {
     "name": "stdout",
     "output_type": "stream",
     "text": [
      "Device set to use cuda\n"
     ]
    },
    {
     "name": "stderr",
     "output_type": "stream",
     "text": [
      "Device set to use cuda:0\n"
     ]
    },
    {
     "name": "stdout",
     "output_type": "stream",
     "text": [
      "Loaded Neutral Threshold: low=0.3000, high=0.6761\n",
      "\n",
      "Text: Transaksinya dipersulit gimana sih BCA\n",
      "Sentiment: NEGATIVE ('Confidence Score': 0.999960')\n",
      "\n",
      "Text: Amazing app thank you BCA\n",
      "Sentiment: POSITIVE ('Confidence Score': 0.999978')\n"
     ]
    }
   ],
   "source": [
    "from transformers import AutoModelForSequenceClassification, AutoTokenizer, pipeline\n",
    "import torch\n",
    "import numpy as np\n",
    "\n",
    "# Set device\n",
    "device = torch.device(\"cuda\" if torch.cuda.is_available() else \"cpu\")\n",
    "print(f\"Device set to use {device}\")\n",
    "\n",
    "# Load model & tokenizer\n",
    "model_name = \"distilbert_optuna_final_best_model\"\n",
    "model = AutoModelForSequenceClassification.from_pretrained(model_name).to(device)\n",
    "tokenizer = AutoTokenizer.from_pretrained(model_name)\n",
    "\n",
    "# Load dynamic neutral threshold\n",
    "neutral_low, neutral_high = np.load(\"neutral_threshold.npy\")\n",
    "print(f\"Loaded Neutral Threshold: low={neutral_low:.4f}, high={neutral_high:.4f}\")\n",
    "\n",
    "# Define classifier pipeline\n",
    "classifier = pipeline(\"sentiment-analysis\", model=model, tokenizer=tokenizer, top_k=None, return_all_scores=True, device=0 if torch.cuda.is_available() else -1)\n",
    "\n",
    "# Label mapping\n",
    "label_map = {\"LABEL_0\": \"NEGATIVE\", \"LABEL_1\": \"NEUTRAL\", \"LABEL_2\": \"POSITIVE\"}\n",
    "\n",
    "# Inference function\n",
    "def predict_with_dynamic_threshold(texts):\n",
    "    predictions = classifier(texts)\n",
    "\n",
    "    for text, scores in zip(texts, predictions):\n",
    "        # Extract confidence scores\n",
    "        negative_score = scores[0]['score']\n",
    "        neutral_score = scores[1]['score']\n",
    "        positive_score = scores[2]['score']\n",
    "\n",
    "        # Apply neutral threshold logic\n",
    "        if neutral_low < neutral_score < neutral_high:\n",
    "            best_label = \"NEUTRAL\"\n",
    "            confidence = neutral_score\n",
    "        else:\n",
    "            best_pred = max(scores, key=lambda x: x['score'])  # Find highest confidence\n",
    "            best_label = label_map[best_pred['label']]\n",
    "            confidence = best_pred['score']\n",
    "\n",
    "        # Print result in the required format\n",
    "        print(f\"\\nText: {text}\")\n",
    "        print(f\"Sentiment: {best_label} ('Confidence Score': {confidence:.6f}')\")\n",
    "\n",
    "# Example inference\n",
    "texts = [\"Transaksinya dipersulit gimana sih BCA\", \"Amazing app thank you BCA\"]\n",
    "predict_with_dynamic_threshold(texts)\n"
   ]
  },
  {
   "cell_type": "code",
   "execution_count": 105,
   "metadata": {},
   "outputs": [
    {
     "name": "stderr",
     "output_type": "stream",
     "text": [
      "Device set to use cuda:0\n"
     ]
    },
    {
     "data": {
      "text/html": [
       "<div>\n",
       "<style scoped>\n",
       "    .dataframe tbody tr th:only-of-type {\n",
       "        vertical-align: middle;\n",
       "    }\n",
       "\n",
       "    .dataframe tbody tr th {\n",
       "        vertical-align: top;\n",
       "    }\n",
       "\n",
       "    .dataframe thead th {\n",
       "        text-align: right;\n",
       "    }\n",
       "</style>\n",
       "<table border=\"1\" class=\"dataframe\">\n",
       "  <thead>\n",
       "    <tr style=\"text-align: right;\">\n",
       "      <th></th>\n",
       "      <th>content</th>\n",
       "      <th>confidence_score</th>\n",
       "      <th>predictions</th>\n",
       "    </tr>\n",
       "  </thead>\n",
       "  <tbody>\n",
       "    <tr>\n",
       "      <th>8398</th>\n",
       "      <td>eror mulu gmn pakenya</td>\n",
       "      <td>1.0000</td>\n",
       "      <td>NEGATIVE</td>\n",
       "    </tr>\n",
       "    <tr>\n",
       "      <th>12483</th>\n",
       "      <td>the ui looks like something from the earliest ...</td>\n",
       "      <td>1.0000</td>\n",
       "      <td>NEGATIVE</td>\n",
       "    </tr>\n",
       "    <tr>\n",
       "      <th>6909</th>\n",
       "      <td>nutup sendiri pake cara yg di info di review j...</td>\n",
       "      <td>1.0000</td>\n",
       "      <td>POSITIVE</td>\n",
       "    </tr>\n",
       "    <tr>\n",
       "      <th>2680</th>\n",
       "      <td>ini gimna udh ke sekian kalinya verifikasi ula...</td>\n",
       "      <td>0.9999</td>\n",
       "      <td>NEGATIVE</td>\n",
       "    </tr>\n",
       "    <tr>\n",
       "      <th>12784</th>\n",
       "      <td>simple fitur lengkap ui minimalis jarang error...</td>\n",
       "      <td>1.0000</td>\n",
       "      <td>POSITIVE</td>\n",
       "    </tr>\n",
       "    <tr>\n",
       "      <th>4207</th>\n",
       "      <td>ribet</td>\n",
       "      <td>0.9999</td>\n",
       "      <td>NEGATIVE</td>\n",
       "    </tr>\n",
       "    <tr>\n",
       "      <th>2002</th>\n",
       "      <td>woy bca ini apk masih busuk aje timbang vermuk...</td>\n",
       "      <td>1.0000</td>\n",
       "      <td>NEGATIVE</td>\n",
       "    </tr>\n",
       "    <tr>\n",
       "      <th>3168</th>\n",
       "      <td>kenapa di flazz sekarang nggak ada menu top up...</td>\n",
       "      <td>1.0000</td>\n",
       "      <td>POSITIVE</td>\n",
       "    </tr>\n",
       "    <tr>\n",
       "      <th>535</th>\n",
       "      <td>saya disuruh merveritifikasi ulang lalu saya l...</td>\n",
       "      <td>1.0000</td>\n",
       "      <td>NEGATIVE</td>\n",
       "    </tr>\n",
       "    <tr>\n",
       "      <th>9820</th>\n",
       "      <td>hey im sorry i cant open the application and a...</td>\n",
       "      <td>1.0000</td>\n",
       "      <td>NEUTRAL</td>\n",
       "    </tr>\n",
       "    <tr>\n",
       "      <th>5967</th>\n",
       "      <td>force close setelah update v</td>\n",
       "      <td>0.9998</td>\n",
       "      <td>NEGATIVE</td>\n",
       "    </tr>\n",
       "    <tr>\n",
       "      <th>9975</th>\n",
       "      <td>jelek tidak bisa verifikasi</td>\n",
       "      <td>1.0000</td>\n",
       "      <td>NEGATIVE</td>\n",
       "    </tr>\n",
       "    <tr>\n",
       "      <th>2638</th>\n",
       "      <td>terimakasih bca mobile banking</td>\n",
       "      <td>1.0000</td>\n",
       "      <td>POSITIVE</td>\n",
       "    </tr>\n",
       "    <tr>\n",
       "      <th>391</th>\n",
       "      <td>mantap mendukung</td>\n",
       "      <td>1.0000</td>\n",
       "      <td>POSITIVE</td>\n",
       "    </tr>\n",
       "    <tr>\n",
       "      <th>12332</th>\n",
       "      <td>pembacaan nfc flash selalu gagal  membuat pros...</td>\n",
       "      <td>1.0000</td>\n",
       "      <td>NEGATIVE</td>\n",
       "    </tr>\n",
       "    <tr>\n",
       "      <th>12162</th>\n",
       "      <td>new update nyusahin hidup orang suruh verifika...</td>\n",
       "      <td>1.0000</td>\n",
       "      <td>NEGATIVE</td>\n",
       "    </tr>\n",
       "    <tr>\n",
       "      <th>6001</th>\n",
       "      <td>bca lagi kenapa ya ko mau masuk mental lagi</td>\n",
       "      <td>1.0000</td>\n",
       "      <td>POSITIVE</td>\n",
       "    </tr>\n",
       "    <tr>\n",
       "      <th>3722</th>\n",
       "      <td>wr</td>\n",
       "      <td>0.8469</td>\n",
       "      <td>NEUTRAL</td>\n",
       "    </tr>\n",
       "    <tr>\n",
       "      <th>6330</th>\n",
       "      <td>selama ini tidak ada kendala tapi sudah bebera...</td>\n",
       "      <td>0.8334</td>\n",
       "      <td>NEGATIVE</td>\n",
       "    </tr>\n",
       "    <tr>\n",
       "      <th>6174</th>\n",
       "      <td>nggak bisa jalan crash melulu update terima ka...</td>\n",
       "      <td>1.0000</td>\n",
       "      <td>NEGATIVE</td>\n",
       "    </tr>\n",
       "  </tbody>\n",
       "</table>\n",
       "</div>"
      ],
      "text/plain": [
       "                                                 content  confidence_score  \\\n",
       "8398                               eror mulu gmn pakenya            1.0000   \n",
       "12483  the ui looks like something from the earliest ...            1.0000   \n",
       "6909   nutup sendiri pake cara yg di info di review j...            1.0000   \n",
       "2680   ini gimna udh ke sekian kalinya verifikasi ula...            0.9999   \n",
       "12784  simple fitur lengkap ui minimalis jarang error...            1.0000   \n",
       "4207                                               ribet            0.9999   \n",
       "2002   woy bca ini apk masih busuk aje timbang vermuk...            1.0000   \n",
       "3168   kenapa di flazz sekarang nggak ada menu top up...            1.0000   \n",
       "535    saya disuruh merveritifikasi ulang lalu saya l...            1.0000   \n",
       "9820   hey im sorry i cant open the application and a...            1.0000   \n",
       "5967                        force close setelah update v            0.9998   \n",
       "9975                         jelek tidak bisa verifikasi            1.0000   \n",
       "2638                      terimakasih bca mobile banking            1.0000   \n",
       "391                                     mantap mendukung            1.0000   \n",
       "12332  pembacaan nfc flash selalu gagal  membuat pros...            1.0000   \n",
       "12162  new update nyusahin hidup orang suruh verifika...            1.0000   \n",
       "6001         bca lagi kenapa ya ko mau masuk mental lagi            1.0000   \n",
       "3722                                                  wr            0.8469   \n",
       "6330   selama ini tidak ada kendala tapi sudah bebera...            0.8334   \n",
       "6174   nggak bisa jalan crash melulu update terima ka...            1.0000   \n",
       "\n",
       "      predictions  \n",
       "8398     NEGATIVE  \n",
       "12483    NEGATIVE  \n",
       "6909     POSITIVE  \n",
       "2680     NEGATIVE  \n",
       "12784    POSITIVE  \n",
       "4207     NEGATIVE  \n",
       "2002     NEGATIVE  \n",
       "3168     POSITIVE  \n",
       "535      NEGATIVE  \n",
       "9820      NEUTRAL  \n",
       "5967     NEGATIVE  \n",
       "9975     NEGATIVE  \n",
       "2638     POSITIVE  \n",
       "391      POSITIVE  \n",
       "12332    NEGATIVE  \n",
       "12162    NEGATIVE  \n",
       "6001     POSITIVE  \n",
       "3722      NEUTRAL  \n",
       "6330     NEGATIVE  \n",
       "6174     NEGATIVE  "
      ]
     },
     "execution_count": 105,
     "metadata": {},
     "output_type": "execute_result"
    }
   ],
   "source": [
    "from transformers import AutoModelForSequenceClassification, AutoTokenizer, pipeline\n",
    "import pandas as pd\n",
    "\n",
    "# Load best checkpoint model & tokenizer\n",
    "model_name = \"distilbert_optuna_final_best_model\"  # Update with your best checkpoint\n",
    "model = AutoModelForSequenceClassification.from_pretrained(model_name)\n",
    "tokenizer = AutoTokenizer.from_pretrained(model_name)\n",
    "\n",
    "# Define classifier\n",
    "classifier = pipeline(\"sentiment-analysis\", model=model, tokenizer=tokenizer, top_k=None)\n",
    "\n",
    "# Label mapping\n",
    "label_map = {\"LABEL_0\": \"NEGATIVE\", \"LABEL_1\": \"NEUTRAL\", \"LABEL_2\": \"POSITIVE\"}\n",
    "\n",
    "# Load dataset\n",
    "df = pd.read_csv(\"bca_preprocessed_data.csv\")\n",
    "\n",
    "# Sample 30 test examples\n",
    "df_sample = df.sample(n=20, random_state=20)  # Ensure no SettingWithCopyWarning\n",
    "\n",
    "# Get predictions\n",
    "texts = df_sample[\"content\"].tolist()\n",
    "predictions = classifier(texts)\n",
    "\n",
    "# Extract best sentiment & confidence scores\n",
    "df_sample[\"predictions\"] = [label_map[max(scores, key=lambda x: x['score'])['label']] for scores in predictions]\n",
    "df_sample[\"confidence_score\"] = [round(max(scores, key=lambda x: x['score'])['score'], 4) for scores in predictions]\n",
    "\n",
    "# Select final columns to display\n",
    "df_sample = df_sample[[\"content\", \"confidence_score\", \"predictions\"]]\n",
    "\n",
    "# Show results\n",
    "df_sample.head(20)\n"
   ]
  },
  {
   "cell_type": "code",
   "execution_count": 106,
   "metadata": {},
   "outputs": [
    {
     "name": "stdout",
     "output_type": "stream",
     "text": [
      "saved successfully✅ and ready to deploy\n"
     ]
    }
   ],
   "source": [
    "import pickle\n",
    "import torch\n",
    "\n",
    "from transformers import AutoModelForSequenceClassification, AutoTokenizer\n",
    "\n",
    "#load trained model\n",
    "model_name = \"./distilbert_optuna_final_best_model\"\n",
    "model = AutoModelForSequenceClassification.from_pretrained(model_name)\n",
    "tokenizer = AutoTokenizer.from_pretrained(model_name)\n",
    "\n",
    "#save model\n",
    "model_save_path = \"model/distilbert_bestoptuna.pkl\"\n",
    "tokenizer_save_path = \"model/tokenizer_distilbert_bestoptuna.pkl\"\n",
    "\n",
    "with open(model_save_path, \"wb\")as f:\n",
    "    pickle.dump(model, f)\n",
    "\n",
    "with open(tokenizer_save_path, \"wb\") as f:\n",
    "    pickle.dump(tokenizer, f)\n",
    "\n",
    "print(\"saved successfully✅ and ready to deploy\")"
   ]
  }
 ],
 "metadata": {
  "kernelspec": {
   "display_name": "pytorch_nvidia",
   "language": "python",
   "name": "python3"
  },
  "language_info": {
   "codemirror_mode": {
    "name": "ipython",
    "version": 3
   },
   "file_extension": ".py",
   "mimetype": "text/x-python",
   "name": "python",
   "nbconvert_exporter": "python",
   "pygments_lexer": "ipython3",
   "version": "3.10.0"
  }
 },
 "nbformat": 4,
 "nbformat_minor": 2
}
