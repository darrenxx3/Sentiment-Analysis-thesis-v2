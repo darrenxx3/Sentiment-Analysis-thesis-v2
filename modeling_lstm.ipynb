{
 "cells": [
  {
   "cell_type": "markdown",
   "metadata": {},
   "source": [
    "# LSTM"
   ]
  },
  {
   "cell_type": "code",
   "execution_count": 1,
   "metadata": {},
   "outputs": [],
   "source": [
    "import pandas as pd\n",
    "import numpy as np"
   ]
  },
  {
   "cell_type": "code",
   "execution_count": 2,
   "metadata": {},
   "outputs": [
    {
     "name": "stdout",
     "output_type": "stream",
     "text": [
      "Number of GPU:  1\n",
      "GPU Name:  NVIDIA GeForce GTX 1650\n",
      "GPU: NVIDIA GeForce GTX 1650 is available.\n"
     ]
    }
   ],
   "source": [
    "import torch\n",
    "\n",
    "print(\"Number of GPU: \", torch.cuda.device_count())\n",
    "print(\"GPU Name: \", torch.cuda.get_device_name())\n",
    "\n",
    "if torch.cuda.is_available():\n",
    "    print(f\"GPU: {torch.cuda.get_device_name(0)} is available.\")\n",
    "else:\n",
    "    print(\"No GPU available. Training will run on CPU.\")"
   ]
  },
  {
   "cell_type": "code",
   "execution_count": 3,
   "metadata": {},
   "outputs": [
    {
     "name": "stdout",
     "output_type": "stream",
     "text": [
      "Selected Device: cuda\n"
     ]
    }
   ],
   "source": [
    "#Configure device: Set the device configuration to GPU using the torch.device class in PyTorch:\n",
    "\n",
    "device = torch.device(\"cuda\" if torch.cuda.is_available() else \"cpu\")\n",
    "print(\"Selected Device:\", device)"
   ]
  },
  {
   "cell_type": "code",
   "execution_count": 4,
   "metadata": {},
   "outputs": [
    {
     "data": {
      "text/html": [
       "<div>\n",
       "<style scoped>\n",
       "    .dataframe tbody tr th:only-of-type {\n",
       "        vertical-align: middle;\n",
       "    }\n",
       "\n",
       "    .dataframe tbody tr th {\n",
       "        vertical-align: top;\n",
       "    }\n",
       "\n",
       "    .dataframe thead th {\n",
       "        text-align: right;\n",
       "    }\n",
       "</style>\n",
       "<table border=\"1\" class=\"dataframe\">\n",
       "  <thead>\n",
       "    <tr style=\"text-align: right;\">\n",
       "      <th></th>\n",
       "      <th>content</th>\n",
       "      <th>score</th>\n",
       "      <th>sentiment</th>\n",
       "    </tr>\n",
       "  </thead>\n",
       "  <tbody>\n",
       "    <tr>\n",
       "      <th>0</th>\n",
       "      <td>mohon donk kembalikan tanda biru hitam saat li...</td>\n",
       "      <td>1</td>\n",
       "      <td>0</td>\n",
       "    </tr>\n",
       "    <tr>\n",
       "      <th>1</th>\n",
       "      <td>kenapa sekarang untuk transfer ke blu bca ada ...</td>\n",
       "      <td>2</td>\n",
       "      <td>0</td>\n",
       "    </tr>\n",
       "    <tr>\n",
       "      <th>2</th>\n",
       "      <td>oke terimakasih</td>\n",
       "      <td>5</td>\n",
       "      <td>2</td>\n",
       "    </tr>\n",
       "    <tr>\n",
       "      <th>3</th>\n",
       "      <td>tolong pihak developer untuk update hp saya ga...</td>\n",
       "      <td>5</td>\n",
       "      <td>2</td>\n",
       "    </tr>\n",
       "    <tr>\n",
       "      <th>4</th>\n",
       "      <td>ok</td>\n",
       "      <td>5</td>\n",
       "      <td>2</td>\n",
       "    </tr>\n",
       "  </tbody>\n",
       "</table>\n",
       "</div>"
      ],
      "text/plain": [
       "                                             content  score  sentiment\n",
       "0  mohon donk kembalikan tanda biru hitam saat li...      1          0\n",
       "1  kenapa sekarang untuk transfer ke blu bca ada ...      2          0\n",
       "2                                    oke terimakasih      5          2\n",
       "3  tolong pihak developer untuk update hp saya ga...      5          2\n",
       "4                                                 ok      5          2"
      ]
     },
     "execution_count": 4,
     "metadata": {},
     "output_type": "execute_result"
    }
   ],
   "source": [
    "bca = pd.read_csv(\"bca_preprocessed_data.csv\", delimiter=',')\n",
    "bca.head(5)"
   ]
  },
  {
   "cell_type": "code",
   "execution_count": 5,
   "metadata": {},
   "outputs": [
    {
     "data": {
      "text/plain": [
       "content      61\n",
       "score         0\n",
       "sentiment     0\n",
       "dtype: int64"
      ]
     },
     "execution_count": 5,
     "metadata": {},
     "output_type": "execute_result"
    }
   ],
   "source": [
    "bca.isnull().sum()"
   ]
  },
  {
   "cell_type": "code",
   "execution_count": 6,
   "metadata": {},
   "outputs": [],
   "source": [
    "bca = bca.dropna()"
   ]
  },
  {
   "cell_type": "code",
   "execution_count": 7,
   "metadata": {},
   "outputs": [
    {
     "data": {
      "text/plain": [
       "content      0\n",
       "score        0\n",
       "sentiment    0\n",
       "dtype: int64"
      ]
     },
     "execution_count": 7,
     "metadata": {},
     "output_type": "execute_result"
    }
   ],
   "source": [
    "bca.isnull().sum()"
   ]
  },
  {
   "cell_type": "code",
   "execution_count": 8,
   "metadata": {},
   "outputs": [],
   "source": [
    "#Split features (content) and labels (sentiment)\n",
    "\n",
    "X = bca['content']\n",
    "y = bca['sentiment']"
   ]
  },
  {
   "cell_type": "code",
   "execution_count": 9,
   "metadata": {},
   "outputs": [
    {
     "name": "stdout",
     "output_type": "stream",
     "text": [
      "Before balancing:\n",
      "sentiment\n",
      "0    7443\n",
      "2    5429\n",
      "1    1067\n",
      "Name: count, dtype: int64\n"
     ]
    }
   ],
   "source": [
    "# Check dataset balance and apply oversampling for \"Neutral\" class if needed\n",
    "print(\"Before balancing:\")\n",
    "print(y.value_counts())"
   ]
  },
  {
   "cell_type": "code",
   "execution_count": 10,
   "metadata": {},
   "outputs": [],
   "source": [
    "# Oversampling technique\n",
    "from sklearn.utils import resample\n",
    "\n",
    "bca_clean_again = pd.concat([X, y], axis=1)\n",
    "\n",
    "#separating each class\n",
    "\n",
    "class_0 = bca_clean_again[bca_clean_again['sentiment'] == 0]\n",
    "class_1 = bca_clean_again[bca_clean_again['sentiment'] == 1]\n",
    "class_2 = bca_clean_again[bca_clean_again['sentiment'] == 2]\n",
    "\n",
    "#oversampling neutral class 1 with majority class 2\n",
    "\n",
    "class_1_oversampled = resample(class_1, replace=True, n_samples=len(class_2), random_state=42)\n",
    "\n",
    "#combine all class\n",
    "bca_clean_again = pd.concat([class_0, class_1_oversampled, class_2])\n",
    "\n",
    "#shuffling the data\n",
    "bca_clean_again = bca_clean_again.sample(frac=1, random_state=42)\n",
    "\n",
    "X = bca_clean_again['content']\n",
    "y = bca_clean_again['sentiment']"
   ]
  },
  {
   "cell_type": "code",
   "execution_count": 11,
   "metadata": {},
   "outputs": [
    {
     "name": "stdout",
     "output_type": "stream",
     "text": [
      "After balancing:\n",
      "sentiment\n",
      "0    7443\n",
      "1    5429\n",
      "2    5429\n",
      "Name: count, dtype: int64\n"
     ]
    }
   ],
   "source": [
    "# Check dataset balance and apply oversampling for \"Neutral\" class if needed\n",
    "print(\"After balancing:\")\n",
    "print(y.value_counts())"
   ]
  },
  {
   "cell_type": "code",
   "execution_count": 12,
   "metadata": {},
   "outputs": [],
   "source": [
    "#Tokenization\n",
    "from nltk.tokenize import word_tokenize\n",
    "from collections import Counter\n",
    "\n",
    "X = [word_tokenize(text.lower()) for text in X]"
   ]
  },
  {
   "cell_type": "code",
   "execution_count": 13,
   "metadata": {},
   "outputs": [],
   "source": [
    "#build vocabulary\n",
    "\n",
    "word_counts = Counter(word for sentence in X for word in sentence)\n",
    "vocab = {word: i+1 for i, (word, _)in enumerate(word_counts.most_common())}\n",
    "vocab[\"PAD\"] = 0\n",
    "\n",
    "#Convert text to sequences\n",
    "X = [[vocab[word]for word in sentence]for sentence in X]\n",
    "\n",
    "# Padding\n",
    "def pad_sequence(sequences, maxlen):\n",
    "    return [seq[:maxlen] + [0] * (maxlen - len(seq)) if len(seq) < maxlen else seq[:maxlen] for seq in sequences]\n",
    "\n",
    "maxlen = 128\n",
    "X = pad_sequence(X, maxlen)"
   ]
  },
  {
   "cell_type": "code",
   "execution_count": 14,
   "metadata": {},
   "outputs": [],
   "source": [
    "#Split dataset\n",
    "from sklearn.model_selection import train_test_split\n",
    "\n",
    "X_train, X_temp, y_train, y_temp = train_test_split(X, y, test_size=0.2, random_state=42, stratify=y)\n",
    "\n",
    "X_val, X_test, y_val, y_test = train_test_split(X_temp, y_temp, test_size=0.5, random_state=42, stratify=y_temp)"
   ]
  },
  {
   "cell_type": "code",
   "execution_count": 15,
   "metadata": {},
   "outputs": [],
   "source": [
    "#convert to tensors\n",
    "\n",
    "X_train, y_train = torch.tensor(X_train, dtype=torch.long), torch.tensor(y_train.values, dtype=torch.long)\n",
    "X_val, y_val = torch.tensor(X_val, dtype=torch.long), torch.tensor(y_val.values, dtype=torch.long)\n",
    "X_test, y_test = torch.tensor(X_test, dtype=torch.long), torch.tensor(y_test.values, dtype=torch.long)"
   ]
  },
  {
   "cell_type": "code",
   "execution_count": 16,
   "metadata": {},
   "outputs": [],
   "source": [
    "from torch.utils.data import DataLoader, Dataset\n",
    "\n",
    "class SentimentDataset(Dataset):\n",
    "    def __init__(self, X, y):\n",
    "        self.X = X\n",
    "        self.y = y\n",
    "    \n",
    "    def __len__(self):\n",
    "        return len(self.X)\n",
    "    \n",
    "    def __getitem__(self, idx):\n",
    "        return self.X[idx], self.y[idx]\n",
    "    \n",
    "train_loader = DataLoader(SentimentDataset(X_train, y_train), batch_size=128, shuffle=True)\n",
    "val_loader = DataLoader(SentimentDataset(X_val, y_val), batch_size=128)\n",
    "test_loader = DataLoader(SentimentDataset(X_test, y_test), batch_size=128)"
   ]
  },
  {
   "cell_type": "code",
   "execution_count": 17,
   "metadata": {},
   "outputs": [],
   "source": [
    "import torch.nn as nn\n",
    "import torch.optim as optim\n",
    "# built LSTM Model\n",
    "\n",
    "class LSTMSentiment(nn.Module):\n",
    "    def __init__(self, vocab_size, embed_size, hidden_size, output_size, num_layers, dropout):\n",
    "        super(LSTMSentiment,self).__init__()\n",
    "        self.embedding = nn.Embedding(vocab_size, embed_size, padding_idx=0)\n",
    "        self.lstm = nn.LSTM(embed_size, hidden_size, num_layers, batch_first=True, dropout=dropout)\n",
    "        self.fc = nn.Linear(hidden_size, output_size)\n",
    "\n",
    "    def forward(self, x):\n",
    "        x = self.embedding(x)\n",
    "        _, (hidden, _) = self.lstm(x)\n",
    "        return self.fc(hidden[-1])"
   ]
  },
  {
   "cell_type": "code",
   "execution_count": 52,
   "metadata": {},
   "outputs": [
    {
     "name": "stderr",
     "output_type": "stream",
     "text": [
      "Epoch 1/20 [Train]:   0%|          | 0/115 [00:00<?, ?it/s]"
     ]
    },
    {
     "name": "stderr",
     "output_type": "stream",
     "text": [
      "Epoch 1/20 [Train]: 100%|██████████| 115/115 [00:10<00:00, 11.08it/s, loss=1.09, accuracy=40.53%]\n",
      "Epoch 1/20 [Val]: 100%|██████████| 15/15 [00:00<00:00, 28.57it/s, loss=1.09, accuracy=40.66%]\n"
     ]
    },
    {
     "name": "stdout",
     "output_type": "stream",
     "text": [
      "\n",
      "Epoch 1 Summary:\n",
      "Train Loss: 1.0877 Accuracy: 0.4053\n",
      "Val Loss : 1.0861 Acc: 0.4066\n",
      "\n"
     ]
    },
    {
     "name": "stderr",
     "output_type": "stream",
     "text": [
      "Epoch 2/20 [Train]: 100%|██████████| 115/115 [00:10<00:00, 11.00it/s, loss=1.09, accuracy=40.67%]\n",
      "Epoch 2/20 [Val]: 100%|██████████| 15/15 [00:00<00:00, 28.57it/s, loss=1.09, accuracy=40.66%]\n"
     ]
    },
    {
     "name": "stdout",
     "output_type": "stream",
     "text": [
      "\n",
      "Epoch 2 Summary:\n",
      "Train Loss: 1.0869 Accuracy: 0.4067\n",
      "Val Loss : 1.0866 Acc: 0.4066\n",
      "\n"
     ]
    },
    {
     "name": "stderr",
     "output_type": "stream",
     "text": [
      "Epoch 3/20 [Train]: 100%|██████████| 115/115 [00:10<00:00, 10.95it/s, loss=1.09, accuracy=40.67%]\n",
      "Epoch 3/20 [Val]: 100%|██████████| 15/15 [00:00<00:00, 28.19it/s, loss=1.09, accuracy=40.66%]\n"
     ]
    },
    {
     "name": "stdout",
     "output_type": "stream",
     "text": [
      "\n",
      "Epoch 3 Summary:\n",
      "Train Loss: 1.0871 Accuracy: 0.4067\n",
      "Val Loss : 1.0863 Acc: 0.4066\n",
      "\n"
     ]
    },
    {
     "name": "stderr",
     "output_type": "stream",
     "text": [
      "Epoch 4/20 [Train]: 100%|██████████| 115/115 [00:10<00:00, 10.95it/s, loss=1.09, accuracy=40.67%]\n",
      "Epoch 4/20 [Val]: 100%|██████████| 15/15 [00:00<00:00, 28.40it/s, loss=1.09, accuracy=40.66%]\n"
     ]
    },
    {
     "name": "stdout",
     "output_type": "stream",
     "text": [
      "\n",
      "Epoch 4 Summary:\n",
      "Train Loss: 1.0878 Accuracy: 0.4067\n",
      "Val Loss : 1.0864 Acc: 0.4066\n",
      "\n"
     ]
    },
    {
     "name": "stderr",
     "output_type": "stream",
     "text": [
      "Epoch 5/20 [Train]: 100%|██████████| 115/115 [00:10<00:00, 11.12it/s, loss=1.09, accuracy=40.67%]\n",
      "Epoch 5/20 [Val]: 100%|██████████| 15/15 [00:00<00:00, 28.95it/s, loss=1.09, accuracy=40.66%]\n"
     ]
    },
    {
     "name": "stdout",
     "output_type": "stream",
     "text": [
      "\n",
      "Epoch 5 Summary:\n",
      "Train Loss: 1.0871 Accuracy: 0.4067\n",
      "Val Loss : 1.0860 Acc: 0.4066\n",
      "\n"
     ]
    },
    {
     "name": "stderr",
     "output_type": "stream",
     "text": [
      "Epoch 6/20 [Train]: 100%|██████████| 115/115 [00:10<00:00, 11.14it/s, loss=1.09, accuracy=40.67%]\n",
      "Epoch 6/20 [Val]: 100%|██████████| 15/15 [00:00<00:00, 28.90it/s, loss=1.09, accuracy=40.66%]\n"
     ]
    },
    {
     "name": "stdout",
     "output_type": "stream",
     "text": [
      "\n",
      "Epoch 6 Summary:\n",
      "Train Loss: 1.0871 Accuracy: 0.4067\n",
      "Val Loss : 1.0860 Acc: 0.4066\n",
      "\n"
     ]
    },
    {
     "name": "stderr",
     "output_type": "stream",
     "text": [
      "Epoch 7/20 [Train]: 100%|██████████| 115/115 [00:10<00:00, 11.12it/s, loss=1.09, accuracy=40.67%]\n",
      "Epoch 7/20 [Val]: 100%|██████████| 15/15 [00:00<00:00, 28.95it/s, loss=1.09, accuracy=40.66%]\n"
     ]
    },
    {
     "name": "stdout",
     "output_type": "stream",
     "text": [
      "\n",
      "Epoch 7 Summary:\n",
      "Train Loss: 1.0872 Accuracy: 0.4067\n",
      "Val Loss : 1.0862 Acc: 0.4066\n",
      "\n"
     ]
    },
    {
     "name": "stderr",
     "output_type": "stream",
     "text": [
      "Epoch 8/20 [Train]: 100%|██████████| 115/115 [00:10<00:00, 11.12it/s, loss=1.09, accuracy=40.67%]\n",
      "Epoch 8/20 [Val]: 100%|██████████| 15/15 [00:00<00:00, 28.78it/s, loss=1.09, accuracy=40.66%]\n"
     ]
    },
    {
     "name": "stdout",
     "output_type": "stream",
     "text": [
      "\n",
      "Epoch 8 Summary:\n",
      "Train Loss: 1.0872 Accuracy: 0.4067\n",
      "Val Loss : 1.0860 Acc: 0.4066\n",
      "\n"
     ]
    },
    {
     "name": "stderr",
     "output_type": "stream",
     "text": [
      "Epoch 9/20 [Train]: 100%|██████████| 115/115 [00:10<00:00, 11.11it/s, loss=1.09, accuracy=40.67%]\n",
      "Epoch 9/20 [Val]: 100%|██████████| 15/15 [00:00<00:00, 28.95it/s, loss=1.09, accuracy=40.66%]\n"
     ]
    },
    {
     "name": "stdout",
     "output_type": "stream",
     "text": [
      "\n",
      "Epoch 9 Summary:\n",
      "Train Loss: 1.0871 Accuracy: 0.4067\n",
      "Val Loss : 1.0868 Acc: 0.4066\n",
      "\n"
     ]
    },
    {
     "name": "stderr",
     "output_type": "stream",
     "text": [
      "Epoch 10/20 [Train]: 100%|██████████| 115/115 [00:10<00:00, 11.13it/s, loss=1.09, accuracy=40.67%]\n",
      "Epoch 10/20 [Val]: 100%|██████████| 15/15 [00:00<00:00, 28.73it/s, loss=1.09, accuracy=40.66%]\n"
     ]
    },
    {
     "name": "stdout",
     "output_type": "stream",
     "text": [
      "\n",
      "Epoch 10 Summary:\n",
      "Train Loss: 1.0872 Accuracy: 0.4067\n",
      "Val Loss : 1.0866 Acc: 0.4066\n",
      "\n"
     ]
    },
    {
     "name": "stderr",
     "output_type": "stream",
     "text": [
      "Epoch 11/20 [Train]: 100%|██████████| 115/115 [00:10<00:00, 11.11it/s, loss=1.09, accuracy=40.67%]\n",
      "Epoch 11/20 [Val]: 100%|██████████| 15/15 [00:00<00:00, 28.67it/s, loss=1.09, accuracy=40.66%]\n"
     ]
    },
    {
     "name": "stdout",
     "output_type": "stream",
     "text": [
      "\n",
      "Epoch 11 Summary:\n",
      "Train Loss: 1.0874 Accuracy: 0.4067\n",
      "Val Loss : 1.0861 Acc: 0.4066\n",
      "\n"
     ]
    },
    {
     "name": "stderr",
     "output_type": "stream",
     "text": [
      "Epoch 12/20 [Train]: 100%|██████████| 115/115 [00:10<00:00, 11.09it/s, loss=1.09, accuracy=40.67%]\n",
      "Epoch 12/20 [Val]: 100%|██████████| 15/15 [00:00<00:00, 28.57it/s, loss=1.09, accuracy=40.66%]\n"
     ]
    },
    {
     "name": "stdout",
     "output_type": "stream",
     "text": [
      "\n",
      "Epoch 12 Summary:\n",
      "Train Loss: 1.0870 Accuracy: 0.4067\n",
      "Val Loss : 1.0860 Acc: 0.4066\n",
      "\n"
     ]
    },
    {
     "name": "stderr",
     "output_type": "stream",
     "text": [
      "Epoch 13/20 [Train]: 100%|██████████| 115/115 [00:10<00:00, 10.81it/s, loss=1.09, accuracy=40.67%]\n",
      "Epoch 13/20 [Val]: 100%|██████████| 15/15 [00:00<00:00, 28.24it/s, loss=1.09, accuracy=40.66%]\n"
     ]
    },
    {
     "name": "stdout",
     "output_type": "stream",
     "text": [
      "\n",
      "Epoch 13 Summary:\n",
      "Train Loss: 1.0871 Accuracy: 0.4067\n",
      "Val Loss : 1.0861 Acc: 0.4066\n",
      "\n"
     ]
    },
    {
     "name": "stderr",
     "output_type": "stream",
     "text": [
      "Epoch 14/20 [Train]: 100%|██████████| 115/115 [00:10<00:00, 11.04it/s, loss=1.09, accuracy=40.67%]\n",
      "Epoch 14/20 [Val]: 100%|██████████| 15/15 [00:00<00:00, 28.84it/s, loss=1.09, accuracy=40.66%]\n"
     ]
    },
    {
     "name": "stdout",
     "output_type": "stream",
     "text": [
      "\n",
      "Epoch 14 Summary:\n",
      "Train Loss: 1.0872 Accuracy: 0.4067\n",
      "Val Loss : 1.0859 Acc: 0.4066\n",
      "\n"
     ]
    },
    {
     "name": "stderr",
     "output_type": "stream",
     "text": [
      "Epoch 15/20 [Train]: 100%|██████████| 115/115 [00:10<00:00, 11.10it/s, loss=1.09, accuracy=40.67%]\n",
      "Epoch 15/20 [Val]: 100%|██████████| 15/15 [00:00<00:00, 28.84it/s, loss=1.09, accuracy=40.66%]\n"
     ]
    },
    {
     "name": "stdout",
     "output_type": "stream",
     "text": [
      "\n",
      "Epoch 15 Summary:\n",
      "Train Loss: 1.0871 Accuracy: 0.4067\n",
      "Val Loss : 1.0859 Acc: 0.4066\n",
      "\n"
     ]
    },
    {
     "name": "stderr",
     "output_type": "stream",
     "text": [
      "Epoch 16/20 [Train]: 100%|██████████| 115/115 [00:10<00:00, 11.10it/s, loss=1.09, accuracy=40.67%]\n",
      "Epoch 16/20 [Val]: 100%|██████████| 15/15 [00:00<00:00, 29.01it/s, loss=1.09, accuracy=40.66%]\n"
     ]
    },
    {
     "name": "stdout",
     "output_type": "stream",
     "text": [
      "\n",
      "Epoch 16 Summary:\n",
      "Train Loss: 1.0870 Accuracy: 0.4067\n",
      "Val Loss : 1.0869 Acc: 0.4066\n",
      "\n"
     ]
    },
    {
     "name": "stderr",
     "output_type": "stream",
     "text": [
      "Epoch 17/20 [Train]: 100%|██████████| 115/115 [00:10<00:00, 11.09it/s, loss=1.09, accuracy=40.67%]\n",
      "Epoch 17/20 [Val]: 100%|██████████| 15/15 [00:00<00:00, 28.35it/s, loss=1.09, accuracy=40.66%]\n"
     ]
    },
    {
     "name": "stdout",
     "output_type": "stream",
     "text": [
      "\n",
      "Epoch 17 Summary:\n",
      "Train Loss: 1.0874 Accuracy: 0.4067\n",
      "Val Loss : 1.0859 Acc: 0.4066\n",
      "\n"
     ]
    },
    {
     "name": "stderr",
     "output_type": "stream",
     "text": [
      "Epoch 18/20 [Train]: 100%|██████████| 115/115 [00:10<00:00, 10.79it/s, loss=1.09, accuracy=40.67%]\n",
      "Epoch 18/20 [Val]: 100%|██████████| 15/15 [00:00<00:00, 28.14it/s, loss=1.09, accuracy=40.66%]\n"
     ]
    },
    {
     "name": "stdout",
     "output_type": "stream",
     "text": [
      "\n",
      "Epoch 18 Summary:\n",
      "Train Loss: 1.0870 Accuracy: 0.4067\n",
      "Val Loss : 1.0859 Acc: 0.4066\n",
      "\n"
     ]
    },
    {
     "name": "stderr",
     "output_type": "stream",
     "text": [
      "Epoch 19/20 [Train]: 100%|██████████| 115/115 [00:10<00:00, 11.02it/s, loss=1.09, accuracy=40.67%]\n",
      "Epoch 19/20 [Val]: 100%|██████████| 15/15 [00:00<00:00, 28.73it/s, loss=1.09, accuracy=40.66%]\n"
     ]
    },
    {
     "name": "stdout",
     "output_type": "stream",
     "text": [
      "\n",
      "Epoch 19 Summary:\n",
      "Train Loss: 1.0872 Accuracy: 0.4067\n",
      "Val Loss : 1.0860 Acc: 0.4066\n",
      "\n"
     ]
    },
    {
     "name": "stderr",
     "output_type": "stream",
     "text": [
      "Epoch 20/20 [Train]: 100%|██████████| 115/115 [00:10<00:00, 11.10it/s, loss=1.09, accuracy=40.67%]\n",
      "Epoch 20/20 [Val]: 100%|██████████| 15/15 [00:00<00:00, 29.01it/s, loss=1.09, accuracy=40.66%]"
     ]
    },
    {
     "name": "stdout",
     "output_type": "stream",
     "text": [
      "\n",
      "Epoch 20 Summary:\n",
      "Train Loss: 1.0871 Accuracy: 0.4067\n",
      "Val Loss : 1.0859 Acc: 0.4066\n",
      "\n"
     ]
    },
    {
     "name": "stderr",
     "output_type": "stream",
     "text": [
      "\n"
     ]
    }
   ],
   "source": [
    "from tqdm import tqdm\n",
    "#create model, and training function\n",
    "\n",
    "model = LSTMSentiment(len(vocab), 256, 256, 3, 2, 0.3).to(device)\n",
    "criterion = nn.CrossEntropyLoss()\n",
    "optimizer = optim.AdamW(model.parameters(), lr=1e-4, weight_decay=1e-4, betas=(0.9, 0,999))\n",
    "\n",
    "# training loop function\n",
    "def train_model(model, train_loader, val_loader, criterion, optimizer, epochs=30):\n",
    "    for epoch in range(epochs):\n",
    "        model.train()\n",
    "        train_loss, correct = 0,0\n",
    "        train_progress = tqdm(train_loader, desc=f'Epoch {epoch+1}/{epochs} [Train]')\n",
    "        for i, (X_batch, y_batch) in enumerate(train_progress):\n",
    "            X_batch, y_batch = X_batch.to(device), y_batch.to(device)\n",
    "            optimizer.zero_grad()\n",
    "            outputs = model(X_batch)\n",
    "            loss = criterion(outputs, y_batch)\n",
    "            loss.backward()\n",
    "            optimizer.step()\n",
    "            train_loss += loss.item()\n",
    "            batch_correct = (outputs.argmax(1) == y_batch).sum().item()\n",
    "            correct += batch_correct\n",
    "            \n",
    "            # Update progress bar\n",
    "            train_progress.set_postfix({\n",
    "                'loss': train_loss/(i+1),\n",
    "                'accuracy': f\"{correct/len(X_train)*100:.2f}%\"\n",
    "            })\n",
    "\n",
    "        model.eval()\n",
    "        val_loss, val_correct = 0, 0\n",
    "        val_progress = tqdm(val_loader, desc=f'Epoch {epoch+1}/{epochs} [Val]')\n",
    "        with torch.no_grad():\n",
    "            for i, (X_batch, y_batch) in enumerate(val_progress):\n",
    "                X_batch, y_batch = X_batch.to(device), y_batch.to(device)\n",
    "                outputs = model(X_batch)\n",
    "                loss = criterion(outputs, y_batch)\n",
    "\n",
    "                val_loss += loss.item()\n",
    "                batch_correct = (outputs.argmax(1) == y_batch).sum().item()\n",
    "                val_correct += batch_correct\n",
    "\n",
    "                # Update progress bar\n",
    "                val_progress.set_postfix({\n",
    "                    'loss': val_loss/(i+1),\n",
    "                    'accuracy':f\"{val_correct/len(X_val)*100:.2f}%\"\n",
    "                })\n",
    "\n",
    "        #Print epoch summary\n",
    "        print(f\"\\nEpoch {epoch+1} Summary:\")\n",
    "        print(f\"Train Loss: {train_loss/len(train_loader):.4f} Accuracy: {correct/len(X_train):.4f}\")\n",
    "        print(f\"Val Loss : {val_loss/len(val_loader):.4f} Acc: {val_correct/len(X_val):.4f}\\n\")\n",
    "\n",
    "train_model(model, train_loader, val_loader, criterion, optimizer)\n"
   ]
  },
  {
   "cell_type": "code",
   "execution_count": null,
   "metadata": {},
   "outputs": [],
   "source": []
  }
 ],
 "metadata": {
  "kernelspec": {
   "display_name": "pytorch_nvidia",
   "language": "python",
   "name": "python3"
  },
  "language_info": {
   "codemirror_mode": {
    "name": "ipython",
    "version": 3
   },
   "file_extension": ".py",
   "mimetype": "text/x-python",
   "name": "python",
   "nbconvert_exporter": "python",
   "pygments_lexer": "ipython3",
   "version": "3.10.0"
  }
 },
 "nbformat": 4,
 "nbformat_minor": 2
}
