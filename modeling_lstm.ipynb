{
 "cells": [
  {
   "cell_type": "markdown",
   "metadata": {},
   "source": [
    "# LSTM"
   ]
  },
  {
   "cell_type": "code",
   "execution_count": 26,
   "metadata": {},
   "outputs": [],
   "source": [
    "import pandas as pd\n",
    "import numpy as np"
   ]
  },
  {
   "cell_type": "code",
   "execution_count": 27,
   "metadata": {},
   "outputs": [
    {
     "name": "stdout",
     "output_type": "stream",
     "text": [
      "Number of GPU:  1\n",
      "GPU Name:  NVIDIA GeForce GTX 1650\n",
      "GPU: NVIDIA GeForce GTX 1650 is available.\n"
     ]
    }
   ],
   "source": [
    "import torch\n",
    "\n",
    "print(\"Number of GPU: \", torch.cuda.device_count())\n",
    "print(\"GPU Name: \", torch.cuda.get_device_name())\n",
    "\n",
    "if torch.cuda.is_available():\n",
    "    print(f\"GPU: {torch.cuda.get_device_name(0)} is available.\")\n",
    "else:\n",
    "    print(\"No GPU available. Training will run on CPU.\")"
   ]
  },
  {
   "cell_type": "code",
   "execution_count": 28,
   "metadata": {},
   "outputs": [
    {
     "name": "stdout",
     "output_type": "stream",
     "text": [
      "Selected Device: cuda\n"
     ]
    }
   ],
   "source": [
    "#Configure device: Set the device configuration to GPU using the torch.device class in PyTorch:\n",
    "\n",
    "device = torch.device(\"cuda\" if torch.cuda.is_available() else \"cpu\")\n",
    "print(\"Selected Device:\", device)"
   ]
  },
  {
   "cell_type": "code",
   "execution_count": 29,
   "metadata": {},
   "outputs": [
    {
     "data": {
      "text/html": [
       "<div>\n",
       "<style scoped>\n",
       "    .dataframe tbody tr th:only-of-type {\n",
       "        vertical-align: middle;\n",
       "    }\n",
       "\n",
       "    .dataframe tbody tr th {\n",
       "        vertical-align: top;\n",
       "    }\n",
       "\n",
       "    .dataframe thead th {\n",
       "        text-align: right;\n",
       "    }\n",
       "</style>\n",
       "<table border=\"1\" class=\"dataframe\">\n",
       "  <thead>\n",
       "    <tr style=\"text-align: right;\">\n",
       "      <th></th>\n",
       "      <th>content</th>\n",
       "      <th>score</th>\n",
       "      <th>sentiment</th>\n",
       "    </tr>\n",
       "  </thead>\n",
       "  <tbody>\n",
       "    <tr>\n",
       "      <th>0</th>\n",
       "      <td>pelayanan buruk trouble tidak ada info era dig...</td>\n",
       "      <td>1</td>\n",
       "      <td>0</td>\n",
       "    </tr>\n",
       "    <tr>\n",
       "      <th>1</th>\n",
       "      <td>kenapa sih ini verif aplikasinya susah banget ...</td>\n",
       "      <td>1</td>\n",
       "      <td>0</td>\n",
       "    </tr>\n",
       "    <tr>\n",
       "      <th>2</th>\n",
       "      <td>notifikasi transaksi tidak bisa di edit hapus ...</td>\n",
       "      <td>1</td>\n",
       "      <td>0</td>\n",
       "    </tr>\n",
       "    <tr>\n",
       "      <th>3</th>\n",
       "      <td>tidak bisa dibuka selalu force close talkback ...</td>\n",
       "      <td>1</td>\n",
       "      <td>0</td>\n",
       "    </tr>\n",
       "    <tr>\n",
       "      <th>4</th>\n",
       "      <td>ok bagus dan membantun</td>\n",
       "      <td>5</td>\n",
       "      <td>2</td>\n",
       "    </tr>\n",
       "  </tbody>\n",
       "</table>\n",
       "</div>"
      ],
      "text/plain": [
       "                                             content  score  sentiment\n",
       "0  pelayanan buruk trouble tidak ada info era dig...      1          0\n",
       "1  kenapa sih ini verif aplikasinya susah banget ...      1          0\n",
       "2  notifikasi transaksi tidak bisa di edit hapus ...      1          0\n",
       "3  tidak bisa dibuka selalu force close talkback ...      1          0\n",
       "4                             ok bagus dan membantun      5          2"
      ]
     },
     "execution_count": 29,
     "metadata": {},
     "output_type": "execute_result"
    }
   ],
   "source": [
    "bca = pd.read_csv(\"bca_preprocessed_half.csv\", delimiter=',')\n",
    "bca.head(5)"
   ]
  },
  {
   "cell_type": "code",
   "execution_count": 30,
   "metadata": {},
   "outputs": [
    {
     "data": {
      "text/plain": [
       "content      0\n",
       "score        0\n",
       "sentiment    0\n",
       "dtype: int64"
      ]
     },
     "execution_count": 30,
     "metadata": {},
     "output_type": "execute_result"
    }
   ],
   "source": [
    "bca.isnull().sum()"
   ]
  },
  {
   "cell_type": "code",
   "execution_count": 31,
   "metadata": {},
   "outputs": [],
   "source": [
    "bca = bca.dropna()"
   ]
  },
  {
   "cell_type": "code",
   "execution_count": 32,
   "metadata": {},
   "outputs": [
    {
     "data": {
      "text/plain": [
       "content      0\n",
       "score        0\n",
       "sentiment    0\n",
       "dtype: int64"
      ]
     },
     "execution_count": 32,
     "metadata": {},
     "output_type": "execute_result"
    }
   ],
   "source": [
    "bca.isnull().sum()"
   ]
  },
  {
   "cell_type": "code",
   "execution_count": 33,
   "metadata": {},
   "outputs": [],
   "source": [
    "#Split features (content) and labels (sentiment)\n",
    "\n",
    "X = bca['content']\n",
    "y = bca['sentiment']"
   ]
  },
  {
   "cell_type": "code",
   "execution_count": 34,
   "metadata": {},
   "outputs": [
    {
     "name": "stdout",
     "output_type": "stream",
     "text": [
      "Before balancing:\n",
      "sentiment\n",
      "0    4181\n",
      "2    2188\n",
      "1     631\n",
      "Name: count, dtype: int64\n"
     ]
    }
   ],
   "source": [
    "# Check dataset balance and apply oversampling for \"Neutral\" class if needed\n",
    "print(\"Before balancing:\")\n",
    "print(y.value_counts())"
   ]
  },
  {
   "cell_type": "code",
   "execution_count": 35,
   "metadata": {},
   "outputs": [],
   "source": [
    "# Oversampling technique\n",
    "from sklearn.utils import resample\n",
    "\n",
    "bca_clean_again = pd.concat([X, y], axis=1)\n",
    "\n",
    "#separating each class\n",
    "\n",
    "class_0 = bca_clean_again[bca_clean_again['sentiment'] == 0]\n",
    "class_1 = bca_clean_again[bca_clean_again['sentiment'] == 1]\n",
    "class_2 = bca_clean_again[bca_clean_again['sentiment'] == 2]\n",
    "\n",
    "#oversampling neutral class 1 with majority class 2\n",
    "\n",
    "class_1_oversampled = resample(class_1, replace=True, n_samples=len(class_0), random_state=42)\n",
    "class_2_oversampled = resample(class_2, replace=True, n_samples=len(class_0), random_state=42)\n",
    "\n",
    "\n",
    "#combine all class\n",
    "bca_clean_again = pd.concat([class_0, class_1_oversampled, class_2_oversampled])\n",
    "\n",
    "#shuffling the data\n",
    "bca_clean_again = bca_clean_again.sample(frac=1, random_state=42)\n",
    "\n",
    "X = bca_clean_again['content']\n",
    "y = bca_clean_again['sentiment']"
   ]
  },
  {
   "cell_type": "code",
   "execution_count": 36,
   "metadata": {},
   "outputs": [
    {
     "name": "stdout",
     "output_type": "stream",
     "text": [
      "After balancing:\n",
      "sentiment\n",
      "0    4181\n",
      "2    4181\n",
      "1    4181\n",
      "Name: count, dtype: int64\n"
     ]
    }
   ],
   "source": [
    "# Check dataset balance and apply oversampling for \"Neutral\" class if needed\n",
    "print(\"After balancing:\")\n",
    "print(y.value_counts())"
   ]
  },
  {
   "cell_type": "code",
   "execution_count": 37,
   "metadata": {},
   "outputs": [],
   "source": [
    "#Tokenization\n",
    "from nltk.tokenize import word_tokenize\n",
    "from collections import Counter\n",
    "\n",
    "X = [word_tokenize(text.lower()) for text in X]"
   ]
  },
  {
   "cell_type": "code",
   "execution_count": 38,
   "metadata": {},
   "outputs": [
    {
     "name": "stdout",
     "output_type": "stream",
     "text": [
      "Max length: 103\n",
      "Mean length: 19.14\n",
      "95th percentile: 52.0\n",
      "90th percentile: 40.0\n",
      "80th percentile: 30.0\n"
     ]
    },
    {
     "data": {
      "image/png": "[encoded data removed]",
      "text/plain": [
       "<Figure size 1000x500 with 1 Axes>"
      ]
     },
     "metadata": {},
     "output_type": "display_data"
    }
   ],
   "source": [
    "import numpy as np\n",
    "import matplotlib.pyplot as plt\n",
    "\n",
    "# Get tokenized lengths\n",
    "token_lengths = [len(sentence) for sentence in X]\n",
    "\n",
    "# Print statistics\n",
    "print(f\"Max length: {max(token_lengths)}\")\n",
    "print(f\"Mean length: {np.mean(token_lengths):.2f}\")\n",
    "print(f\"95th percentile: {np.percentile(token_lengths, 95)}\")\n",
    "print(f\"90th percentile: {np.percentile(token_lengths, 90)}\")\n",
    "print(f\"80th percentile: {np.percentile(token_lengths, 80)}\")\n",
    "\n",
    "# Plot distribution\n",
    "plt.figure(figsize=(10, 5))\n",
    "plt.hist(token_lengths, bins=50, alpha=0.7, color='b')\n",
    "plt.axvline(np.percentile(token_lengths, 95), color='r', linestyle='dashed', linewidth=2, label=\"95th percentile\")\n",
    "plt.axvline(np.percentile(token_lengths, 90), color='g', linestyle='dashed', linewidth=2, label=\"90th percentile\")\n",
    "plt.axvline(np.percentile(token_lengths, 80), color='y', linestyle='dashed', linewidth=2, label=\"80th percentile\")\n",
    "plt.xlabel(\"Review Length (tokens)\")\n",
    "plt.ylabel(\"Frequency\")\n",
    "plt.title(\"Token Length Distribution\")\n",
    "plt.legend()\n",
    "plt.show()"
   ]
  },
  {
   "cell_type": "code",
   "execution_count": 39,
   "metadata": {},
   "outputs": [],
   "source": [
    "#build vocabulary\n",
    "\n",
    "word_counts = Counter(word for sentence in X for word in sentence)\n",
    "vocab = {word: i+1 for i, (word, _)in enumerate(word_counts.most_common())}\n",
    "vocab[\"PAD\"] = 0\n",
    "\n",
    "#Convert text to sequences\n",
    "X = [[vocab[word]for word in sentence]for sentence in X]\n",
    "\n",
    "# Padding\n",
    "def pad_sequence(sequences, maxlen):\n",
    "    return [seq[:maxlen] + [0] * (maxlen - len(seq)) if len(seq) < maxlen else seq[:maxlen] for seq in sequences]\n",
    "\n",
    "maxlen = 103\n",
    "X = pad_sequence(X, maxlen)"
   ]
  },
  {
   "cell_type": "code",
   "execution_count": 40,
   "metadata": {},
   "outputs": [],
   "source": [
    "#Split dataset\n",
    "from sklearn.model_selection import train_test_split\n",
    "\n",
    "X_train, X_temp, y_train, y_temp = train_test_split(X, y, test_size=0.2, random_state=42, stratify=y)\n",
    "\n",
    "X_val, X_test, y_val, y_test = train_test_split(X_temp, y_temp, test_size=0.5, random_state=42, stratify=y_temp)"
   ]
  },
  {
   "cell_type": "code",
   "execution_count": 41,
   "metadata": {},
   "outputs": [],
   "source": [
    "#convert to tensors\n",
    "\n",
    "X_train, y_train = torch.tensor(X_train, dtype=torch.long), torch.tensor(y_train.values, dtype=torch.long)\n",
    "X_val, y_val = torch.tensor(X_val, dtype=torch.long), torch.tensor(y_val.values, dtype=torch.long)\n",
    "X_test, y_test = torch.tensor(X_test, dtype=torch.long), torch.tensor(y_test.values, dtype=torch.long)"
   ]
  },
  {
   "cell_type": "code",
   "execution_count": 42,
   "metadata": {},
   "outputs": [],
   "source": [
    "from torch.utils.data import DataLoader, Dataset\n",
    "\n",
    "class SentimentDataset(Dataset):\n",
    "    def __init__(self, X, y):\n",
    "        self.X = X\n",
    "        self.y = y\n",
    "    \n",
    "    def __len__(self):\n",
    "        return len(self.X)\n",
    "    \n",
    "    def __getitem__(self, idx):\n",
    "        return self.X[idx], self.y[idx]\n",
    "    \n",
    "train_loader = DataLoader(SentimentDataset(X_train, y_train), batch_size=32, shuffle=True)\n",
    "val_loader = DataLoader(SentimentDataset(X_val, y_val), batch_size=32)\n",
    "test_loader = DataLoader(SentimentDataset(X_test, y_test), batch_size=32)"
   ]
  },
  {
   "cell_type": "code",
   "execution_count": 43,
   "metadata": {},
   "outputs": [],
   "source": [
    "import torch.nn as nn\n",
    "import torch.optim as optim\n",
    "\n",
    "#add attention mechanism\n",
    "class Attention(nn.Module):\n",
    "    def __init__(self, hidden_size):\n",
    "        super(Attention, self).__init__()\n",
    "        self.attention = nn.Linear(hidden_size, 1)\n",
    "        self.dropout = nn.Dropout(0.5)#add dropout in attention\n",
    "    \n",
    "    def forward(self, x):\n",
    "        # x shape: (batch_size, seq_len, hidden_size)\n",
    "        attention_weights = torch.softmax(self.attention(x), dim=1)\n",
    "        attention_weights = self.dropout(attention_weights)  # Apply dropout\n",
    "        return (x * attention_weights).sum(dim=1)\n",
    "\n",
    "# built LSTM Model\n",
    "class LSTMSentiment(nn.Module):\n",
    "    def __init__(self, vocab_size, embed_size, hidden_size, output_size, num_layers, dropout):\n",
    "        super(LSTMSentiment, self).__init__()\n",
    "        self.embedding = nn.Embedding(vocab_size, embed_size, padding_idx=0)\n",
    "        self.lstm = nn.LSTM(embed_size, hidden_size, num_layers, batch_first=True, dropout=dropout, bidirectional=True)\n",
    "        self.attention = Attention(hidden_size * 2)\n",
    "        self.dropout = nn.Dropout(dropout)\n",
    "        self.fc = nn.Linear(hidden_size * 2, output_size)\n",
    "    \n",
    "    def forward(self, x):\n",
    "        x = self.embedding(x)\n",
    "        lstm_out, _ = self.lstm(x)\n",
    "        attention_out = self.attention(lstm_out)\n",
    "        out = self.fc(attention_out)\n",
    "        return out"
   ]
  },
  {
   "cell_type": "code",
   "execution_count": 44,
   "metadata": {},
   "outputs": [],
   "source": [
    "# Calculate class weights\n",
    "class_counts = y.value_counts().sort_index().values\n",
    "class_weights = 1. / class_counts\n",
    "class_weights = torch.tensor(class_weights, dtype=torch.float32).to(device)"
   ]
  },
  {
   "cell_type": "code",
   "execution_count": 45,
   "metadata": {},
   "outputs": [
    {
     "name": "stderr",
     "output_type": "stream",
     "text": [
      "Epoch 1/50 [Train]: 100%|██████████| 314/314 [00:08<00:00, 37.39it/s, loss=1.08, accuracy=37.76%]\n",
      "Epoch 1/50 [Val]: 100%|██████████| 40/40 [00:00<00:00, 79.03it/s, loss=0.997, accuracy=46.49%]\n"
     ]
    },
    {
     "name": "stdout",
     "output_type": "stream",
     "text": [
      "\n",
      "Epoch 1 Summary:\n",
      "Train Loss: 1.0758, Train Accuracy: 0.3776\n",
      "Val Loss: 0.9973, Val Accuracy: 0.4649\n",
      "\n"
     ]
    },
    {
     "name": "stderr",
     "output_type": "stream",
     "text": [
      "Epoch 2/50 [Train]: 100%|██████████| 314/314 [00:08<00:00, 37.91it/s, loss=0.927, accuracy=51.75%]\n",
      "Epoch 2/50 [Val]: 100%|██████████| 40/40 [00:00<00:00, 79.98it/s, loss=0.921, accuracy=51.67%]\n"
     ]
    },
    {
     "name": "stdout",
     "output_type": "stream",
     "text": [
      "\n",
      "Epoch 2 Summary:\n",
      "Train Loss: 0.9272, Train Accuracy: 0.5175\n",
      "Val Loss: 0.9207, Val Accuracy: 0.5167\n",
      "\n"
     ]
    },
    {
     "name": "stderr",
     "output_type": "stream",
     "text": [
      "Epoch 3/50 [Train]: 100%|██████████| 314/314 [00:08<00:00, 38.32it/s, loss=0.844, accuracy=58.62%]\n",
      "Epoch 3/50 [Val]: 100%|██████████| 40/40 [00:00<00:00, 82.80it/s, loss=0.842, accuracy=61.32%]\n"
     ]
    },
    {
     "name": "stdout",
     "output_type": "stream",
     "text": [
      "\n",
      "Epoch 3 Summary:\n",
      "Train Loss: 0.8436, Train Accuracy: 0.5862\n",
      "Val Loss: 0.8420, Val Accuracy: 0.6132\n",
      "\n"
     ]
    },
    {
     "name": "stderr",
     "output_type": "stream",
     "text": [
      "Epoch 4/50 [Train]: 100%|██████████| 314/314 [00:08<00:00, 38.39it/s, loss=0.747, accuracy=66.15%]\n",
      "Epoch 4/50 [Val]: 100%|██████████| 40/40 [00:00<00:00, 81.61it/s, loss=0.767, accuracy=66.19%]\n"
     ]
    },
    {
     "name": "stdout",
     "output_type": "stream",
     "text": [
      "\n",
      "Epoch 4 Summary:\n",
      "Train Loss: 0.7470, Train Accuracy: 0.6615\n",
      "Val Loss: 0.7669, Val Accuracy: 0.6619\n",
      "\n"
     ]
    },
    {
     "name": "stderr",
     "output_type": "stream",
     "text": [
      "Epoch 5/50 [Train]: 100%|██████████| 314/314 [00:08<00:00, 38.13it/s, loss=0.655, accuracy=72.51%]\n",
      "Epoch 5/50 [Val]: 100%|██████████| 40/40 [00:00<00:00, 80.33it/s, loss=0.694, accuracy=72.01%]\n"
     ]
    },
    {
     "name": "stdout",
     "output_type": "stream",
     "text": [
      "\n",
      "Epoch 5 Summary:\n",
      "Train Loss: 0.6548, Train Accuracy: 0.7251\n",
      "Val Loss: 0.6941, Val Accuracy: 0.7201\n",
      "\n"
     ]
    },
    {
     "name": "stderr",
     "output_type": "stream",
     "text": [
      "Epoch 6/50 [Train]: 100%|██████████| 314/314 [00:08<00:00, 38.32it/s, loss=0.575, accuracy=76.96%]\n",
      "Epoch 6/50 [Val]: 100%|██████████| 40/40 [00:00<00:00, 82.63it/s, loss=0.663, accuracy=74.16%]\n"
     ]
    },
    {
     "name": "stdout",
     "output_type": "stream",
     "text": [
      "\n",
      "Epoch 6 Summary:\n",
      "Train Loss: 0.5752, Train Accuracy: 0.7696\n",
      "Val Loss: 0.6633, Val Accuracy: 0.7416\n",
      "\n"
     ]
    },
    {
     "name": "stderr",
     "output_type": "stream",
     "text": [
      "Epoch 7/50 [Train]: 100%|██████████| 314/314 [00:08<00:00, 39.07it/s, loss=0.533, accuracy=79.65%]\n",
      "Epoch 7/50 [Val]: 100%|██████████| 40/40 [00:00<00:00, 84.37it/s, loss=0.634, accuracy=75.28%]\n"
     ]
    },
    {
     "name": "stdout",
     "output_type": "stream",
     "text": [
      "\n",
      "Epoch 7 Summary:\n",
      "Train Loss: 0.5328, Train Accuracy: 0.7965\n",
      "Val Loss: 0.6342, Val Accuracy: 0.7528\n",
      "\n"
     ]
    },
    {
     "name": "stderr",
     "output_type": "stream",
     "text": [
      "Epoch 8/50 [Train]: 100%|██████████| 314/314 [00:08<00:00, 38.81it/s, loss=0.495, accuracy=81.33%]\n",
      "Epoch 8/50 [Val]: 100%|██████████| 40/40 [00:00<00:00, 81.97it/s, loss=0.621, accuracy=76.00%]\n"
     ]
    },
    {
     "name": "stdout",
     "output_type": "stream",
     "text": [
      "\n",
      "Epoch 8 Summary:\n",
      "Train Loss: 0.4947, Train Accuracy: 0.8133\n",
      "Val Loss: 0.6210, Val Accuracy: 0.7600\n",
      "\n"
     ]
    },
    {
     "name": "stderr",
     "output_type": "stream",
     "text": [
      "Epoch 9/50 [Train]: 100%|██████████| 314/314 [00:08<00:00, 38.59it/s, loss=0.457, accuracy=83.26%]\n",
      "Epoch 9/50 [Val]: 100%|██████████| 40/40 [00:00<00:00, 82.63it/s, loss=0.575, accuracy=78.15%]\n"
     ]
    },
    {
     "name": "stdout",
     "output_type": "stream",
     "text": [
      "\n",
      "Epoch 9 Summary:\n",
      "Train Loss: 0.4572, Train Accuracy: 0.8326\n",
      "Val Loss: 0.5749, Val Accuracy: 0.7815\n",
      "\n"
     ]
    },
    {
     "name": "stderr",
     "output_type": "stream",
     "text": [
      "Epoch 10/50 [Train]: 100%|██████████| 314/314 [00:08<00:00, 38.67it/s, loss=0.425, accuracy=84.96%]\n",
      "Epoch 10/50 [Val]: 100%|██████████| 40/40 [00:00<00:00, 81.45it/s, loss=0.564, accuracy=79.03%]\n"
     ]
    },
    {
     "name": "stdout",
     "output_type": "stream",
     "text": [
      "\n",
      "Epoch 10 Summary:\n",
      "Train Loss: 0.4248, Train Accuracy: 0.8496\n",
      "Val Loss: 0.5640, Val Accuracy: 0.7903\n",
      "\n",
      "Early stopping at epoch 10\n"
     ]
    }
   ],
   "source": [
    "from tqdm import tqdm\n",
    "from torch.optim.lr_scheduler import StepLR\n",
    "#create model, and training function\n",
    "\n",
    "model = LSTMSentiment(len(vocab), 128, 128, 3, 3, 0.5).to(device) # adjust hyperparameters\n",
    "criterion = nn.CrossEntropyLoss(weight=class_weights)\n",
    "optimizer = optim.AdamW(model.parameters(), lr=1e-4, weight_decay=1e-4, betas=(0.9, 0.999))\n",
    "scheduler = StepLR(optimizer, step_size=5, gamma=0.5) #Reduce LR by 0.1 every 10 epochs\n",
    "\n",
    "# training loop function\n",
    "def train_model(model, train_loader, val_loader, criterion, optimizer, epochs=50):\n",
    "    best_val_loss = float('inf')\n",
    "    best_val_acc = 0.0  # Track best validation accuracy\n",
    "    patience = 10  # Early stopping patience\n",
    "    early_stop_counter = 0\n",
    "\n",
    "    train_losses, val_losses = [], []\n",
    "\n",
    "    for epoch in range(epochs):\n",
    "        model.train()\n",
    "        train_loss, correct = 0, 0\n",
    "        total_train_samples = len(train_loader.dataset)\n",
    "\n",
    "        train_progress = tqdm(train_loader, desc=f'Epoch {epoch+1}/{epochs} [Train]')\n",
    "        for i, (X_batch, y_batch) in enumerate(train_progress):\n",
    "            X_batch, y_batch = X_batch.to(device), y_batch.to(device)\n",
    "            optimizer.zero_grad()\n",
    "            outputs = model(X_batch)\n",
    "            loss = criterion(outputs, y_batch)\n",
    "            loss.backward()\n",
    "\n",
    "            torch.nn.utils.clip_grad_norm_(model.parameters(), max_norm=1.0) #prevent explosion\n",
    "\n",
    "            optimizer.step()\n",
    "            train_loss += loss.item()\n",
    "            batch_correct = (outputs.argmax(1) == y_batch).sum().item()\n",
    "            correct += batch_correct\n",
    "            \n",
    "            # Update progress bar\n",
    "            train_progress.set_postfix({\n",
    "                'loss': train_loss/(i+1),\n",
    "                # 'accuracy': f\"{correct/len(X_train)*100:.2f}%\"\n",
    "                'accuracy': f\"{correct/ total_train_samples *100:.2f}%\"\n",
    "            })\n",
    "\n",
    "        scheduler.step()\n",
    "\n",
    "        avg_train_loss = train_loss / len(train_loader)  # Compute average loss\n",
    "        train_losses.append(avg_train_loss)  # Store loss in list\n",
    "\n",
    "\n",
    "        model.eval()\n",
    "        val_loss, val_correct = 0, 0\n",
    "        total_val_samples = len(val_loader.dataset)\n",
    "\n",
    "        val_progress = tqdm(val_loader, desc=f'Epoch {epoch+1}/{epochs} [Val]')\n",
    "        with torch.no_grad():\n",
    "            for i, (X_batch, y_batch) in enumerate(val_progress):\n",
    "                X_batch, y_batch = X_batch.to(device), y_batch.to(device)\n",
    "                outputs = model(X_batch)\n",
    "                loss = criterion(outputs, y_batch)\n",
    "                val_loss += loss.item()\n",
    "                batch_correct = (outputs.argmax(1) == y_batch).sum().item()\n",
    "                val_correct += batch_correct\n",
    "\n",
    "                avg_val_loss = val_loss / len(val_loader)  # Compute average loss\n",
    "                val_losses.append(avg_val_loss)  # Store loss in list\n",
    "\n",
    "                # Update progress bar\n",
    "                val_progress.set_postfix({\n",
    "                    'loss': val_loss/(i+1),\n",
    "                    # 'accuracy': f\"{val_correct/len(X_val)*100:.2f}%\"\n",
    "                    'accuracy': f\"{val_correct/ total_val_samples *100:.2f}%\"\n",
    "                })\n",
    "\n",
    "\n",
    "        train_acc = correct / total_train_samples\n",
    "        val_acc = val_correct / total_val_samples\n",
    "        # Print epoch summary\n",
    "        print(f\"\\nEpoch {epoch+1} Summary:\")\n",
    "        print(f\"Train Loss: {avg_train_loss:.4f}, Train Accuracy: {train_acc:.4f}\")\n",
    "        print(f\"Val Loss: {avg_val_loss:.4f}, Val Accuracy: {val_acc:.4f}\\n\")\n",
    "\n",
    "        # Save best model based on validation accuracy\n",
    "        if val_acc > best_val_loss:\n",
    "            best_val_loss = val_loss\n",
    "            early_stop_counter = 0\n",
    "            torch.save(model.state_dict(), 'best_model.pth')\n",
    "        else:\n",
    "            early_stop_counter += 1\n",
    "            if early_stop_counter >= patience:\n",
    "                print(f\"Early stopping at epoch {epoch+1}\")\n",
    "                break\n",
    "            \n",
    "    return train_losses, val_losses\n",
    "# Train the model\n",
    "\n",
    "train_losses, val_losses = train_model(model, train_loader, val_loader, criterion, optimizer, epochs=50)  # Increased epochs"
   ]
  },
  {
   "cell_type": "markdown",
   "metadata": {},
   "source": [
    "#### Evaluate Model"
   ]
  },
  {
   "cell_type": "code",
   "execution_count": 46,
   "metadata": {},
   "outputs": [],
   "source": [
    "import matplotlib.pyplot as plt\n",
    "import seaborn as sns\n",
    "from sklearn.metrics import classification_report, confusion_matrix, accuracy_score\n",
    "import torch"
   ]
  },
  {
   "cell_type": "code",
   "execution_count": 47,
   "metadata": {},
   "outputs": [],
   "source": [
    "model.eval()\n",
    "y_true, y_pred = [], []\n",
    "\n",
    "with torch.no_grad():\n",
    "    for X_batch, y_batch in test_loader:\n",
    "        X_batch, y_batch = X_batch.to(device), y_batch.to(device)\n",
    "        outputs = model(X_batch)\n",
    "        predictions = torch.argmax(outputs, dim=1)\n",
    "        y_true.extend(y_batch.cpu().numpy())\n",
    "        y_pred.extend(predictions.cpu().numpy())"
   ]
  },
  {
   "cell_type": "code",
   "execution_count": 48,
   "metadata": {},
   "outputs": [
    {
     "name": "stdout",
     "output_type": "stream",
     "text": [
      "Test Accuracy: 79.28%\n",
      "Classification Report:\n",
      "              precision    recall  f1-score   support\n",
      "\n",
      "    NEGATIVE       0.72      0.68      0.70       418\n",
      "     NEUTRAL       0.79      0.92      0.85       418\n",
      "    POSITIVE       0.87      0.77      0.82       419\n",
      "\n",
      "    accuracy                           0.79      1255\n",
      "   macro avg       0.79      0.79      0.79      1255\n",
      "weighted avg       0.79      0.79      0.79      1255\n",
      "\n"
     ]
    }
   ],
   "source": [
    "# Classification Report and test accuracy\n",
    "accuracy = accuracy_score(y_true, y_pred) * 100\n",
    "print(f\"Test Accuracy: {accuracy:.2f}%\")\n",
    "print(\"Classification Report:\")\n",
    "print(classification_report(y_true, y_pred, target_names=['NEGATIVE', 'NEUTRAL', 'POSITIVE']))"
   ]
  },
  {
   "cell_type": "code",
   "execution_count": 49,
   "metadata": {},
   "outputs": [
    {
     "data": {
      "text/plain": [
       "Text(0.5, 1.0, 'Confusion Matrix')"
      ]
     },
     "execution_count": 49,
     "metadata": {},
     "output_type": "execute_result"
    },
    {
     "data": {
      "image/png": "[encoded data removed]",
      "text/plain": [
       "<Figure size 600x500 with 2 Axes>"
      ]
     },
     "metadata": {},
     "output_type": "display_data"
    }
   ],
   "source": [
    "# confusion matrix\n",
    "\n",
    "cm = confusion_matrix(y_true, y_pred)\n",
    "plt.figure(figsize=(6,5))\n",
    "sns.heatmap(cm, annot=True, fmt='d', cmap='Blues', xticklabels=['NEGATIVE', 'NEUTRAL', 'POSITIVE'], yticklabels=['NEGATIVE', 'NEUTRAL', 'POSITIVE'])\n",
    "plt.xlabel('Predicted')\n",
    "plt.ylabel('Actual')\n",
    "plt.title('Confusion Matrix')"
   ]
  },
  {
   "cell_type": "code",
   "execution_count": 50,
   "metadata": {},
   "outputs": [
    {
     "data": {
      "image/png": "[encoded data removed]",
      "text/plain": [
       "<Figure size 1000x500 with 1 Axes>"
      ]
     },
     "metadata": {},
     "output_type": "display_data"
    }
   ],
   "source": [
    "# Loss Visualization\n",
    "plt.figure(figsize=(10, 5))\n",
    "plt.plot(range(len(train_losses)), train_losses, label='Train Loss')\n",
    "plt.plot(range(len(val_losses)), val_losses, label='Validation Loss')\n",
    "plt.xlabel('Epochs')\n",
    "plt.ylabel('Loss')\n",
    "plt.title('Training and Validation Loss')\n",
    "plt.legend()\n",
    "plt.show()"
   ]
  },
  {
   "cell_type": "code",
   "execution_count": null,
   "metadata": {},
   "outputs": [],
   "source": []
  }
 ],
 "metadata": {
  "kernelspec": {
   "display_name": "pytorch_nvidia",
   "language": "python",
   "name": "python3"
  },
  "language_info": {
   "codemirror_mode": {
    "name": "ipython",
    "version": 3
   },
   "file_extension": ".py",
   "mimetype": "text/x-python",
   "name": "python",
   "nbconvert_exporter": "python",
   "pygments_lexer": "ipython3",
   "version": "3.10.0"
  }
 },
 "nbformat": 4,
 "nbformat_minor": 2
}
