{
 "cells": [
  {
   "cell_type": "markdown",
   "metadata": {},
   "source": [
    "# DISTILBERT Multilanguage"
   ]
  },
  {
   "cell_type": "markdown",
   "metadata": {},
   "source": [
    "#### Configure NVIDIA GPU as Default"
   ]
  },
  {
   "cell_type": "code",
   "execution_count": 1,
   "metadata": {},
   "outputs": [
    {
     "name": "stdout",
     "output_type": "stream",
     "text": [
      "Number of GPU:  1\n",
      "GPU Name:  NVIDIA GeForce GTX 1650\n",
      "GPU: NVIDIA GeForce GTX 1650 is available.\n"
     ]
    }
   ],
   "source": [
    "import torch\n",
    "\n",
    "print(\"Number of GPU: \", torch.cuda.device_count())\n",
    "print(\"GPU Name: \", torch.cuda.get_device_name())\n",
    "\n",
    "if torch.cuda.is_available():\n",
    "    print(f\"GPU: {torch.cuda.get_device_name(0)} is available.\")\n",
    "else:\n",
    "    print(\"No GPU available. Training will run on CPU.\")"
   ]
  },
  {
   "cell_type": "code",
   "execution_count": 2,
   "metadata": {},
   "outputs": [
    {
     "name": "stdout",
     "output_type": "stream",
     "text": [
      "Selected Device: cuda\n"
     ]
    }
   ],
   "source": [
    "#Configure device: Set the device configuration to GPU using the torch.device class in PyTorch:\n",
    "\n",
    "device = torch.device(\"cuda\" if torch.cuda.is_available() else \"cpu\")\n",
    "print(\"Selected Device:\", device)"
   ]
  },
  {
   "cell_type": "markdown",
   "metadata": {},
   "source": [
    "### Importing Library"
   ]
  },
  {
   "cell_type": "code",
   "execution_count": 3,
   "metadata": {},
   "outputs": [],
   "source": [
    "import pandas as pd\n",
    "import numpy as np"
   ]
  },
  {
   "cell_type": "markdown",
   "metadata": {},
   "source": [
    "### Load Data"
   ]
  },
  {
   "cell_type": "code",
   "execution_count": 4,
   "metadata": {},
   "outputs": [
    {
     "data": {
      "text/html": [
       "<div>\n",
       "<style scoped>\n",
       "    .dataframe tbody tr th:only-of-type {\n",
       "        vertical-align: middle;\n",
       "    }\n",
       "\n",
       "    .dataframe tbody tr th {\n",
       "        vertical-align: top;\n",
       "    }\n",
       "\n",
       "    .dataframe thead th {\n",
       "        text-align: right;\n",
       "    }\n",
       "</style>\n",
       "<table border=\"1\" class=\"dataframe\">\n",
       "  <thead>\n",
       "    <tr style=\"text-align: right;\">\n",
       "      <th></th>\n",
       "      <th>content</th>\n",
       "      <th>score</th>\n",
       "      <th>sentiment</th>\n",
       "    </tr>\n",
       "  </thead>\n",
       "  <tbody>\n",
       "    <tr>\n",
       "      <th>0</th>\n",
       "      <td>mohon donk kembalikan tanda biru hitam saat li...</td>\n",
       "      <td>1</td>\n",
       "      <td>0</td>\n",
       "    </tr>\n",
       "    <tr>\n",
       "      <th>1</th>\n",
       "      <td>kenapa sekarang untuk transfer ke blu bca ada ...</td>\n",
       "      <td>2</td>\n",
       "      <td>0</td>\n",
       "    </tr>\n",
       "    <tr>\n",
       "      <th>2</th>\n",
       "      <td>oke terimakasih</td>\n",
       "      <td>5</td>\n",
       "      <td>2</td>\n",
       "    </tr>\n",
       "    <tr>\n",
       "      <th>3</th>\n",
       "      <td>tolong pihak developer untuk update hp saya ga...</td>\n",
       "      <td>5</td>\n",
       "      <td>2</td>\n",
       "    </tr>\n",
       "    <tr>\n",
       "      <th>4</th>\n",
       "      <td>ok</td>\n",
       "      <td>5</td>\n",
       "      <td>2</td>\n",
       "    </tr>\n",
       "  </tbody>\n",
       "</table>\n",
       "</div>"
      ],
      "text/plain": [
       "                                             content  score  sentiment\n",
       "0  mohon donk kembalikan tanda biru hitam saat li...      1          0\n",
       "1  kenapa sekarang untuk transfer ke blu bca ada ...      2          0\n",
       "2                                    oke terimakasih      5          2\n",
       "3  tolong pihak developer untuk update hp saya ga...      5          2\n",
       "4                                                 ok      5          2"
      ]
     },
     "execution_count": 4,
     "metadata": {},
     "output_type": "execute_result"
    }
   ],
   "source": [
    "df = pd.read_csv('bca_preprocessed_data.csv', delimiter=',')\n",
    "df.head(5)"
   ]
  },
  {
   "cell_type": "code",
   "execution_count": 5,
   "metadata": {},
   "outputs": [
    {
     "data": {
      "text/plain": [
       "(14000, 3)"
      ]
     },
     "execution_count": 5,
     "metadata": {},
     "output_type": "execute_result"
    }
   ],
   "source": [
    "df.shape"
   ]
  },
  {
   "cell_type": "markdown",
   "metadata": {},
   "source": [
    "### Find and clean missing data pt2"
   ]
  },
  {
   "cell_type": "code",
   "execution_count": 6,
   "metadata": {},
   "outputs": [
    {
     "data": {
      "text/plain": [
       "content      61\n",
       "score         0\n",
       "sentiment     0\n",
       "dtype: int64"
      ]
     },
     "execution_count": 6,
     "metadata": {},
     "output_type": "execute_result"
    }
   ],
   "source": [
    "df.isnull().sum()"
   ]
  },
  {
   "cell_type": "code",
   "execution_count": 7,
   "metadata": {},
   "outputs": [],
   "source": [
    "bca_clean_again = df.dropna()"
   ]
  },
  {
   "cell_type": "code",
   "execution_count": 8,
   "metadata": {},
   "outputs": [
    {
     "data": {
      "text/plain": [
       "content      0\n",
       "score        0\n",
       "sentiment    0\n",
       "dtype: int64"
      ]
     },
     "execution_count": 8,
     "metadata": {},
     "output_type": "execute_result"
    }
   ],
   "source": [
    "bca_clean_again.isnull().sum()"
   ]
  },
  {
   "cell_type": "code",
   "execution_count": 9,
   "metadata": {},
   "outputs": [
    {
     "data": {
      "text/plain": [
       "(13939, 3)"
      ]
     },
     "execution_count": 9,
     "metadata": {},
     "output_type": "execute_result"
    }
   ],
   "source": [
    "bca_clean_again.shape"
   ]
  },
  {
   "cell_type": "markdown",
   "metadata": {},
   "source": [
    "### Check Data Balance when Splitting🪓"
   ]
  },
  {
   "cell_type": "code",
   "execution_count": 10,
   "metadata": {},
   "outputs": [],
   "source": [
    "#Split features (content) and labels (sentiment)\n",
    "\n",
    "X = bca_clean_again['content']\n",
    "y = bca_clean_again['sentiment']"
   ]
  },
  {
   "cell_type": "code",
   "execution_count": 11,
   "metadata": {},
   "outputs": [
    {
     "name": "stdout",
     "output_type": "stream",
     "text": [
      "Before balancing:\n",
      "sentiment\n",
      "0    7443\n",
      "2    5429\n",
      "1    1067\n",
      "Name: count, dtype: int64\n"
     ]
    }
   ],
   "source": [
    "# Check dataset balance and apply oversampling for \"Neutral\" class if needed\n",
    "print(\"Before balancing:\")\n",
    "print(y.value_counts())"
   ]
  },
  {
   "cell_type": "markdown",
   "metadata": {},
   "source": [
    "##### Melakukan balancing data karena kelas 0 mempunyai values yang sedikit dan dapat berpengaruh kepada performa yang tidak baik menggunakan Oversampling: duplikasi class minoritas untuk menyeimbangkan dataset."
   ]
  },
  {
   "cell_type": "code",
   "execution_count": 12,
   "metadata": {},
   "outputs": [],
   "source": [
    "# Oversampling technique\n",
    "from sklearn.utils import resample\n",
    "\n",
    "\n",
    "bca_clean_again = pd.concat([X, y], axis=1)\n",
    "\n",
    "#separating each class\n",
    "\n",
    "class_0 = bca_clean_again[bca_clean_again['sentiment'] == 0]\n",
    "class_1 = bca_clean_again[bca_clean_again['sentiment'] == 1]\n",
    "class_2 = bca_clean_again[bca_clean_again['sentiment'] == 2]\n",
    "\n",
    "#oversampling neutral class 1 with majority class 2\n",
    "\n",
    "class_1_oversampled = resample(class_1, replace=True, n_samples=len(class_2), random_state=42)\n",
    "\n",
    "\n",
    "#combine all class\n",
    "bca_clean_again = pd.concat([class_0, class_1_oversampled, class_2])\n",
    "\n",
    "#shuffling the data\n",
    "bca_clean_again = bca_clean_again.sample(frac=1, random_state=42)\n",
    "\n",
    "X = bca_clean_again['content']\n",
    "y = bca_clean_again['sentiment']"
   ]
  },
  {
   "cell_type": "code",
   "execution_count": 13,
   "metadata": {},
   "outputs": [
    {
     "name": "stdout",
     "output_type": "stream",
     "text": [
      "After balancing:\n",
      "sentiment\n",
      "0    7443\n",
      "1    5429\n",
      "2    5429\n",
      "Name: count, dtype: int64\n"
     ]
    }
   ],
   "source": [
    "# Check dataset balance and apply oversampling for \"Neutral\" class if needed\n",
    "print(\"After balancing:\")\n",
    "print(y.value_counts())"
   ]
  },
  {
   "cell_type": "markdown",
   "metadata": {},
   "source": [
    "### Splitting Data🪓🪓🪓 , 80:20 "
   ]
  },
  {
   "cell_type": "code",
   "execution_count": 14,
   "metadata": {},
   "outputs": [],
   "source": [
    "# from sklearn.model_selection import train_test_split\n",
    "\n",
    "# X_train, X_test, y_train, y_test = train_test_split(X, y, test_size=0.2, \n",
    "#                                                     random_state=42, stratify=y)\n",
    "\n",
    "# #split 20% test+validation into 10%test dan 10%validation\n",
    "# X_train, X_val, y_train, y_val = train_test_split(X_train, y_train, \n",
    "#                                                test_size=0.2, random_state=42)"
   ]
  },
  {
   "cell_type": "code",
   "execution_count": 14,
   "metadata": {},
   "outputs": [],
   "source": [
    "from sklearn.model_selection import train_test_split\n",
    "\n",
    "X_train, X_temp, y_train, y_temp = train_test_split(X, y, test_size=0.2, \n",
    "                                                    random_state=42, stratify=y)\n",
    "\n",
    "#split 20% test+validation into 10%test dan 10%validation\n",
    "X_val, X_test, y_val, y_test = train_test_split(X_temp, y_temp, \n",
    "                                               test_size=0.5, random_state=42,stratify=y_temp)"
   ]
  },
  {
   "cell_type": "code",
   "execution_count": 15,
   "metadata": {},
   "outputs": [
    {
     "name": "stdout",
     "output_type": "stream",
     "text": [
      "Training set size: 14640\n",
      "Validation set size: 1830\n",
      "Test set size: 1831\n"
     ]
    }
   ],
   "source": [
    "print(f\"Training set size: {len(X_train)}\")\n",
    "print(f\"Validation set size: {len(X_val)}\")\n",
    "print(f\"Test set size: {len(X_test)}\")"
   ]
  },
  {
   "cell_type": "markdown",
   "metadata": {},
   "source": [
    "#### Build Tokenizer with DistilBert-base-Multilingual-uncased"
   ]
  },
  {
   "cell_type": "code",
   "execution_count": 16,
   "metadata": {},
   "outputs": [],
   "source": [
    "# import transformer library\n",
    "from transformers import AutoTokenizer, DistilBertModel, DistilBertForSequenceClassification, DistilBertTokenizer, AutoModelForSequenceClassification"
   ]
  },
  {
   "cell_type": "code",
   "execution_count": 17,
   "metadata": {},
   "outputs": [],
   "source": [
    "tokenizer = AutoTokenizer.from_pretrained(\"distilbert/distilbert-base-multilingual-cased\")"
   ]
  },
  {
   "cell_type": "markdown",
   "metadata": {},
   "source": [
    "#### Convert Dataset to Hugging Face Format"
   ]
  },
  {
   "cell_type": "code",
   "execution_count": 18,
   "metadata": {},
   "outputs": [
    {
     "name": "stdout",
     "output_type": "stream",
     "text": [
      "{'text': 'buruk  gak bisa log in', 'label': 0, '__index_level_0__': 8358}\n"
     ]
    }
   ],
   "source": [
    "from datasets import Dataset\n",
    "\n",
    "def convert_dataset(X, y):\n",
    "    return Dataset.from_pandas(pd.DataFrame({\"text\": X, \"label\": y}))\n",
    "\n",
    "train_dataset = convert_dataset(X_train, y_train)\n",
    "validation_dataset = convert_dataset(X_val, y_val)\n",
    "test_dataset = convert_dataset(X_test, y_test)\n",
    "\n",
    "label_map = {0: \"NEGATIVE\", 1: \"NEUTRAL\", 2: \"POSITIVE\"}\n",
    "\n",
    "print(train_dataset[0])"
   ]
  },
  {
   "cell_type": "markdown",
   "metadata": {},
   "source": [
    "#### Create tokenizer function"
   ]
  },
  {
   "cell_type": "code",
   "execution_count": 19,
   "metadata": {},
   "outputs": [
    {
     "name": "stdout",
     "output_type": "stream",
     "text": [
      "Dataset({\n",
      "    features: ['text', 'label', '__index_level_0__'],\n",
      "    num_rows: 14640\n",
      "})\n"
     ]
    }
   ],
   "source": [
    "print(train_dataset)"
   ]
  },
  {
   "cell_type": "code",
   "execution_count": 20,
   "metadata": {},
   "outputs": [
    {
     "data": {
      "application/vnd.jupyter.widget-view+json": {
       "model_id": "216aa6d5a6d24a88ba446e2ff78e8f05",
       "version_major": 2,
       "version_minor": 0
      },
      "text/plain": [
       "Map:   0%|          | 0/14640 [00:00<?, ? examples/s]"
      ]
     },
     "metadata": {},
     "output_type": "display_data"
    },
    {
     "data": {
      "application/vnd.jupyter.widget-view+json": {
       "model_id": "94ac2fde517a4df396b990ccb26e925c",
       "version_major": 2,
       "version_minor": 0
      },
      "text/plain": [
       "Map:   0%|          | 0/1830 [00:00<?, ? examples/s]"
      ]
     },
     "metadata": {},
     "output_type": "display_data"
    },
    {
     "data": {
      "application/vnd.jupyter.widget-view+json": {
       "model_id": "a855b333198945d9a81ee2c5069357d2",
       "version_major": 2,
       "version_minor": 0
      },
      "text/plain": [
       "Map:   0%|          | 0/1831 [00:00<?, ? examples/s]"
      ]
     },
     "metadata": {},
     "output_type": "display_data"
    }
   ],
   "source": [
    "def tokenize_function(examples):\n",
    "    return tokenizer(examples[\"text\"], padding=\"max_length\", truncation=True, max_length=128)\n",
    "\n",
    "#apply tokenizer to datasets\n",
    "train_dataset = train_dataset.map(tokenize_function, batched=True)\n",
    "validation_dataset = validation_dataset.map(tokenize_function, batched=True)\n",
    "test_dataset= test_dataset.map(tokenize_function, batched=True)\n",
    "\n",
    "# Remove text column as it's no longer needed\n",
    "train_dataset = train_dataset.remove_columns([\"text\"])\n",
    "validation_dataset = validation_dataset.remove_columns([\"text\"])\n",
    "test_dataset= test_dataset.remove_columns([\"text\"])\n",
    "\n",
    "# Convert labels to int format\n",
    "train_dataset = train_dataset.with_format(\"torch\")\n",
    "validation_dataset  = validation_dataset.with_format(\"torch\")\n",
    "test_dataset = test_dataset.with_format(\"torch\")"
   ]
  },
  {
   "cell_type": "code",
   "execution_count": 21,
   "metadata": {},
   "outputs": [],
   "source": [
    "import evaluate\n",
    "\n",
    "metric = evaluate.load(\"accuracy\")\n",
    "\n",
    "def compute_metrics(eval_pred):\n",
    "    logits, labels = eval_pred\n",
    "    predictions = np.argmax(logits, axis=-1)\n",
    "    accuracy = metric.compute(predictions=predictions, references=labels)\n",
    "    return {\"accuracy\": accuracy[\"accuracy\"]}"
   ]
  },
  {
   "cell_type": "markdown",
   "metadata": {},
   "source": [
    "#### Define Trainer and looping"
   ]
  },
  {
   "cell_type": "code",
   "execution_count": 22,
   "metadata": {},
   "outputs": [
    {
     "name": "stderr",
     "output_type": "stream",
     "text": [
      "Some weights of DistilBertForSequenceClassification were not initialized from the model checkpoint at distilbert/distilbert-base-multilingual-cased and are newly initialized: ['classifier.bias', 'classifier.weight', 'pre_classifier.bias', 'pre_classifier.weight']\n",
      "You should probably TRAIN this model on a down-stream task to be able to use it for predictions and inference.\n",
      "c:\\Users\\Darren\\anaconda3\\envs\\pytorch_nvidia\\lib\\site-packages\\transformers\\optimization.py:591: FutureWarning: This implementation of AdamW is deprecated and will be removed in a future version. Use the PyTorch implementation torch.optim.AdamW instead, or set `no_deprecation_warning=True` to disable this warning\n",
      "  warnings.warn(\n",
      "C:\\Users\\Darren\\AppData\\Local\\Temp\\ipykernel_11128\\4286733339.py:44: FutureWarning: `tokenizer` is deprecated and will be removed in version 5.0.0 for `Trainer.__init__`. Use `processing_class` instead.\n",
      "  trainer = Trainer(\n"
     ]
    },
    {
     "data": {
      "application/vnd.jupyter.widget-view+json": {
       "model_id": "739528823d43459e8ef882b9d1a41207",
       "version_major": 2,
       "version_minor": 0
      },
      "text/plain": [
       "  0%|          | 0/2742 [00:00<?, ?it/s]"
      ]
     },
     "metadata": {},
     "output_type": "display_data"
    },
    {
     "data": {
      "application/vnd.jupyter.widget-view+json": {
       "model_id": "726b9db9470b491d9635d13b47fb919f",
       "version_major": 2,
       "version_minor": 0
      },
      "text/plain": [
       "  0%|          | 0/229 [00:00<?, ?it/s]"
      ]
     },
     "metadata": {},
     "output_type": "display_data"
    },
    {
     "name": "stdout",
     "output_type": "stream",
     "text": [
      "{'eval_loss': 0.709128201007843, 'eval_accuracy': 0.7021857923497268, 'eval_runtime': 16.7247, 'eval_samples_per_second': 109.419, 'eval_steps_per_second': 13.692, 'epoch': 1.0}\n"
     ]
    },
    {
     "data": {
      "application/vnd.jupyter.widget-view+json": {
       "model_id": "9f422600ff7b4f4281afc75f7f0b1942",
       "version_major": 2,
       "version_minor": 0
      },
      "text/plain": [
       "  0%|          | 0/229 [00:00<?, ?it/s]"
      ]
     },
     "metadata": {},
     "output_type": "display_data"
    },
    {
     "name": "stdout",
     "output_type": "stream",
     "text": [
      "{'eval_loss': 0.5531932711601257, 'eval_accuracy': 0.7786885245901639, 'eval_runtime': 15.7536, 'eval_samples_per_second': 116.164, 'eval_steps_per_second': 14.536, 'epoch': 2.0}\n",
      "{'loss': 0.7264, 'grad_norm': 72.9449234008789, 'learning_rate': 1.3186979560938684e-05, 'epoch': 2.18}\n"
     ]
    },
    {
     "data": {
      "application/vnd.jupyter.widget-view+json": {
       "model_id": "ed88e8155479488983f2d6c4c735fab4",
       "version_major": 2,
       "version_minor": 0
      },
      "text/plain": [
       "  0%|          | 0/229 [00:00<?, ?it/s]"
      ]
     },
     "metadata": {},
     "output_type": "display_data"
    },
    {
     "name": "stdout",
     "output_type": "stream",
     "text": [
      "{'eval_loss': 0.45460739731788635, 'eval_accuracy': 0.8360655737704918, 'eval_runtime': 15.7876, 'eval_samples_per_second': 115.914, 'eval_steps_per_second': 14.505, 'epoch': 3.0}\n"
     ]
    },
    {
     "data": {
      "application/vnd.jupyter.widget-view+json": {
       "model_id": "64ed22a838a84e98a71a13ebe0ac08e8",
       "version_major": 2,
       "version_minor": 0
      },
      "text/plain": [
       "  0%|          | 0/229 [00:00<?, ?it/s]"
      ]
     },
     "metadata": {},
     "output_type": "display_data"
    },
    {
     "name": "stdout",
     "output_type": "stream",
     "text": [
      "{'eval_loss': 0.4251039922237396, 'eval_accuracy': 0.855191256830601, 'eval_runtime': 15.7515, 'eval_samples_per_second': 116.179, 'eval_steps_per_second': 14.538, 'epoch': 4.0}\n",
      "{'loss': 0.3585, 'grad_norm': 37.82368850708008, 'learning_rate': 5.616956850870553e-06, 'epoch': 4.37}\n"
     ]
    },
    {
     "data": {
      "application/vnd.jupyter.widget-view+json": {
       "model_id": "ad99eb5b37354a53b83ef4b32e6deb39",
       "version_major": 2,
       "version_minor": 0
      },
      "text/plain": [
       "  0%|          | 0/229 [00:00<?, ?it/s]"
      ]
     },
     "metadata": {},
     "output_type": "display_data"
    },
    {
     "name": "stdout",
     "output_type": "stream",
     "text": [
      "{'eval_loss': 0.422268271446228, 'eval_accuracy': 0.8579234972677595, 'eval_runtime': 15.7547, 'eval_samples_per_second': 116.156, 'eval_steps_per_second': 14.535, 'epoch': 5.0}\n"
     ]
    },
    {
     "data": {
      "application/vnd.jupyter.widget-view+json": {
       "model_id": "d2c845f70f8043518eb4c049e0be264f",
       "version_major": 2,
       "version_minor": 0
      },
      "text/plain": [
       "  0%|          | 0/229 [00:00<?, ?it/s]"
      ]
     },
     "metadata": {},
     "output_type": "display_data"
    },
    {
     "name": "stdout",
     "output_type": "stream",
     "text": [
      "{'eval_loss': 0.44249027967453003, 'eval_accuracy': 0.8573770491803279, 'eval_runtime': 15.7203, 'eval_samples_per_second': 116.41, 'eval_steps_per_second': 14.567, 'epoch': 5.99}\n",
      "{'train_runtime': 2969.2658, 'train_samples_per_second': 29.583, 'train_steps_per_second': 0.923, 'train_loss': 0.458192314743387, 'epoch': 5.99}\n"
     ]
    },
    {
     "data": {
      "text/plain": [
       "TrainOutput(global_step=2742, training_loss=0.458192314743387, metrics={'train_runtime': 2969.2658, 'train_samples_per_second': 29.583, 'train_steps_per_second': 0.923, 'total_flos': 2903207282601984.0, 'train_loss': 0.458192314743387, 'epoch': 5.987978142076503})"
      ]
     },
     "execution_count": 22,
     "metadata": {},
     "output_type": "execute_result"
    }
   ],
   "source": [
    "from transformers import TrainingArguments, Trainer, AutoModelForSequenceClassification, EarlyStoppingCallback, AdamW, get_scheduler\n",
    "# load model\n",
    "model = AutoModelForSequenceClassification.from_pretrained(\"distilbert/distilbert-base-multilingual-cased\",\n",
    "                                                           num_labels=3).to(device)\n",
    "\n",
    "# enable gpu optimizations\n",
    "torch.backends.cudnn.benchmark = True\n",
    "\n",
    "model.gradient_checkpointing_enable()  # Reduces memory usage during training\n",
    "\n",
    "training_args = TrainingArguments(\n",
    "    output_dir='./distilbert_oversampling_14000data',\n",
    "    learning_rate=2e-5,\n",
    "    num_train_epochs=6, #increase epochs\n",
    "    per_device_train_batch_size=8, #train batch size\n",
    "    per_device_eval_batch_size=8,  #eval batch size\n",
    "    eval_strategy=\"epoch\", # Evaluate model at the end of each epoch\n",
    "    save_strategy=\"epoch\",  # Set save_strategy to \"epoch\"\n",
    "    eval_steps=500,\n",
    "    warmup_steps=100,# increase learning rate every 100 steps\n",
    "    weight_decay=0.01,\n",
    "    logging_dir='./logs',\n",
    "    logging_steps=1000,\n",
    "    fp16=False, #Gpu Optimization if capable yes, if not FALSE\n",
    "    push_to_hub=False,\n",
    "    load_best_model_at_end=True,\n",
    "    metric_for_best_model=\"accuracy\",\n",
    "    gradient_accumulation_steps=4, #simulates larger batch size\n",
    "    report_to=\"none\", \n",
    "    max_grad_norm=0.5  # clips gradient to prevent explosions\n",
    ")\n",
    "\n",
    "# using AdamW Optimizer\n",
    "optimizer = AdamW(model.parameters(), lr=training_args.learning_rate, betas= (0.9, 0.98), weight_decay=training_args.weight_decay)\n",
    "\n",
    "num_training_steps = len(train_dataset) // (training_args.per_device_train_batch_size * training_args.gradient_accumulation_steps) * training_args.num_train_epochs\n",
    "lr_scheduler =  get_scheduler(\n",
    "    name=\"linear\",\n",
    "    optimizer=optimizer,\n",
    "    num_warmup_steps=training_args.warmup_steps,\n",
    "    num_training_steps=num_training_steps\n",
    ")\n",
    "\n",
    "trainer = Trainer(\n",
    "    model=model,\n",
    "    args=training_args,\n",
    "    train_dataset=train_dataset,\n",
    "    eval_dataset=validation_dataset,\n",
    "    tokenizer=tokenizer,\n",
    "    compute_metrics=compute_metrics,\n",
    "    optimizers=(optimizer, lr_scheduler) #manual optimizer + scheduler\n",
    ")\n",
    "\n",
    "trainer.train()"
   ]
  },
  {
   "cell_type": "markdown",
   "metadata": {},
   "source": [
    "#### Evaluate Model"
   ]
  },
  {
   "cell_type": "code",
   "execution_count": 23,
   "metadata": {},
   "outputs": [],
   "source": [
    "from sklearn.metrics import classification_report, confusion_matrix\n",
    "\n",
    "import numpy as np\n",
    "import seaborn as sns\n",
    "import matplotlib.pyplot as plt"
   ]
  },
  {
   "cell_type": "code",
   "execution_count": 27,
   "metadata": {},
   "outputs": [
    {
     "data": {
      "application/vnd.jupyter.widget-view+json": {
       "model_id": "20e6aba5c3c0499ea795a573de77887c",
       "version_major": 2,
       "version_minor": 0
      },
      "text/plain": [
       "  0%|          | 0/229 [00:00<?, ?it/s]"
      ]
     },
     "metadata": {},
     "output_type": "display_data"
    },
    {
     "name": "stdout",
     "output_type": "stream",
     "text": [
      "6 Epochs, LR 2e-5 fp16 False, train&eval batch size = 8, max_grad_norm = 0.5, gradient_accumulation= 4\n",
      "Test Accuracy: 86.07%\n",
      "\n",
      "              precision    recall  f1-score   support\n",
      "\n",
      "    NEGATIVE       0.86      0.86      0.86       745\n",
      "     NEUTRAL       0.86      0.98      0.91       543\n",
      "    POSITIVE       0.87      0.75      0.81       543\n",
      "\n",
      "    accuracy                           0.86      1831\n",
      "   macro avg       0.86      0.86      0.86      1831\n",
      "weighted avg       0.86      0.86      0.86      1831\n",
      "\n"
     ]
    }
   ],
   "source": [
    "from sklearn.metrics import accuracy_score\n",
    "\n",
    "predictions = trainer.predict(test_dataset)\n",
    "preds = np.argmax(predictions.predictions, axis=1)\n",
    "\n",
    "accuracy = accuracy_score(y_test, preds) *100\n",
    "\n",
    "#print classification report\n",
    "print(\"6 Epochs, LR 2e-5 fp16 False, train&eval batch size = 8, max_grad_norm = 0.5, gradient_accumulation= 4\")\n",
    "print(f\"Test Accuracy: {accuracy:.2f}%\\n\")\n",
    "print(classification_report(y_test, preds, target_names=list(label_map.values())))"
   ]
  },
  {
   "cell_type": "markdown",
   "metadata": {},
   "source": [
    "##### Confusion Matrix"
   ]
  },
  {
   "cell_type": "code",
   "execution_count": 28,
   "metadata": {},
   "outputs": [
    {
     "data": {
      "image/png": "[encoded data removed]",
      "text/plain": [
       "<Figure size 640x480 with 2 Axes>"
      ]
     },
     "metadata": {},
     "output_type": "display_data"
    }
   ],
   "source": [
    "cm = confusion_matrix(y_test, preds)\n",
    "sns.heatmap(cm, annot=True, fmt='d', cmap=\"Blues\", xticklabels=list(label_map.values()), yticklabels=list(label_map.values()))\n",
    "plt.xlabel(\"Predicted\")\n",
    "plt.ylabel(\"Actual\")\n",
    "plt.title(\"6 Epochs, LR 3e-5 fp16 False, train&eval batch size = 8\\n, max_grad_norm = 0.5, gradient_accumulation= 4\")\n",
    "plt.show()"
   ]
  },
  {
   "cell_type": "markdown",
   "metadata": {},
   "source": [
    "#### Train and eval loss"
   ]
  },
  {
   "cell_type": "code",
   "execution_count": 29,
   "metadata": {},
   "outputs": [
    {
     "data": {
      "image/png": "[encoded data removed]",
      "text/plain": [
       "<Figure size 800x500 with 1 Axes>"
      ]
     },
     "metadata": {},
     "output_type": "display_data"
    }
   ],
   "source": [
    "#Train and eval loss visualization\n",
    "\n",
    "import matplotlib.pyplot as plt\n",
    "\n",
    "train_loss = [log[\"loss\"]for log in trainer.state.log_history if \"loss\" in log]\n",
    "eval_loss = [log[\"eval_loss\"]for log in trainer.state.log_history if \"eval_loss\" in log]\n",
    "\n",
    "#generate epochs in range\n",
    "epochs = list(range(1, len(eval_loss) + 1))\n",
    "\n",
    "# plot training dan validation loss\n",
    "plt.figure(figsize=(8,5))\n",
    "plt.plot(range(1, len(train_loss)+ 1), train_loss, label=\"Train loss\", marker=\"o\", linestyle=\"dashed\")\n",
    "plt.plot(epochs, eval_loss, label=\"Validation Loss\", marker=\"s\")\n",
    "\n",
    "plt.xlabel(\"Epoch\")\n",
    "plt.ylabel(\"Loss\")\n",
    "plt.title(\"Train vs loss: 6 Epochs, LR 3e-5 fp16 False, train&eval batch size = 8\\n, max_grad_norm = 0.5, gradient_accumulation= 4\")\n",
    "plt.legend()\n",
    "plt.grid()\n",
    "plt.show()\n"
   ]
  },
  {
   "cell_type": "markdown",
   "metadata": {},
   "source": [
    "#### Improving Neutral Classification"
   ]
  },
  {
   "cell_type": "code",
   "execution_count": 40,
   "metadata": {},
   "outputs": [
    {
     "name": "stdout",
     "output_type": "stream",
     "text": [
      "['POSITIVE', 'POSITIVE', 'NEGATIVE']\n"
     ]
    }
   ],
   "source": [
    "def custom_predict(trainer, text_list):\n",
    "    tokens = tokenizer(text_list, padding=True, truncation=True, max_length=128, return_tensors='pt').to(device)\n",
    "\n",
    "    # Get model predictions (logits)\n",
    "    outputs = trainer.model(**tokens)\n",
    "    logits = outputs.logits.detach().cpu().numpy()\n",
    "\n",
    "    probs = np.exp(logits) / np.exp(logits).sum(axis=-1, keepdims=True)\n",
    "\n",
    "    preds = []\n",
    "    for prob in probs:\n",
    "        if 0.35 < prob[1] < 0.65:\n",
    "            preds.append(1) #Neutral\n",
    "        else:\n",
    "            preds.append(np.argmax(prob))\n",
    "    return [label_map[p]for p in preds]\n",
    "\n",
    "# text example\n",
    "texts = ['Aplikasinya biasa aja','A really good app for mobile banking', 'aplikasi jelek banyak virusnya']\n",
    "print(custom_predict(trainer, texts))"
   ]
  },
  {
   "cell_type": "code",
   "execution_count": 30,
   "metadata": {},
   "outputs": [],
   "source": [
    "def dynamic_neutral_threshold(logits):\n",
    "    \"\"\"\n",
    "    Automatically calculate best neutral threshold\n",
    "    \"\"\"\n",
    "    probs = torch.nn.functional.softmax(torch.tensor(logits), dim=-1).numpy()\n",
    "\n",
    "    # Get the average confidence of neutral class across all predictions\n",
    "    neutral_probs = probs[:, 1] # Extract neutral class probabilities\n",
    "\n",
    "    # Compute mean and standard deviation of neutral scores\n",
    "    mean_neutral = np.mean(neutral_probs)\n",
    "    std_neutral = np.std(neutral_probs)\n",
    "\n",
    "    neutral_low = max(0.35, mean_neutral - 0.5 * std_neutral)\n",
    "    neutral_high = max(0.65, mean_neutral + 0.5 * std_neutral)\n",
    "\n",
    "    return neutral_low, neutral_high\n",
    "\n",
    "def custom_predict(trainer,text_list):\n",
    "    tokens = tokenizer(text_list, padding=True, truncation=True, max_length=128, return_tensors='pt').to(device)\n",
    "\n",
    "    # Get model predictions (logits)\n",
    "    outputs = trainer.model(**tokens)\n",
    "    logits = outputs.logits.detach().cpu().numpy()\n",
    "\n",
    "    # Use softmax for stability\n",
    "    probs = torch.nn.functional.softmax(torch.tensor(logits), dim=-1).numpy()\n",
    "\n",
    "    # Get dynamic\n",
    "    neutral_low, neutral_high = dynamic_neutral_threshold(logits)\n",
    "\n",
    "    preds = []\n",
    "    for prob in probs:\n",
    "        if neutral_low < prob[1] < neutral_high:\n",
    "            preds.append(1) #Neutral\n",
    "        else:\n",
    "            preds.append(np.argmax(prob)) #use highest probability\n",
    "\n",
    "    return[label_map[p]for p in preds]"
   ]
  },
  {
   "cell_type": "code",
   "execution_count": 31,
   "metadata": {},
   "outputs": [
    {
     "data": {
      "text/plain": [
       "('distilbert2e5_run2\\\\tokenizer_config.json',\n",
       " 'distilbert2e5_run2\\\\special_tokens_map.json',\n",
       " 'distilbert2e5_run2\\\\vocab.txt',\n",
       " 'distilbert2e5_run2\\\\added_tokens.json',\n",
       " 'distilbert2e5_run2\\\\tokenizer.json')"
      ]
     },
     "execution_count": 31,
     "metadata": {},
     "output_type": "execute_result"
    }
   ],
   "source": [
    "trainer.save_model(\"distilbert2e5_run2\")\n",
    "tokenizer.save_pretrained(\"distilbert2e5_run2\")"
   ]
  },
  {
   "cell_type": "markdown",
   "metadata": {},
   "source": [
    "#### Inference simple test using pipeline"
   ]
  },
  {
   "cell_type": "code",
   "execution_count": 32,
   "metadata": {},
   "outputs": [],
   "source": [
    "# from transformers import pipeline\n",
    "\n",
    "# classifier = pipeline(\"sentiment-analysis\", model=\"distilbert1\")\n",
    "\n",
    "# #Inference on new texts\n",
    "# texts = [\"Transfer dana berjalan lancar, tetapi menambahkan rekening baru agak rumit.\"]\n",
    "# predictions = classifier(texts)\n",
    "\n",
    "# #print results\n",
    "# for text, pred in zip(texts, predictions):\n",
    "#     print(f\"Text: {text}\\nSentiment: {pred['label']} (Confidence: {pred['score']:.2f})\")"
   ]
  },
  {
   "cell_type": "code",
   "execution_count": 32,
   "metadata": {},
   "outputs": [
    {
     "name": "stderr",
     "output_type": "stream",
     "text": [
      "Device set to use cuda:0\n"
     ]
    },
    {
     "name": "stdout",
     "output_type": "stream",
     "text": [
      "Text: Notifikasi SMS kadang tidak muncul meskipun transaksi berhasil\n",
      "Sentiment: NEUTRAL ('Confidence': 0.4512)\n"
     ]
    }
   ],
   "source": [
    "from transformers import AutoModelForSequenceClassification, AutoTokenizer, pipeline\n",
    "import numpy as np\n",
    "\n",
    "model_name = \"distilbert2e5_run2\"\n",
    "model = AutoModelForSequenceClassification.from_pretrained(model_name)\n",
    "tokenizer= AutoTokenizer.from_pretrained(model_name)\n",
    "\n",
    "#define classifier\n",
    "classifier = pipeline(\"sentiment-analysis\", model=model, tokenizer=tokenizer, top_k=None)\n",
    "\n",
    "#label mapping\n",
    "label_map = {\"LABEL_0\": \"NEGATIVE\", \"LABEL_1\": \"NEUTRAL\", \"LABEL_2\": \"POSITIVE\"}\n",
    "\n",
    "#inference\n",
    "texts = [\"Notifikasi SMS kadang tidak muncul meskipun transaksi berhasil\"]\n",
    "predictions = classifier(texts)\n",
    "\n",
    "for text, scores in zip(texts, predictions):\n",
    "    # Find best label with highest confidence\n",
    "    best_pred = max(scores, key=lambda x: x['score'])\n",
    "    best_label = label_map[best_pred['label']]\n",
    "\n",
    "    print(f\"Text: {text}\\nSentiment: {best_label} ('Confidence': {best_pred['score']:.4f})\")"
   ]
  },
  {
   "cell_type": "markdown",
   "metadata": {},
   "source": [
    "### Test on Dataset "
   ]
  },
  {
   "cell_type": "code",
   "execution_count": 33,
   "metadata": {},
   "outputs": [
    {
     "name": "stderr",
     "output_type": "stream",
     "text": [
      "Device set to use cuda:0\n"
     ]
    }
   ],
   "source": [
    "from transformers import AutoModelForSequenceClassification, AutoTokenizer, pipeline\n",
    "import numpy as np\n",
    "import pandas as pd\n",
    "\n",
    "model_name = \"distilbert2e5_run2\"\n",
    "model = AutoModelForSequenceClassification.from_pretrained(model_name)\n",
    "tokenizer= AutoTokenizer.from_pretrained(model_name)\n",
    "\n",
    "#define classifier\n",
    "classifier = pipeline(\"sentiment-analysis\", model=model, tokenizer=tokenizer, top_k=None)\n",
    "\n",
    "#label mapping\n",
    "label_map = {\"LABEL_0\": \"NEGATIVE\", \"LABEL_1\": \"NEUTRAL\", \"LABEL_2\": \"POSITIVE\"}\n",
    "\n",
    "df = pd.read_csv(\"bca_preprocessed_data.csv\")\n",
    "\n",
    "df_sample = df.sample(n=30, random_state=20) #test 30 sample from test dataset\n",
    "\n",
    "texts = df_sample[\"content\"].tolist()\n",
    "predictions = classifier(texts)\n",
    "\n",
    "sentiment_results = []\n",
    "confidence_scores = []\n",
    "\n",
    "for scores in predictions:\n",
    "    best_pred = max(scores, key=lambda x: x['score'])\n",
    "    best_label = label_map[best_pred['label']]\n",
    "    best_score = best_pred['score']\n",
    "\n",
    "    sentiment_results.append(best_label)\n",
    "    confidence_scores.append(round(best_score, 4))\n",
    "\n",
    "df_sample[\"predictions\"] = sentiment_results\n",
    "df_sample[\"confidence_score\"] = confidence_scores\n",
    "\n",
    "\n",
    "# Select columns to show later\n",
    "df_sample = df_sample[[\"content\",\"confidence_score\",\"predictions\"]]"
   ]
  },
  {
   "cell_type": "code",
   "execution_count": 34,
   "metadata": {},
   "outputs": [
    {
     "data": {
      "text/html": [
       "<div>\n",
       "<style scoped>\n",
       "    .dataframe tbody tr th:only-of-type {\n",
       "        vertical-align: middle;\n",
       "    }\n",
       "\n",
       "    .dataframe tbody tr th {\n",
       "        vertical-align: top;\n",
       "    }\n",
       "\n",
       "    .dataframe thead th {\n",
       "        text-align: right;\n",
       "    }\n",
       "</style>\n",
       "<table border=\"1\" class=\"dataframe\">\n",
       "  <thead>\n",
       "    <tr style=\"text-align: right;\">\n",
       "      <th></th>\n",
       "      <th>content</th>\n",
       "      <th>confidence_score</th>\n",
       "      <th>predictions</th>\n",
       "    </tr>\n",
       "  </thead>\n",
       "  <tbody>\n",
       "    <tr>\n",
       "      <th>8398</th>\n",
       "      <td>eror mulu gmn pakenya</td>\n",
       "      <td>0.9621</td>\n",
       "      <td>NEGATIVE</td>\n",
       "    </tr>\n",
       "    <tr>\n",
       "      <th>12483</th>\n",
       "      <td>the ui looks like something from the earliest ...</td>\n",
       "      <td>0.9713</td>\n",
       "      <td>NEGATIVE</td>\n",
       "    </tr>\n",
       "    <tr>\n",
       "      <th>6909</th>\n",
       "      <td>nutup sendiri pake cara yg di info di review j...</td>\n",
       "      <td>0.9848</td>\n",
       "      <td>POSITIVE</td>\n",
       "    </tr>\n",
       "    <tr>\n",
       "      <th>2680</th>\n",
       "      <td>ini gimna udh ke sekian kalinya verifikasi ula...</td>\n",
       "      <td>0.9683</td>\n",
       "      <td>NEGATIVE</td>\n",
       "    </tr>\n",
       "    <tr>\n",
       "      <th>12784</th>\n",
       "      <td>simple fitur lengkap ui minimalis jarang error...</td>\n",
       "      <td>0.9937</td>\n",
       "      <td>POSITIVE</td>\n",
       "    </tr>\n",
       "    <tr>\n",
       "      <th>4207</th>\n",
       "      <td>ribet</td>\n",
       "      <td>0.9901</td>\n",
       "      <td>NEGATIVE</td>\n",
       "    </tr>\n",
       "    <tr>\n",
       "      <th>2002</th>\n",
       "      <td>woy bca ini apk masih busuk aje timbang vermuk...</td>\n",
       "      <td>0.9640</td>\n",
       "      <td>NEGATIVE</td>\n",
       "    </tr>\n",
       "    <tr>\n",
       "      <th>3168</th>\n",
       "      <td>kenapa di flazz sekarang nggak ada menu top up...</td>\n",
       "      <td>0.9144</td>\n",
       "      <td>NEUTRAL</td>\n",
       "    </tr>\n",
       "    <tr>\n",
       "      <th>535</th>\n",
       "      <td>saya disuruh merveritifikasi ulang lalu saya l...</td>\n",
       "      <td>0.9857</td>\n",
       "      <td>NEGATIVE</td>\n",
       "    </tr>\n",
       "    <tr>\n",
       "      <th>9820</th>\n",
       "      <td>hey im sorry i cant open the application and a...</td>\n",
       "      <td>0.9914</td>\n",
       "      <td>NEUTRAL</td>\n",
       "    </tr>\n",
       "    <tr>\n",
       "      <th>5967</th>\n",
       "      <td>force close setelah update v</td>\n",
       "      <td>0.9717</td>\n",
       "      <td>NEGATIVE</td>\n",
       "    </tr>\n",
       "    <tr>\n",
       "      <th>9975</th>\n",
       "      <td>jelek tidak bisa verifikasi</td>\n",
       "      <td>0.9853</td>\n",
       "      <td>NEGATIVE</td>\n",
       "    </tr>\n",
       "    <tr>\n",
       "      <th>2638</th>\n",
       "      <td>terimakasih bca mobile banking</td>\n",
       "      <td>0.9971</td>\n",
       "      <td>POSITIVE</td>\n",
       "    </tr>\n",
       "    <tr>\n",
       "      <th>391</th>\n",
       "      <td>mantap mendukung</td>\n",
       "      <td>0.9972</td>\n",
       "      <td>POSITIVE</td>\n",
       "    </tr>\n",
       "    <tr>\n",
       "      <th>12332</th>\n",
       "      <td>pembacaan nfc flash selalu gagal  membuat pros...</td>\n",
       "      <td>0.9626</td>\n",
       "      <td>NEGATIVE</td>\n",
       "    </tr>\n",
       "    <tr>\n",
       "      <th>12162</th>\n",
       "      <td>new update nyusahin hidup orang suruh verifika...</td>\n",
       "      <td>0.9864</td>\n",
       "      <td>NEGATIVE</td>\n",
       "    </tr>\n",
       "    <tr>\n",
       "      <th>6001</th>\n",
       "      <td>bca lagi kenapa ya ko mau masuk mental lagi</td>\n",
       "      <td>0.9827</td>\n",
       "      <td>POSITIVE</td>\n",
       "    </tr>\n",
       "    <tr>\n",
       "      <th>3722</th>\n",
       "      <td>wr</td>\n",
       "      <td>0.9462</td>\n",
       "      <td>POSITIVE</td>\n",
       "    </tr>\n",
       "    <tr>\n",
       "      <th>6330</th>\n",
       "      <td>selama ini tidak ada kendala tapi sudah bebera...</td>\n",
       "      <td>0.6060</td>\n",
       "      <td>POSITIVE</td>\n",
       "    </tr>\n",
       "    <tr>\n",
       "      <th>6174</th>\n",
       "      <td>nggak bisa jalan crash melulu update terima ka...</td>\n",
       "      <td>0.9148</td>\n",
       "      <td>POSITIVE</td>\n",
       "    </tr>\n",
       "  </tbody>\n",
       "</table>\n",
       "</div>"
      ],
      "text/plain": [
       "                                                 content  confidence_score  \\\n",
       "8398                               eror mulu gmn pakenya            0.9621   \n",
       "12483  the ui looks like something from the earliest ...            0.9713   \n",
       "6909   nutup sendiri pake cara yg di info di review j...            0.9848   \n",
       "2680   ini gimna udh ke sekian kalinya verifikasi ula...            0.9683   \n",
       "12784  simple fitur lengkap ui minimalis jarang error...            0.9937   \n",
       "4207                                               ribet            0.9901   \n",
       "2002   woy bca ini apk masih busuk aje timbang vermuk...            0.9640   \n",
       "3168   kenapa di flazz sekarang nggak ada menu top up...            0.9144   \n",
       "535    saya disuruh merveritifikasi ulang lalu saya l...            0.9857   \n",
       "9820   hey im sorry i cant open the application and a...            0.9914   \n",
       "5967                        force close setelah update v            0.9717   \n",
       "9975                         jelek tidak bisa verifikasi            0.9853   \n",
       "2638                      terimakasih bca mobile banking            0.9971   \n",
       "391                                     mantap mendukung            0.9972   \n",
       "12332  pembacaan nfc flash selalu gagal  membuat pros...            0.9626   \n",
       "12162  new update nyusahin hidup orang suruh verifika...            0.9864   \n",
       "6001         bca lagi kenapa ya ko mau masuk mental lagi            0.9827   \n",
       "3722                                                  wr            0.9462   \n",
       "6330   selama ini tidak ada kendala tapi sudah bebera...            0.6060   \n",
       "6174   nggak bisa jalan crash melulu update terima ka...            0.9148   \n",
       "\n",
       "      predictions  \n",
       "8398     NEGATIVE  \n",
       "12483    NEGATIVE  \n",
       "6909     POSITIVE  \n",
       "2680     NEGATIVE  \n",
       "12784    POSITIVE  \n",
       "4207     NEGATIVE  \n",
       "2002     NEGATIVE  \n",
       "3168      NEUTRAL  \n",
       "535      NEGATIVE  \n",
       "9820      NEUTRAL  \n",
       "5967     NEGATIVE  \n",
       "9975     NEGATIVE  \n",
       "2638     POSITIVE  \n",
       "391      POSITIVE  \n",
       "12332    NEGATIVE  \n",
       "12162    NEGATIVE  \n",
       "6001     POSITIVE  \n",
       "3722     POSITIVE  \n",
       "6330     POSITIVE  \n",
       "6174     POSITIVE  "
      ]
     },
     "execution_count": 34,
     "metadata": {},
     "output_type": "execute_result"
    }
   ],
   "source": [
    "df_sample.head(20)"
   ]
  },
  {
   "cell_type": "markdown",
   "metadata": {},
   "source": [
    "#### Save to Pickle for Deployment"
   ]
  },
  {
   "cell_type": "code",
   "execution_count": 5,
   "metadata": {},
   "outputs": [
    {
     "name": "stdout",
     "output_type": "stream",
     "text": [
      "saved successfully✅\n"
     ]
    }
   ],
   "source": [
    "import pickle\n",
    "import torch\n",
    "\n",
    "from transformers import AutoModelForSequenceClassification, AutoTokenizer\n",
    "\n",
    "#load trained model\n",
    "model_name = \"distilbert1\"\n",
    "model = AutoModelForSequenceClassification.from_pretrained(model_name)\n",
    "tokenizer = AutoTokenizer.from_pretrained(model_name)\n",
    "\n",
    "#save model\n",
    "model_save_path = \"model/distilbert_1_model3epoch.pkl\"\n",
    "tokenizer_save_path = \"model/tokenizer_3epoch.pkl\"\n",
    "\n",
    "with open(model_save_path, \"wb\")as f:\n",
    "    pickle.dump(model, f)\n",
    "\n",
    "with open(tokenizer_save_path, \"wb\") as f:\n",
    "    pickle.dump(tokenizer, f)\n",
    "\n",
    "print(\"saved successfully✅\")\n",
    "\n"
   ]
  },
  {
   "cell_type": "code",
   "execution_count": 6,
   "metadata": {},
   "outputs": [
    {
     "name": "stdout",
     "output_type": "stream",
     "text": [
      "<class 'transformers.models.distilbert.tokenization_distilbert_fast.DistilBertTokenizerFast'>\n"
     ]
    }
   ],
   "source": [
    "print(type(tokenizer))  # It should be <class 'transformers.PreTrainedTokenizerFast'> or similar\n"
   ]
  }
 ],
 "metadata": {
  "kernelspec": {
   "display_name": "pytorch_nvidia",
   "language": "python",
   "name": "python3"
  },
  "language_info": {
   "codemirror_mode": {
    "name": "ipython",
    "version": 3
   },
   "file_extension": ".py",
   "mimetype": "text/x-python",
   "name": "python",
   "nbconvert_exporter": "python",
   "pygments_lexer": "ipython3",
   "version": "3.10.0"
  }
 },
 "nbformat": 4,
 "nbformat_minor": 2
}
