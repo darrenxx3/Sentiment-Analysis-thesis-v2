{
 "cells": [
  {
   "cell_type": "markdown",
   "metadata": {},
   "source": [
    "### Import Library 📚\n"
   ]
  },
  {
   "cell_type": "code",
   "execution_count": 1,
   "metadata": {},
   "outputs": [],
   "source": [
    "import pandas as pd\n",
    "import numpy as np\n",
    "import re"
   ]
  },
  {
   "cell_type": "code",
   "execution_count": 2,
   "metadata": {},
   "outputs": [
    {
     "name": "stdout",
     "output_type": "stream",
     "text": [
      "Number of GPU:  1\n",
      "GPU Name:  NVIDIA GeForce GTX 1650\n",
      "GPU: NVIDIA GeForce GTX 1650 is available.\n"
     ]
    }
   ],
   "source": [
    "import torch\n",
    "\n",
    "print(\"Number of GPU: \", torch.cuda.device_count())\n",
    "print(\"GPU Name: \", torch.cuda.get_device_name())\n",
    "\n",
    "if torch.cuda.is_available():\n",
    "    print(f\"GPU: {torch.cuda.get_device_name(0)} is available.\")\n",
    "else:\n",
    "    print(\"No GPU available. Training will run on CPU.\")"
   ]
  },
  {
   "cell_type": "code",
   "execution_count": 3,
   "metadata": {},
   "outputs": [
    {
     "name": "stdout",
     "output_type": "stream",
     "text": [
      "cuda\n"
     ]
    }
   ],
   "source": [
    "#Configure device: Set the device configuration to GPU using the torch.device class in PyTorch:\n",
    "\n",
    "device = torch.device(\"cuda\" if torch.cuda.is_available() else \"cpu\")\n",
    "print(device)"
   ]
  },
  {
   "cell_type": "markdown",
   "metadata": {},
   "source": [
    "#### Load Data"
   ]
  },
  {
   "cell_type": "code",
   "execution_count": 4,
   "metadata": {},
   "outputs": [
    {
     "data": {
      "text/html": [
       "<div>\n",
       "<style scoped>\n",
       "    .dataframe tbody tr th:only-of-type {\n",
       "        vertical-align: middle;\n",
       "    }\n",
       "\n",
       "    .dataframe tbody tr th {\n",
       "        vertical-align: top;\n",
       "    }\n",
       "\n",
       "    .dataframe thead th {\n",
       "        text-align: right;\n",
       "    }\n",
       "</style>\n",
       "<table border=\"1\" class=\"dataframe\">\n",
       "  <thead>\n",
       "    <tr style=\"text-align: right;\">\n",
       "      <th></th>\n",
       "      <th>reviewId</th>\n",
       "      <th>userName</th>\n",
       "      <th>userImage</th>\n",
       "      <th>content</th>\n",
       "      <th>score</th>\n",
       "      <th>thumbsUpCount</th>\n",
       "      <th>reviewCreatedVersion</th>\n",
       "      <th>at</th>\n",
       "      <th>replyContent</th>\n",
       "      <th>repliedAt</th>\n",
       "      <th>appVersion</th>\n",
       "    </tr>\n",
       "  </thead>\n",
       "  <tbody>\n",
       "    <tr>\n",
       "      <th>0</th>\n",
       "      <td>d46e2914-795d-479c-a59f-a91cf3c2c475</td>\n",
       "      <td>Pengguna Google</td>\n",
       "      <td>https://play-lh.googleusercontent.com/EGemoI2N...</td>\n",
       "      <td>Mohon donk kembalikan tanda biru hitam saat li...</td>\n",
       "      <td>1</td>\n",
       "      <td>0</td>\n",
       "      <td>4.5.7</td>\n",
       "      <td>2025-01-25 10:22:40</td>\n",
       "      <td>Mohon maaf atas ketidaknyamanan Bapak/Ibu, moh...</td>\n",
       "      <td>2025-01-25 10:33:13</td>\n",
       "      <td>4.5.7</td>\n",
       "    </tr>\n",
       "    <tr>\n",
       "      <th>1</th>\n",
       "      <td>2e383ccf-8c54-4f0f-a335-378060c6037b</td>\n",
       "      <td>Pengguna Google</td>\n",
       "      <td>https://play-lh.googleusercontent.com/EGemoI2N...</td>\n",
       "      <td>Kenapa sekarang untuk transfer ke blu bca ada ...</td>\n",
       "      <td>2</td>\n",
       "      <td>0</td>\n",
       "      <td>4.5.7</td>\n",
       "      <td>2025-01-25 09:42:28</td>\n",
       "      <td>Mhn maaf ats ketidaknyamanannya Bapak/Ibu, efe...</td>\n",
       "      <td>2025-01-25 10:22:09</td>\n",
       "      <td>4.5.7</td>\n",
       "    </tr>\n",
       "    <tr>\n",
       "      <th>2</th>\n",
       "      <td>6c5f1e51-4a74-4277-8e95-54dad6892f80</td>\n",
       "      <td>Pengguna Google</td>\n",
       "      <td>https://play-lh.googleusercontent.com/EGemoI2N...</td>\n",
       "      <td>Oke Terimakasih</td>\n",
       "      <td>5</td>\n",
       "      <td>0</td>\n",
       "      <td>4.5.7</td>\n",
       "      <td>2025-01-25 08:57:48</td>\n",
       "      <td>Terima kasih atas ulasannya. Semoga aplikasi B...</td>\n",
       "      <td>2025-01-25 10:33:46</td>\n",
       "      <td>4.5.7</td>\n",
       "    </tr>\n",
       "    <tr>\n",
       "      <th>3</th>\n",
       "      <td>2e6d1b59-a8ac-4d14-bd4b-8ea099def924</td>\n",
       "      <td>Pengguna Google</td>\n",
       "      <td>https://play-lh.googleusercontent.com/EGemoI2N...</td>\n",
       "      <td>tolong pihak developer untuk update hp saya ga...</td>\n",
       "      <td>5</td>\n",
       "      <td>0</td>\n",
       "      <td>NaN</td>\n",
       "      <td>2025-01-25 08:36:34</td>\n",
       "      <td>Mohon maaf atas kendala yang Bapak/Ibu alami. ...</td>\n",
       "      <td>2025-01-25 10:25:15</td>\n",
       "      <td>NaN</td>\n",
       "    </tr>\n",
       "    <tr>\n",
       "      <th>4</th>\n",
       "      <td>f8c117fe-4195-4c1f-bd76-2e9b79f905ba</td>\n",
       "      <td>Pengguna Google</td>\n",
       "      <td>https://play-lh.googleusercontent.com/EGemoI2N...</td>\n",
       "      <td>ok</td>\n",
       "      <td>5</td>\n",
       "      <td>0</td>\n",
       "      <td>4.5.7</td>\n",
       "      <td>2025-01-25 08:35:24</td>\n",
       "      <td>Thank you for the review. Hopefully the BCA mo...</td>\n",
       "      <td>2025-01-25 10:22:05</td>\n",
       "      <td>4.5.7</td>\n",
       "    </tr>\n",
       "    <tr>\n",
       "      <th>5</th>\n",
       "      <td>f6526b0c-9908-49a6-8897-9fda74c79321</td>\n",
       "      <td>Pengguna Google</td>\n",
       "      <td>https://play-lh.googleusercontent.com/EGemoI2N...</td>\n",
       "      <td>Bintang yg berkata</td>\n",
       "      <td>5</td>\n",
       "      <td>0</td>\n",
       "      <td>4.5.5</td>\n",
       "      <td>2025-01-25 08:22:11</td>\n",
       "      <td>Terima kasih atas ulasannya. Semoga aplikasi B...</td>\n",
       "      <td>2025-01-25 10:22:03</td>\n",
       "      <td>4.5.5</td>\n",
       "    </tr>\n",
       "    <tr>\n",
       "      <th>6</th>\n",
       "      <td>4d352a1e-8b13-4e4c-9142-f517eedd3b1d</td>\n",
       "      <td>Pengguna Google</td>\n",
       "      <td>https://play-lh.googleusercontent.com/EGemoI2N...</td>\n",
       "      <td>Good</td>\n",
       "      <td>5</td>\n",
       "      <td>0</td>\n",
       "      <td>NaN</td>\n",
       "      <td>2025-01-25 08:20:53</td>\n",
       "      <td>Thank you for the review. Hopefully the BCA mo...</td>\n",
       "      <td>2025-01-25 10:22:02</td>\n",
       "      <td>NaN</td>\n",
       "    </tr>\n",
       "    <tr>\n",
       "      <th>7</th>\n",
       "      <td>7be00b87-6199-4967-886b-8ee7c87d3545</td>\n",
       "      <td>Pengguna Google</td>\n",
       "      <td>https://play-lh.googleusercontent.com/EGemoI2N...</td>\n",
       "      <td>memper mudah</td>\n",
       "      <td>5</td>\n",
       "      <td>0</td>\n",
       "      <td>4.5.7</td>\n",
       "      <td>2025-01-25 06:16:22</td>\n",
       "      <td>Terima kasih atas ulasannya. Semoga aplikasi m...</td>\n",
       "      <td>2025-01-25 10:21:59</td>\n",
       "      <td>4.5.7</td>\n",
       "    </tr>\n",
       "    <tr>\n",
       "      <th>8</th>\n",
       "      <td>88b307db-d6b2-474a-a6a0-c6758f61ae11</td>\n",
       "      <td>Pengguna Google</td>\n",
       "      <td>https://play-lh.googleusercontent.com/EGemoI2N...</td>\n",
       "      <td>min, cara liat bukti tranfer gmna sih. kmren s...</td>\n",
       "      <td>1</td>\n",
       "      <td>0</td>\n",
       "      <td>4.5.7</td>\n",
       "      <td>2025-01-25 06:03:25</td>\n",
       "      <td>Mhn maaf ats kendalanya Bapak/Ibu. Cek bukti t...</td>\n",
       "      <td>2025-01-25 10:21:58</td>\n",
       "      <td>4.5.7</td>\n",
       "    </tr>\n",
       "    <tr>\n",
       "      <th>9</th>\n",
       "      <td>f04801c8-dda8-437c-8d83-390e1ebfbfd8</td>\n",
       "      <td>Pengguna Google</td>\n",
       "      <td>https://play-lh.googleusercontent.com/EGemoI2N...</td>\n",
       "      <td>Baik</td>\n",
       "      <td>5</td>\n",
       "      <td>0</td>\n",
       "      <td>4.5.7</td>\n",
       "      <td>2025-01-25 04:35:47</td>\n",
       "      <td>Terima kasih atas ulasannya. Semoga aplikasi B...</td>\n",
       "      <td>2025-01-25 10:21:58</td>\n",
       "      <td>4.5.7</td>\n",
       "    </tr>\n",
       "  </tbody>\n",
       "</table>\n",
       "</div>"
      ],
      "text/plain": [
       "                               reviewId         userName  \\\n",
       "0  d46e2914-795d-479c-a59f-a91cf3c2c475  Pengguna Google   \n",
       "1  2e383ccf-8c54-4f0f-a335-378060c6037b  Pengguna Google   \n",
       "2  6c5f1e51-4a74-4277-8e95-54dad6892f80  Pengguna Google   \n",
       "3  2e6d1b59-a8ac-4d14-bd4b-8ea099def924  Pengguna Google   \n",
       "4  f8c117fe-4195-4c1f-bd76-2e9b79f905ba  Pengguna Google   \n",
       "5  f6526b0c-9908-49a6-8897-9fda74c79321  Pengguna Google   \n",
       "6  4d352a1e-8b13-4e4c-9142-f517eedd3b1d  Pengguna Google   \n",
       "7  7be00b87-6199-4967-886b-8ee7c87d3545  Pengguna Google   \n",
       "8  88b307db-d6b2-474a-a6a0-c6758f61ae11  Pengguna Google   \n",
       "9  f04801c8-dda8-437c-8d83-390e1ebfbfd8  Pengguna Google   \n",
       "\n",
       "                                           userImage  \\\n",
       "0  https://play-lh.googleusercontent.com/EGemoI2N...   \n",
       "1  https://play-lh.googleusercontent.com/EGemoI2N...   \n",
       "2  https://play-lh.googleusercontent.com/EGemoI2N...   \n",
       "3  https://play-lh.googleusercontent.com/EGemoI2N...   \n",
       "4  https://play-lh.googleusercontent.com/EGemoI2N...   \n",
       "5  https://play-lh.googleusercontent.com/EGemoI2N...   \n",
       "6  https://play-lh.googleusercontent.com/EGemoI2N...   \n",
       "7  https://play-lh.googleusercontent.com/EGemoI2N...   \n",
       "8  https://play-lh.googleusercontent.com/EGemoI2N...   \n",
       "9  https://play-lh.googleusercontent.com/EGemoI2N...   \n",
       "\n",
       "                                             content  score  thumbsUpCount  \\\n",
       "0  Mohon donk kembalikan tanda biru hitam saat li...      1              0   \n",
       "1  Kenapa sekarang untuk transfer ke blu bca ada ...      2              0   \n",
       "2                                    Oke Terimakasih      5              0   \n",
       "3  tolong pihak developer untuk update hp saya ga...      5              0   \n",
       "4                                                 ok      5              0   \n",
       "5                                 Bintang yg berkata      5              0   \n",
       "6                                               Good      5              0   \n",
       "7                                       memper mudah      5              0   \n",
       "8  min, cara liat bukti tranfer gmna sih. kmren s...      1              0   \n",
       "9                                               Baik      5              0   \n",
       "\n",
       "  reviewCreatedVersion                   at  \\\n",
       "0                4.5.7  2025-01-25 10:22:40   \n",
       "1                4.5.7  2025-01-25 09:42:28   \n",
       "2                4.5.7  2025-01-25 08:57:48   \n",
       "3                  NaN  2025-01-25 08:36:34   \n",
       "4                4.5.7  2025-01-25 08:35:24   \n",
       "5                4.5.5  2025-01-25 08:22:11   \n",
       "6                  NaN  2025-01-25 08:20:53   \n",
       "7                4.5.7  2025-01-25 06:16:22   \n",
       "8                4.5.7  2025-01-25 06:03:25   \n",
       "9                4.5.7  2025-01-25 04:35:47   \n",
       "\n",
       "                                        replyContent            repliedAt  \\\n",
       "0  Mohon maaf atas ketidaknyamanan Bapak/Ibu, moh...  2025-01-25 10:33:13   \n",
       "1  Mhn maaf ats ketidaknyamanannya Bapak/Ibu, efe...  2025-01-25 10:22:09   \n",
       "2  Terima kasih atas ulasannya. Semoga aplikasi B...  2025-01-25 10:33:46   \n",
       "3  Mohon maaf atas kendala yang Bapak/Ibu alami. ...  2025-01-25 10:25:15   \n",
       "4  Thank you for the review. Hopefully the BCA mo...  2025-01-25 10:22:05   \n",
       "5  Terima kasih atas ulasannya. Semoga aplikasi B...  2025-01-25 10:22:03   \n",
       "6  Thank you for the review. Hopefully the BCA mo...  2025-01-25 10:22:02   \n",
       "7  Terima kasih atas ulasannya. Semoga aplikasi m...  2025-01-25 10:21:59   \n",
       "8  Mhn maaf ats kendalanya Bapak/Ibu. Cek bukti t...  2025-01-25 10:21:58   \n",
       "9  Terima kasih atas ulasannya. Semoga aplikasi B...  2025-01-25 10:21:58   \n",
       "\n",
       "  appVersion  \n",
       "0      4.5.7  \n",
       "1      4.5.7  \n",
       "2      4.5.7  \n",
       "3        NaN  \n",
       "4      4.5.7  \n",
       "5      4.5.5  \n",
       "6        NaN  \n",
       "7      4.5.7  \n",
       "8      4.5.7  \n",
       "9      4.5.7  "
      ]
     },
     "execution_count": 4,
     "metadata": {},
     "output_type": "execute_result"
    }
   ],
   "source": [
    "df = pd.read_csv('bca.csv', delimiter=',')\n",
    "df.head(10)"
   ]
  },
  {
   "cell_type": "code",
   "execution_count": 5,
   "metadata": {},
   "outputs": [
    {
     "name": "stdout",
     "output_type": "stream",
     "text": [
      "<class 'pandas.core.frame.DataFrame'>\n",
      "RangeIndex: 14000 entries, 0 to 13999\n",
      "Data columns (total 11 columns):\n",
      " #   Column                Non-Null Count  Dtype \n",
      "---  ------                --------------  ----- \n",
      " 0   reviewId              14000 non-null  object\n",
      " 1   userName              14000 non-null  object\n",
      " 2   userImage             14000 non-null  object\n",
      " 3   content               14000 non-null  object\n",
      " 4   score                 14000 non-null  int64 \n",
      " 5   thumbsUpCount         14000 non-null  int64 \n",
      " 6   reviewCreatedVersion  11579 non-null  object\n",
      " 7   at                    14000 non-null  object\n",
      " 8   replyContent          14000 non-null  object\n",
      " 9   repliedAt             14000 non-null  object\n",
      " 10  appVersion            11579 non-null  object\n",
      "dtypes: int64(2), object(9)\n",
      "memory usage: 1.2+ MB\n"
     ]
    }
   ],
   "source": [
    "df.info()"
   ]
  },
  {
   "cell_type": "code",
   "execution_count": 6,
   "metadata": {},
   "outputs": [
    {
     "data": {
      "text/plain": [
       "(14000, 11)"
      ]
     },
     "execution_count": 6,
     "metadata": {},
     "output_type": "execute_result"
    }
   ],
   "source": [
    "df.shape"
   ]
  },
  {
   "cell_type": "code",
   "execution_count": 7,
   "metadata": {},
   "outputs": [
    {
     "data": {
      "text/plain": [
       "reviewId                   0\n",
       "userName                   0\n",
       "userImage                  0\n",
       "content                    0\n",
       "score                      0\n",
       "thumbsUpCount              0\n",
       "reviewCreatedVersion    2421\n",
       "at                         0\n",
       "replyContent               0\n",
       "repliedAt                  0\n",
       "appVersion              2421\n",
       "dtype: int64"
      ]
     },
     "execution_count": 7,
     "metadata": {},
     "output_type": "execute_result"
    }
   ],
   "source": [
    "df.isnull().sum()"
   ]
  },
  {
   "cell_type": "code",
   "execution_count": 8,
   "metadata": {},
   "outputs": [],
   "source": [
    "df2 = df.dropna()"
   ]
  },
  {
   "cell_type": "code",
   "execution_count": 9,
   "metadata": {},
   "outputs": [
    {
     "data": {
      "text/plain": [
       "reviewId                0\n",
       "userName                0\n",
       "userImage               0\n",
       "content                 0\n",
       "score                   0\n",
       "thumbsUpCount           0\n",
       "reviewCreatedVersion    0\n",
       "at                      0\n",
       "replyContent            0\n",
       "repliedAt               0\n",
       "appVersion              0\n",
       "dtype: int64"
      ]
     },
     "execution_count": 9,
     "metadata": {},
     "output_type": "execute_result"
    }
   ],
   "source": [
    "df2.isnull().sum()"
   ]
  },
  {
   "cell_type": "code",
   "execution_count": 10,
   "metadata": {},
   "outputs": [
    {
     "data": {
      "text/plain": [
       "(11579, 11)"
      ]
     },
     "execution_count": 10,
     "metadata": {},
     "output_type": "execute_result"
    }
   ],
   "source": [
    "df2.shape"
   ]
  },
  {
   "cell_type": "markdown",
   "metadata": {},
   "source": [
    "#### Selecting column for Sentiment [Content]"
   ]
  },
  {
   "cell_type": "code",
   "execution_count": 11,
   "metadata": {},
   "outputs": [
    {
     "data": {
      "text/html": [
       "<div>\n",
       "<style scoped>\n",
       "    .dataframe tbody tr th:only-of-type {\n",
       "        vertical-align: middle;\n",
       "    }\n",
       "\n",
       "    .dataframe tbody tr th {\n",
       "        vertical-align: top;\n",
       "    }\n",
       "\n",
       "    .dataframe thead th {\n",
       "        text-align: right;\n",
       "    }\n",
       "</style>\n",
       "<table border=\"1\" class=\"dataframe\">\n",
       "  <thead>\n",
       "    <tr style=\"text-align: right;\">\n",
       "      <th></th>\n",
       "      <th>content</th>\n",
       "      <th>score</th>\n",
       "      <th>at</th>\n",
       "    </tr>\n",
       "  </thead>\n",
       "  <tbody>\n",
       "    <tr>\n",
       "      <th>0</th>\n",
       "      <td>Mohon donk kembalikan tanda biru hitam saat lihat transaksi . Biru masuk hitam keluar.</td>\n",
       "      <td>1</td>\n",
       "      <td>2025-01-25 10:22:40</td>\n",
       "    </tr>\n",
       "    <tr>\n",
       "      <th>1</th>\n",
       "      <td>Kenapa sekarang untuk transfer ke blu bca ada biaya admin nya? Dulu ga ada..</td>\n",
       "      <td>2</td>\n",
       "      <td>2025-01-25 09:42:28</td>\n",
       "    </tr>\n",
       "    <tr>\n",
       "      <th>2</th>\n",
       "      <td>Oke Terimakasih</td>\n",
       "      <td>5</td>\n",
       "      <td>2025-01-25 08:57:48</td>\n",
       "    </tr>\n",
       "    <tr>\n",
       "      <th>3</th>\n",
       "      <td>tolong pihak developer untuk update hp saya ga bisa login</td>\n",
       "      <td>5</td>\n",
       "      <td>2025-01-25 08:36:34</td>\n",
       "    </tr>\n",
       "    <tr>\n",
       "      <th>4</th>\n",
       "      <td>ok</td>\n",
       "      <td>5</td>\n",
       "      <td>2025-01-25 08:35:24</td>\n",
       "    </tr>\n",
       "    <tr>\n",
       "      <th>5</th>\n",
       "      <td>Bintang yg berkata</td>\n",
       "      <td>5</td>\n",
       "      <td>2025-01-25 08:22:11</td>\n",
       "    </tr>\n",
       "    <tr>\n",
       "      <th>6</th>\n",
       "      <td>Good</td>\n",
       "      <td>5</td>\n",
       "      <td>2025-01-25 08:20:53</td>\n",
       "    </tr>\n",
       "    <tr>\n",
       "      <th>7</th>\n",
       "      <td>memper mudah</td>\n",
       "      <td>5</td>\n",
       "      <td>2025-01-25 06:16:22</td>\n",
       "    </tr>\n",
       "    <tr>\n",
       "      <th>8</th>\n",
       "      <td>min, cara liat bukti tranfer gmna sih. kmren sya tf tapi pnding. bsok ny liat udah gak ad pending nya, tapi liat buktinya gak ada di notif. gimna min?</td>\n",
       "      <td>1</td>\n",
       "      <td>2025-01-25 06:03:25</td>\n",
       "    </tr>\n",
       "    <tr>\n",
       "      <th>9</th>\n",
       "      <td>Baik</td>\n",
       "      <td>5</td>\n",
       "      <td>2025-01-25 04:35:47</td>\n",
       "    </tr>\n",
       "  </tbody>\n",
       "</table>\n",
       "</div>"
      ],
      "text/plain": [
       "                                                                                                                                                  content  \\\n",
       "0                                                                  Mohon donk kembalikan tanda biru hitam saat lihat transaksi . Biru masuk hitam keluar.   \n",
       "1                                                                            Kenapa sekarang untuk transfer ke blu bca ada biaya admin nya? Dulu ga ada..   \n",
       "2                                                                                                                                         Oke Terimakasih   \n",
       "3                                                                                               tolong pihak developer untuk update hp saya ga bisa login   \n",
       "4                                                                                                                                                      ok   \n",
       "5                                                                                                                                      Bintang yg berkata   \n",
       "6                                                                                                                                                    Good   \n",
       "7                                                                                                                                            memper mudah   \n",
       "8  min, cara liat bukti tranfer gmna sih. kmren sya tf tapi pnding. bsok ny liat udah gak ad pending nya, tapi liat buktinya gak ada di notif. gimna min?   \n",
       "9                                                                                                                                                    Baik   \n",
       "\n",
       "   score                   at  \n",
       "0      1  2025-01-25 10:22:40  \n",
       "1      2  2025-01-25 09:42:28  \n",
       "2      5  2025-01-25 08:57:48  \n",
       "3      5  2025-01-25 08:36:34  \n",
       "4      5  2025-01-25 08:35:24  \n",
       "5      5  2025-01-25 08:22:11  \n",
       "6      5  2025-01-25 08:20:53  \n",
       "7      5  2025-01-25 06:16:22  \n",
       "8      1  2025-01-25 06:03:25  \n",
       "9      5  2025-01-25 04:35:47  "
      ]
     },
     "execution_count": 11,
     "metadata": {},
     "output_type": "execute_result"
    }
   ],
   "source": [
    "# Selecting specific column\n",
    "pd.set_option('display.max_colwidth', None)\n",
    "df2 = df[['content','score','at']]\n",
    "df2.head(10)"
   ]
  },
  {
   "cell_type": "markdown",
   "metadata": {},
   "source": [
    "### Quick EDA🌎"
   ]
  },
  {
   "cell_type": "code",
   "execution_count": 12,
   "metadata": {},
   "outputs": [],
   "source": [
    "import seaborn as sns\n",
    "import matplotlib.pyplot as plt"
   ]
  },
  {
   "cell_type": "code",
   "execution_count": 13,
   "metadata": {},
   "outputs": [
    {
     "data": {
      "image/png": "[encoded data removed]",
      "text/plain": [
       "<Figure size 600x400 with 1 Axes>"
      ]
     },
     "metadata": {},
     "output_type": "display_data"
    }
   ],
   "source": [
    "score = df2['score'].value_counts().sort_index()\n",
    "plt.figure(figsize=(6,4))\n",
    "colors = ['red','green','yellow','blue','purple']\n",
    "ax = score.plot(kind='bar', color=colors)\n",
    "plt.xlabel(\"Star rating\")\n",
    "plt.ylabel(\"Number of Reviews\")\n",
    "plt.title(\"BCA Mobile Play Store Reviews\")\n",
    "plt.xticks(rotation=0)\n",
    "\n",
    "# Add labels to the bars\n",
    "for p in ax.patches:\n",
    "    ax.annotate(str(p.get_height()), (p.get_x() + p.get_width() / 2, p.get_height()), ha='center', va='bottom')\n",
    "\n",
    "plt.show()"
   ]
  },
  {
   "cell_type": "code",
   "execution_count": 16,
   "metadata": {},
   "outputs": [
    {
     "name": "stderr",
     "output_type": "stream",
     "text": [
      "C:\\Users\\Darren\\AppData\\Local\\Temp\\ipykernel_12332\\4013758540.py:12: SettingWithCopyWarning: \n",
      "A value is trying to be set on a copy of a slice from a DataFrame.\n",
      "Try using .loc[row_indexer,col_indexer] = value instead\n",
      "\n",
      "See the caveats in the documentation: https://pandas.pydata.org/pandas-docs/stable/user_guide/indexing.html#returning-a-view-versus-a-copy\n",
      "  df2['sentiment'] = df2['score'].apply(quick_sentiment)\n"
     ]
    },
    {
     "data": {
      "image/png": "[encoded data removed]",
      "text/plain": [
       "<Figure size 600x400 with 1 Axes>"
      ]
     },
     "metadata": {},
     "output_type": "display_data"
    }
   ],
   "source": [
    "def quick_sentiment(rating):\n",
    "    rating = int(rating)\n",
    "\n",
    "    #convert to class\n",
    "    if rating<= 2:\n",
    "        return 0 #negative\n",
    "    elif rating==3:\n",
    "        return 1 #neutral\n",
    "    else:\n",
    "        return 2 #positive\n",
    "    \n",
    "df2['sentiment'] = df2['score'].apply(quick_sentiment)\n",
    "sentimentcounts =df2['sentiment'].value_counts().sort_index()\n",
    "plt.figure(figsize=(6,4))\n",
    "sentimentcolors = ['red','yellow','green']\n",
    "ax = sentimentcounts.plot(kind='bar',color=sentimentcolors)\n",
    "\n",
    "plt.xlabel(\"Sentiment class\")\n",
    "plt.ylabel(\"Number of Review\")\n",
    "plt.title(\"Quick sentiment BCA Mobile on Play Store\")\n",
    "plt.xticks([0,1,2],['Negative','Neutral','Positive'], rotation=0)\n",
    "\n",
    "# Add labels to the bars\n",
    "for p in ax.patches:\n",
    "    ax.annotate(str(p.get_height()), (p.get_x() + p.get_width() / 2, p.get_height()), ha='center', va='bottom')\n",
    "\n",
    "plt.show()"
   ]
  },
  {
   "cell_type": "markdown",
   "metadata": {},
   "source": [
    "### Pre-processing Data (Text Cleaning)"
   ]
  },
  {
   "cell_type": "code",
   "execution_count": 17,
   "metadata": {},
   "outputs": [],
   "source": [
    "def preprocess_text(text):\n",
    "    text = re.sub(r'<[^>]+>', '', text)  # Remove HTML tags\n",
    "    text = re.sub(r'[^\\w\\s]', '', text)  # Remove special characters\n",
    "    text = re.sub(r'\\d+', '', text)      # Remove numbers\n",
    "    text = re.sub(r'(.)\\1+', r'\\1\\1', text) # Remove repeated words\n",
    "    text = text.lower()                  # Convert to lowercase\n",
    "    return text"
   ]
  },
  {
   "cell_type": "code",
   "execution_count": 18,
   "metadata": {},
   "outputs": [
    {
     "name": "stderr",
     "output_type": "stream",
     "text": [
      "[nltk_data] Downloading package punkt_tab to\n",
      "[nltk_data]     C:\\Users\\Darren\\AppData\\Roaming\\nltk_data...\n",
      "[nltk_data]   Package punkt_tab is already up-to-date!\n"
     ]
    }
   ],
   "source": [
    "import nltk\n",
    "nltk.download('punkt_tab')\n",
    "\n",
    "df2.loc[:,'content'] = df2['content'].astype(str).apply(preprocess_text)\n"
   ]
  },
  {
   "cell_type": "code",
   "execution_count": 19,
   "metadata": {},
   "outputs": [
    {
     "data": {
      "text/html": [
       "<div>\n",
       "<style scoped>\n",
       "    .dataframe tbody tr th:only-of-type {\n",
       "        vertical-align: middle;\n",
       "    }\n",
       "\n",
       "    .dataframe tbody tr th {\n",
       "        vertical-align: top;\n",
       "    }\n",
       "\n",
       "    .dataframe thead th {\n",
       "        text-align: right;\n",
       "    }\n",
       "</style>\n",
       "<table border=\"1\" class=\"dataframe\">\n",
       "  <thead>\n",
       "    <tr style=\"text-align: right;\">\n",
       "      <th></th>\n",
       "      <th>content</th>\n",
       "      <th>score</th>\n",
       "      <th>at</th>\n",
       "      <th>sentiment</th>\n",
       "    </tr>\n",
       "  </thead>\n",
       "  <tbody>\n",
       "    <tr>\n",
       "      <th>0</th>\n",
       "      <td>mohon donk kembalikan tanda biru hitam saat lihat transaksi  biru masuk hitam keluar</td>\n",
       "      <td>1</td>\n",
       "      <td>2025-01-25 10:22:40</td>\n",
       "      <td>0</td>\n",
       "    </tr>\n",
       "    <tr>\n",
       "      <th>1</th>\n",
       "      <td>kenapa sekarang untuk transfer ke blu bca ada biaya admin nya dulu ga ada</td>\n",
       "      <td>2</td>\n",
       "      <td>2025-01-25 09:42:28</td>\n",
       "      <td>0</td>\n",
       "    </tr>\n",
       "    <tr>\n",
       "      <th>2</th>\n",
       "      <td>oke terimakasih</td>\n",
       "      <td>5</td>\n",
       "      <td>2025-01-25 08:57:48</td>\n",
       "      <td>2</td>\n",
       "    </tr>\n",
       "    <tr>\n",
       "      <th>3</th>\n",
       "      <td>tolong pihak developer untuk update hp saya ga bisa login</td>\n",
       "      <td>5</td>\n",
       "      <td>2025-01-25 08:36:34</td>\n",
       "      <td>2</td>\n",
       "    </tr>\n",
       "    <tr>\n",
       "      <th>4</th>\n",
       "      <td>ok</td>\n",
       "      <td>5</td>\n",
       "      <td>2025-01-25 08:35:24</td>\n",
       "      <td>2</td>\n",
       "    </tr>\n",
       "    <tr>\n",
       "      <th>5</th>\n",
       "      <td>bintang yg berkata</td>\n",
       "      <td>5</td>\n",
       "      <td>2025-01-25 08:22:11</td>\n",
       "      <td>2</td>\n",
       "    </tr>\n",
       "    <tr>\n",
       "      <th>6</th>\n",
       "      <td>good</td>\n",
       "      <td>5</td>\n",
       "      <td>2025-01-25 08:20:53</td>\n",
       "      <td>2</td>\n",
       "    </tr>\n",
       "    <tr>\n",
       "      <th>7</th>\n",
       "      <td>memper mudah</td>\n",
       "      <td>5</td>\n",
       "      <td>2025-01-25 06:16:22</td>\n",
       "      <td>2</td>\n",
       "    </tr>\n",
       "    <tr>\n",
       "      <th>8</th>\n",
       "      <td>min cara liat bukti tranfer gmna sih kmren sya tf tapi pnding bsok ny liat udah gak ad pending nya tapi liat buktinya gak ada di notif gimna min</td>\n",
       "      <td>1</td>\n",
       "      <td>2025-01-25 06:03:25</td>\n",
       "      <td>0</td>\n",
       "    </tr>\n",
       "    <tr>\n",
       "      <th>9</th>\n",
       "      <td>baik</td>\n",
       "      <td>5</td>\n",
       "      <td>2025-01-25 04:35:47</td>\n",
       "      <td>2</td>\n",
       "    </tr>\n",
       "  </tbody>\n",
       "</table>\n",
       "</div>"
      ],
      "text/plain": [
       "                                                                                                                                            content  \\\n",
       "0                                                              mohon donk kembalikan tanda biru hitam saat lihat transaksi  biru masuk hitam keluar   \n",
       "1                                                                         kenapa sekarang untuk transfer ke blu bca ada biaya admin nya dulu ga ada   \n",
       "2                                                                                                                                   oke terimakasih   \n",
       "3                                                                                         tolong pihak developer untuk update hp saya ga bisa login   \n",
       "4                                                                                                                                                ok   \n",
       "5                                                                                                                                bintang yg berkata   \n",
       "6                                                                                                                                              good   \n",
       "7                                                                                                                                      memper mudah   \n",
       "8  min cara liat bukti tranfer gmna sih kmren sya tf tapi pnding bsok ny liat udah gak ad pending nya tapi liat buktinya gak ada di notif gimna min   \n",
       "9                                                                                                                                              baik   \n",
       "\n",
       "   score                   at  sentiment  \n",
       "0      1  2025-01-25 10:22:40          0  \n",
       "1      2  2025-01-25 09:42:28          0  \n",
       "2      5  2025-01-25 08:57:48          2  \n",
       "3      5  2025-01-25 08:36:34          2  \n",
       "4      5  2025-01-25 08:35:24          2  \n",
       "5      5  2025-01-25 08:22:11          2  \n",
       "6      5  2025-01-25 08:20:53          2  \n",
       "7      5  2025-01-25 06:16:22          2  \n",
       "8      1  2025-01-25 06:03:25          0  \n",
       "9      5  2025-01-25 04:35:47          2  "
      ]
     },
     "execution_count": 19,
     "metadata": {},
     "output_type": "execute_result"
    }
   ],
   "source": [
    "# preprocessed data\n",
    "\n",
    "pd.set_option('display.max_colwidth', None)  # Display full content of columns\n",
    "df2.head(10)"
   ]
  },
  {
   "cell_type": "code",
   "execution_count": 20,
   "metadata": {},
   "outputs": [
    {
     "data": {
      "text/plain": [
       "content      0\n",
       "score        0\n",
       "at           0\n",
       "sentiment    0\n",
       "dtype: int64"
      ]
     },
     "execution_count": 20,
     "metadata": {},
     "output_type": "execute_result"
    }
   ],
   "source": [
    "df2.isnull().sum()"
   ]
  },
  {
   "cell_type": "code",
   "execution_count": 19,
   "metadata": {},
   "outputs": [],
   "source": [
    "df2.to_csv('bca_preprocessed_data_stlit.csv', index=False)"
   ]
  }
 ],
 "metadata": {
  "kernelspec": {
   "display_name": "pytorch_nvidia",
   "language": "python",
   "name": "python3"
  },
  "language_info": {
   "codemirror_mode": {
    "name": "ipython",
    "version": 3
   },
   "file_extension": ".py",
   "mimetype": "text/x-python",
   "name": "python",
   "nbconvert_exporter": "python",
   "pygments_lexer": "ipython3",
   "version": "3.10.0"
  }
 },
 "nbformat": 4,
 "nbformat_minor": 2
}
